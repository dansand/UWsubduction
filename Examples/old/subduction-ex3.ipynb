{
 "cells": [
  {
   "cell_type": "markdown",
   "metadata": {
    "collapsed": true
   },
   "source": [
    "# Temp. diffusion & open SideWalls\n",
    "\n",
    "## Summary \n",
    "\n",
    "In this notebook we add temperature diffusion, and explore using different boundary conditions. Modelling temperature diffusion means we will now be evolving a mesh variable (temperatureField) rather than just advecting a swarm variable as in previous notebooks. This is prett simple, requiring that we:\n",
    "\n",
    "* project the initial temperature structure (on the swarm var. ) onto the temperatureField mesh variable\n",
    "* create an advectionDiffusion  system with appropriate boundary conditions. \n",
    "* connnect the bouyancy force and rheology laws to the temperatureField rather than the swarm\n",
    "\n",
    "\n",
    "\n",
    "\n",
    "## Dev Notes\n",
    "\n",
    "\n",
    "* If MOR lithostatic pressure tractions are applied at the sidewalls and bottom walls ($\\sigma_{ij} \\cdot n = 0$), the slab basically falls out the bottom. Once the slab leaves the bottom, the density dissapears, so $\\vec{F}_{slab}$ reaches an equilibrium. Some trench advance occurs in the early part of the free sinking phase.  \n",
    "\n",
    "* if only sidewalls are open, and the $\\vec{V}_{x}$ is fixed to zero on a bottom edge node, the slab undergoes a significant trench advance in the early part of the free sinking phase. Is this an artifact of low resolution? Very much so. With higher resolution, the trench advance dissapears. The trench is then stationary until the salb encounters the lower mantle, after which a period of rollback occurs. However, the equilibrium dip appears to be vertical, and the trench tends to stationary. This appears to be true if we start with MORS at the sidewalls, or we simply have constant-width plates extending the sidewalls (like in Chertova)\n",
    "\n"
   ]
  },
  {
   "cell_type": "markdown",
   "metadata": {},
   "source": [
    "## Imports"
   ]
  },
  {
   "cell_type": "code",
   "execution_count": 1,
   "metadata": {
    "collapsed": true
   },
   "outputs": [],
   "source": [
    "#use this block to point to a local version of UWsubduction\n",
    "import sys\n",
    "\n",
    "try:\n",
    "    sys.path.append('..')\n",
    "except:\n",
    "    pass"
   ]
  },
  {
   "cell_type": "code",
   "execution_count": 2,
   "metadata": {
    "collapsed": true
   },
   "outputs": [],
   "source": [
    "import os\n",
    "import numpy as np\n",
    "import underworld as uw\n",
    "from underworld import function as fn\n",
    "import glucifer\n",
    "from easydict import EasyDict as edict\n",
    "import networkx as nx\n",
    "import operator\n",
    "import UWsubduction as usub"
   ]
  },
  {
   "cell_type": "code",
   "execution_count": null,
   "metadata": {
    "collapsed": true
   },
   "outputs": [],
   "source": []
  },
  {
   "cell_type": "code",
   "execution_count": null,
   "metadata": {
    "collapsed": true
   },
   "outputs": [],
   "source": []
  },
  {
   "cell_type": "code",
   "execution_count": null,
   "metadata": {
    "collapsed": true
   },
   "outputs": [],
   "source": []
  },
  {
   "cell_type": "markdown",
   "metadata": {},
   "source": [
    "## Create output dir structure"
   ]
  },
  {
   "cell_type": "code",
   "execution_count": 3,
   "metadata": {
    "collapsed": true
   },
   "outputs": [],
   "source": [
    "#outputPath = os.path.join(os.path.abspath(\".\"),\"output/\")\n",
    "outputPath = os.path.join(os.path.abspath(\".\"),\"output/files\")\n",
    "\n",
    "if uw.rank()==0:\n",
    "    if not os.path.exists(outputPath):\n",
    "        os.makedirs(outputPath)\n",
    "uw.mpi.barrier()"
   ]
  },
  {
   "cell_type": "markdown",
   "metadata": {},
   "source": [
    "## Parameters / Scaling\n",
    "\n",
    "* For more information see, `UWsubduction/Background/scaling`\n"
   ]
  },
  {
   "cell_type": "code",
   "execution_count": 4,
   "metadata": {},
   "outputs": [
    {
     "name": "stderr",
     "output_type": "stream",
     "text": [
      "/root/underworld2/unsupported/scaling/__init__.py:13: UserWarning: \n",
      "\n",
      "    The scaling module is not supported.\n",
      "\n",
      "    It requires 'pint' as a dependency.\n",
      "\n",
      "    You can install pint by running:\n",
      "\n",
      "    'pip install pint' in a terminal\n",
      "\n",
      "    Questions should be addressed to romain.beucher@unimelb.edu.au \n",
      " \n",
      "  Questions should be addressed to romain.beucher@unimelb.edu.au \\n \"\"\"\n"
     ]
    }
   ],
   "source": [
    "import UWsubduction.params as params \n",
    "\n",
    "#define some more concise names\n",
    "ur = params.UnitRegistry\n",
    "sca = params.sub_scaling\n",
    "ndimlz = sca.nonDimensionalize\n",
    "#build the dimensionless paramter / model dictionaries\n",
    "ndp = params.build_nondim_dict(params.paramDict_dim  , sca)   \n",
    "md = params.build_nondim_dict(params.modelDict_dim  , sca)\n",
    "\n",
    "assert ndimlz(params.paramDict_dim.refLength) == 1.0\n",
    "\n",
    "# changes to base params (for testing)\n",
    "md.faultThickness *= 1.5 #15 km\n",
    "md.res = 64\n",
    "md.aspectRatio=4\n",
    "md.depth *= 1.5\n",
    "md.slabInitMaxDepth = 750/2900.\n",
    "ndp.lowerMantleViscFac = 10.\n",
    "ndp.yieldStressMax *= 0.75"
   ]
  },
  {
   "cell_type": "markdown",
   "metadata": {
    "collapsed": true
   },
   "source": [
    "## Build / refine mesh, Stokes Variables"
   ]
  },
  {
   "cell_type": "code",
   "execution_count": 5,
   "metadata": {},
   "outputs": [],
   "source": [
    "yres = int(md.res)\n",
    "xres = int(md.res*6) \n",
    "\n",
    "halfWidth = 0.5*md.depth*md.aspectRatio \n",
    "\n",
    "minCoord_    = (-1.*halfWidth, 1. - md.depth) \n",
    "maxCoord_    = (halfWidth, 1.)\n",
    "\n",
    "mesh = uw.mesh.FeMesh_Cartesian( elementType = (md.elementType),\n",
    "                                 elementRes  = (xres, yres), \n",
    "                                 minCoord    = minCoord_, \n",
    "                                 maxCoord    = maxCoord_) \n",
    "\n",
    "velocityField = uw.mesh.MeshVariable( mesh=mesh,         nodeDofCount=2)\n",
    "pressureField   = uw.mesh.MeshVariable( mesh=mesh.subMesh, nodeDofCount=1 )\n",
    "temperatureField    = uw.mesh.MeshVariable( mesh=mesh,         nodeDofCount=1 )\n",
    "temperatureDotField = uw.mesh.MeshVariable( mesh=mesh,         nodeDofCount=1 ) \n",
    "    \n",
    "\n",
    "velocityField.data[:] = 0.\n",
    "pressureField.data[:] = 0.\n",
    "temperatureField.data[:] = 0.\n",
    "temperatureDotField.data[:] = 0."
   ]
  },
  {
   "cell_type": "code",
   "execution_count": 6,
   "metadata": {},
   "outputs": [],
   "source": [
    "#mesh.reset() #call to reset mesh nodes to original locations\n",
    "\n",
    "if md.refineHoriz:\n",
    "    \n",
    "    with mesh.deform_mesh():\n",
    "        \n",
    "        normXs = 2.*mesh.data[:,0]/(mesh.maxCoord[0] - mesh.minCoord[0])\n",
    "        mesh.data[:,0] = mesh.data[:,0] * np.exp(md.meshRefineFactor*normXs**2) / np.exp(md.meshRefineFactor*1.0**2)    \n",
    "    \n",
    "if md.refineVert:\n",
    "\n",
    "    with mesh.deform_mesh():\n",
    "        \n",
    "        mesh.data[:,1] = mesh.data[:,1] - 1.0\n",
    "\n",
    "        normYs = -1.*mesh.data[:,1]/(mesh.maxCoord[1] - mesh.minCoord[1])\n",
    "        mesh.data[:,1] = mesh.data[:,1] * np.exp(md.meshRefineFactor*normYs**2)/np.exp(md.meshRefineFactor*1.0**2)\n",
    "\n",
    "        mesh.data[:,1] = mesh.data[:,1] + 1.0\n"
   ]
  },
  {
   "cell_type": "code",
   "execution_count": 7,
   "metadata": {},
   "outputs": [],
   "source": [
    "#figMesh = glucifer.Figure()\n",
    "#figMesh.append( glucifer.objects.Mesh(mesh)) \n",
    "#figMesh.show()\n",
    "#figMesh.save_database('test.gldb')"
   ]
  },
  {
   "cell_type": "code",
   "execution_count": 8,
   "metadata": {},
   "outputs": [],
   "source": [
    "#assert np.allclose(mesh.maxCoord[1], mesh.data[:,1].max())"
   ]
  },
  {
   "cell_type": "markdown",
   "metadata": {},
   "source": [
    "## Build plate model (TectModel)\n",
    "\n",
    "* For more information see, `UWsubduction/Background/tectModel`"
   ]
  },
  {
   "cell_type": "code",
   "execution_count": 9,
   "metadata": {},
   "outputs": [],
   "source": [
    "endTime = ndimlz(30*ur.megayear) \n",
    "refVel = ndimlz(2*ur.cm/ur.year)\n",
    "plateModelDt = ndimlz(0.1*ur.megayear)"
   ]
  },
  {
   "cell_type": "code",
   "execution_count": 10,
   "metadata": {},
   "outputs": [],
   "source": [
    "#Create tectonic model, add plates\n",
    "tm = usub.TectonicModel(mesh, 0, endTime, plateModelDt)\n",
    "tm.add_plate(1, velocities=False)\n",
    "tm.add_plate(2, velocities=False)\n",
    "\n",
    "#add plate boundaries\n",
    "tm.add_left_boundary(1, plateInitAge=md.slabAge, velocities=False)\n",
    "tm.add_subzone(1, 2, md.subZoneLoc, subInitAge=md.slabAge, upperInitAge=md.opAgeAtTrench)\n",
    "tm.add_right_boundary(2, plateInitAge=md.opAgeAtTrench, velocities=False)"
   ]
  },
  {
   "cell_type": "markdown",
   "metadata": {},
   "source": [
    "\n",
    "\n",
    "## Build plate age / temperature Fns"
   ]
  },
  {
   "cell_type": "code",
   "execution_count": 11,
   "metadata": {},
   "outputs": [],
   "source": [
    "pIdFn = tm.plate_id_fn()\n",
    "pAgeDict = tm.plate_age_fn() \n",
    "\n",
    "fnAge_map = fn.branching.map(fn_key = pIdFn , \n",
    "                          mapping = pAgeDict )\n",
    "\n",
    "#fig = glucifer.Figure(figsize=(600, 300))\n",
    "#fig.append( glucifer.objects.Surface(tm.mesh, fnAge_map ))\n",
    "#fig.show()"
   ]
  },
  {
   "cell_type": "code",
   "execution_count": 12,
   "metadata": {},
   "outputs": [],
   "source": [
    "coordinate = fn.input()\n",
    "depthFn = mesh.maxCoord[1] - coordinate[1]\n",
    "\n",
    "platethickness = 2.32*fn.math.sqrt(1.*fnAge_map )  \n",
    "\n",
    "halfSpaceTemp = ndp.potentialTemp_*fn.math.erf((depthFn)/(2.*fn.math.sqrt(1.*fnAge_map)))\n",
    "\n",
    "plateTempProxFn = fn.branching.conditional( ((depthFn > platethickness, ndp.potentialTemp_ ), \n",
    "                                           (True,                      halfSpaceTemp)  ))\n",
    "\n"
   ]
  },
  {
   "cell_type": "code",
   "execution_count": 13,
   "metadata": {},
   "outputs": [],
   "source": [
    "#fig = glucifer.Figure(figsize=(600, 300))\n",
    "#fig.append( glucifer.objects.Surface(tm.mesh, plateTempProxFn, onMesh = True))\n",
    "#fig.show()"
   ]
  },
  {
   "cell_type": "markdown",
   "metadata": {},
   "source": [
    "## Make swarm and Swarm Vars"
   ]
  },
  {
   "cell_type": "code",
   "execution_count": 14,
   "metadata": {},
   "outputs": [],
   "source": [
    "swarm = uw.swarm.Swarm(mesh=mesh, particleEscape=True)\n",
    "layout = uw.swarm.layouts.PerCellRandomLayout(swarm=swarm, particlesPerCell=int(md.ppc))\n",
    "swarm.populate_using_layout( layout=layout ) # Now use it to populate.\n",
    "proxyTempVariable = swarm.add_variable( dataType=\"double\", count=1 )\n",
    "proximityVariable      = swarm.add_variable( dataType=\"int\", count=1 )\n",
    "signedDistanceVariable = swarm.add_variable( dataType=\"double\", count=1 )\n",
    "\n",
    "#\n",
    "proxyTempVariable.data[:] = 1.0\n",
    "proximityVariable.data[:] = 0.0\n",
    "signedDistanceVariable.data[:] = 0.0\n"
   ]
  },
  {
   "cell_type": "markdown",
   "metadata": {},
   "source": [
    "## Create tmUwMap"
   ]
  },
  {
   "cell_type": "code",
   "execution_count": 15,
   "metadata": {},
   "outputs": [],
   "source": [
    "#Now we have built are primary FEM / Swarm objects, we collect some of these in a dictionary,\n",
    "#to provide a consistent form to pass to methods of TectModel\n",
    "\n",
    "tmUwMap = usub.tm_uw_map([], velocityField, swarm, \n",
    "                    signedDistanceVariable, proxyTempVariable, proximityVariable)"
   ]
  },
  {
   "cell_type": "markdown",
   "metadata": {},
   "source": [
    "## Make slab perturbation and subduction interface\n",
    "\n",
    "* For more information see, `UWsubduction/Background/interface2D`\n"
   ]
  },
  {
   "cell_type": "code",
   "execution_count": 16,
   "metadata": {
    "collapsed": true
   },
   "outputs": [],
   "source": [
    "def circGradientFn(S):\n",
    "    if S == 0.:\n",
    "        return 0.\n",
    "    elif S < md.radiusOfCurv:\n",
    "        return max(-S/np.sqrt((md.radiusOfCurv**2 - S**2)), -1e3)\n",
    "    else:\n",
    "        return -1e5\n",
    "\n",
    "def circGradientFn2(S):\n",
    "    if S == 0.:\n",
    "        return 0.\n",
    "    elif S < 1.*md.radiusOfCurv:\n",
    "        return max(-S/np.sqrt((md.radiusOfCurv**2 - S**2)), -3.)\n",
    "    else:\n",
    "        return -3.\n",
    "\n",
    "def circGradientFn3(S):\n",
    "    if S < 1.*md.radiusOfCurv:\n",
    "        return circGradientFn2(S)\n",
    "    else:\n",
    "        return min(circGradientFn2(2.6*md.radiusOfCurv - S), -0.1)"
   ]
  },
  {
   "cell_type": "code",
   "execution_count": 17,
   "metadata": {},
   "outputs": [],
   "source": [
    "#define fault particle spacing\n",
    "ds = (tm.maxX - tm.minX)/(8.*tm.mesh.elementRes[0])\n",
    "\n",
    "fCollection = usub.interface_collection([])\n",
    "\n",
    "deepDepth = ndimlz(150.*ur.kilometer)\n",
    "\n",
    "for e in tm.undirected.edges():\n",
    "    if tm.is_subduction_boundary(e):\n",
    "        usub.build_slab_distance(tm, e, circGradientFn3, md.slabInitMaxDepth, tmUwMap)\n",
    "        fb = usub.build_fault(tm, e, circGradientFn3, md.faultThickness , md.slabInitMaxDepth, ds, md.faultThickness, tmUwMap)\n",
    "\n",
    "        fCollection.append(fb)\n",
    "\n",
    "#\n",
    "usub.build_slab_temp(tmUwMap, ndp.potentialTemp_, md.slabAge)\n",
    "fnJointTemp = fn.misc.min(proxyTempVariable,plateTempProxFn)\n",
    "\n",
    "#And now reevaluate this guy on the swarm\n",
    "proxyTempVariable.data[:] = fnJointTemp.evaluate(swarm)"
   ]
  },
  {
   "cell_type": "code",
   "execution_count": 18,
   "metadata": {
    "collapsed": true
   },
   "outputs": [],
   "source": [
    "#Finally, build the \"proximity\", i.e. the region immediately around the fault \n",
    "\n",
    "proximityVariable.data[:] = 0\n",
    "\n",
    "for f in fCollection:\n",
    "    f.rebuild()\n",
    "    f.set_proximity_director(swarm, proximityVariable, searchFac = 2., locFac=1.0)"
   ]
  },
  {
   "cell_type": "code",
   "execution_count": 19,
   "metadata": {},
   "outputs": [],
   "source": [
    "#fig = glucifer.Figure(figsize=(600, 300))\n",
    "#fig.append( glucifer.objects.Points(swarm, proxyTempVariable))\n",
    "#fig.show()\n",
    "#fig.save_database('test.gldb')"
   ]
  },
  {
   "cell_type": "code",
   "execution_count": 20,
   "metadata": {
    "collapsed": true
   },
   "outputs": [],
   "source": [
    "#figProx = glucifer.Figure(figsize=(960,300) )\n",
    "#figProx.append( glucifer.objects.Points(swarm , proximityVariable))\n",
    "#figProx.append( glucifer.objects.Surface(mesh, mantleCreep, logScale=True))\n",
    "\n",
    "#for f in fCollection:\n",
    "#    figProx.append( glucifer.objects.Points(f.swarm, pointSize=5))\n",
    "\n",
    "#figProx.show()\n",
    "\n",
    "\n",
    "#figProx.save_database('test.gldb')"
   ]
  },
  {
   "cell_type": "markdown",
   "metadata": {},
   "source": [
    "##  Define subduction fault evolution (rebuild/destroy)\n",
    "\n",
    "\n",
    "In this section we setup some functions to help manage the spatial distribution of faults"
   ]
  },
  {
   "cell_type": "code",
   "execution_count": 21,
   "metadata": {},
   "outputs": [],
   "source": [
    "# Setup a swarm to define the replacment positions\n",
    "fThick= fCollection[0].thickness\n",
    "\n",
    "faultloc = 1. - md.faultThickness*md.faultLocFac\n",
    "\n",
    "allxs = np.arange(mesh.minCoord[0], mesh.maxCoord[0], ds )[:-1]\n",
    "allys = (mesh.maxCoord[1] - fThick)*np.ones(allxs.shape)\n",
    "\n",
    "faultMasterSwarm = uw.swarm.Swarm( mesh=mesh )\n",
    "dummy =  faultMasterSwarm.add_particles_with_coordinates(np.column_stack((allxs, allys)))\n",
    "del allxs\n",
    "del allys\n",
    "\n",
    "#*faultRmfn describes the regions where we well remove the interface2D swarms , \n",
    "#We also remove interface2Dswarms particles beneath a given depth\n",
    "\n",
    "faultRmfn = tm.t2f(tm.variable_boundary_mask_fn(distMax=10., distMin=ndimlz(10*ur.km), relativeWidth = 0.9, \n",
    "                                  minPlateLength =ndimlz(60*ur.km),  \n",
    "                                           out = 'bool', boundtypes='sub' ))\n",
    "\n",
    "\n",
    "\n",
    "\n",
    "#* faultAddFn desribes a region internal to the subducting plate where we rebuild the fault. \n",
    "#this function deliberately'over-builds' the fault, while remove_faults_from_boundaries then trims it to size\n",
    "\n",
    "#this one will put particles back into the fault\n",
    "faultAddFn1 = tm.variable_boundary_mask_fn(distMax=10., distMin=ndimlz(10*ur.km), \n",
    "                                       relativeWidth = 0.95, minPlateLength =ndimlz(60*ur.km),  \n",
    "                                           out = 'bool', boundtypes='sub' )\n",
    "\n",
    "#thsi will keep the fault addition away from the subdcution zone\n",
    "faultAddFn2 =  tm.t2f(tm.variable_boundary_mask_fn(distMax = ndimlz(150*ur.km), relativeWidth = 0.9 ))\n",
    "\n",
    "faultAddFn = operator.and_( faultAddFn1 ,  faultAddFn2)\n",
    "\n",
    "\n",
    "\n",
    "#The order these functions are run needs to be preserved,\n",
    "dummy = usub.remove_fault_drift(fCollection, faultloc)\n",
    "dummy = usub.pop_or_perish(tm, fCollection, faultMasterSwarm, faultAddFn , ds)\n",
    "dummy = usub.remove_faults_from_boundaries(tm, fCollection, faultRmfn )"
   ]
  },
  {
   "cell_type": "code",
   "execution_count": null,
   "metadata": {},
   "outputs": [],
   "source": []
  },
  {
   "cell_type": "code",
   "execution_count": 22,
   "metadata": {
    "collapsed": true
   },
   "outputs": [],
   "source": [
    "#maskFn_ = tm.t2f(faultRmfn)\n",
    "#pIdFn = tm.plate_id_fn(maskFn=maskFn_)"
   ]
  },
  {
   "cell_type": "code",
   "execution_count": 23,
   "metadata": {},
   "outputs": [],
   "source": [
    "#fig = glucifer.Figure(figsize=(600, 300))\n",
    "#fig.append( glucifer.objects.Surface(tm.mesh, faultRmfn , onMesh=True))\n",
    "#fig.show()"
   ]
  },
  {
   "cell_type": "markdown",
   "metadata": {},
   "source": [
    "## Project the swarm 'proxy temp' to mesh"
   ]
  },
  {
   "cell_type": "code",
   "execution_count": 24,
   "metadata": {
    "collapsed": true
   },
   "outputs": [],
   "source": [
    "projectorMeshTemp= uw.utils.MeshVariable_Projection( temperatureField, proxyTempVariable , type=0 )\n",
    "projectorMeshTemp.solve()"
   ]
  },
  {
   "cell_type": "code",
   "execution_count": 25,
   "metadata": {},
   "outputs": [],
   "source": [
    "#figTemp = glucifer.Figure()\n",
    "#figTemp.append( glucifer.objects.Surface(mesh, temperatureField, onMesh=True, colourBar=False))\n",
    "#figTemp.append( glucifer.objects.Contours(mesh, temperatureField,interval=0.33, \n",
    "#                                          colours='black', colourBar=False, quality=3))\n",
    "#figTemp.show()\n",
    "#figTemp.save_database('test.gldb')"
   ]
  },
  {
   "cell_type": "markdown",
   "metadata": {
    "collapsed": true
   },
   "source": [
    "## Boundary conditions"
   ]
  },
  {
   "cell_type": "code",
   "execution_count": 26,
   "metadata": {
    "collapsed": true
   },
   "outputs": [],
   "source": [
    "appliedTractionField = uw.mesh.MeshVariable( mesh=mesh,    nodeDofCount=2 )"
   ]
  },
  {
   "cell_type": "code",
   "execution_count": 27,
   "metadata": {
    "collapsed": true
   },
   "outputs": [],
   "source": [
    "iWalls = mesh.specialSets[\"MinI_VertexSet\"] + mesh.specialSets[\"MaxI_VertexSet\"]\n",
    "jWalls = mesh.specialSets[\"MinJ_VertexSet\"] + mesh.specialSets[\"MaxJ_VertexSet\"]\n",
    "\n",
    "tWalls = mesh.specialSets[\"MaxJ_VertexSet\"]\n",
    "bWalls = mesh.specialSets[\"MinJ_VertexSet\"]\n",
    "lWalls = mesh.specialSets[\"MinI_VertexSet\"]\n",
    "rWalls = mesh.specialSets[\"MaxI_VertexSet\"]\n"
   ]
  },
  {
   "cell_type": "code",
   "execution_count": 88,
   "metadata": {},
   "outputs": [],
   "source": [
    "pressureDiff = ndimlz(5*ur.megapascal)\n",
    "\n",
    "plateThermalTaper = usub.cosine_taper(temperatureField, 0.9, 0.01)\n",
    "platePressureFn = (1. - plateThermalTaper)*params.rayleighNumber*depthFn\n",
    "pressMinMax = fn.view.min_max(platePressureFn)\n",
    "ignore = pressMinMax.evaluate(lWalls)\n",
    "lhsPressMax = pressMinMax.max_global()\n",
    "pressMinMax.reset()\n",
    "ignore = pressMinMax.evaluate(rWalls)\n",
    "rhsPressMax = pressMinMax.max_global()\n",
    "lhsPressMax, rhsPressMax\n",
    "\n",
    "lhsPressFn = -1.*platePressureFn + -1.*plateThermalTaper*(max(lhsPressMax, rhsPressMax )) + 0.5*pressureDiff\n",
    "rhsPressFn = platePressureFn + plateThermalTaper*(max(lhsPressMax, rhsPressMax )) + 0.5*pressureDiff"
   ]
  },
  {
   "cell_type": "code",
   "execution_count": 91,
   "metadata": {},
   "outputs": [],
   "source": [
    "#plt.plot(rhsPressFn.evaluate(rWalls) + lhsPressFn.evaluate(lWalls) )\n",
    "#plt.plot(rhsPressFn.evaluate(rWalls))\n",
    "#plt.plot(lhsPressFn.evaluate(lWalls))"
   ]
  },
  {
   "cell_type": "code",
   "execution_count": 55,
   "metadata": {},
   "outputs": [],
   "source": [
    "#umTaper = (1. - usub.cosine_taper(depthFn, md.lowerMantleDepth, ndimlz(50*ur.kilometer) ))\n",
    "#plateLambda = 0.9\n",
    "#platethickness = plateLambda*2.32*np.math.sqrt(1.*md.slabAge) #redefining a var (uw Fn) we no longer need\n",
    "#lithTaper = usub.cosine_taper(depthFn, platethickness, ndimlz(20*ur.kilometer) )\n",
    "#pressureFn = 0.5*(lithTaper*umTaper)*pressureDiff"
   ]
  },
  {
   "cell_type": "code",
   "execution_count": 56,
   "metadata": {},
   "outputs": [],
   "source": [
    "#fig = glucifer.Figure()\n",
    "#fig.append( glucifer.objects.Surface(mesh, platePressureFn , onMesh=True))\n",
    "#fig.show()"
   ]
  },
  {
   "cell_type": "code",
   "execution_count": 63,
   "metadata": {},
   "outputs": [],
   "source": [
    "\n",
    "\n",
    "if lWalls.data.shape[0]:\n",
    "    appliedTractionField.data[[lWalls.data]]=  np.column_stack((lhsPressFn.evaluate(lWalls), \n",
    "                                                            np.zeros(len(lWalls.data)) ))\n",
    "\n",
    "#because of the sign, this acts as a negative pressure, trying to push material out of the domain\n",
    "if rWalls.data.shape[0]:\n",
    "    appliedTractionField.data[[rWalls.data]]=  np.column_stack((rhsPressFn.evaluate(rWalls),\n",
    "                                                                np.zeros(len(rWalls.data)) ))\n",
    "  \n",
    "\n",
    "\n",
    "\n",
    "#pressureGrad = fn.misc.constant(0.)\n",
    "#lithPressureFn = depthFn * pressureGrad\n",
    "#if lWalls.data.shape[0]:\n",
    "#    appliedTractionField.data[[lWalls.data]]=  np.column_stack((lithPressureFn.evaluate(lWalls), \n",
    "#                                                            np.zeros(len(lWalls.data)) ))\n",
    "#if rWalls.data.shape[0]:\n",
    "#    appliedTractionField.data[[rWalls.data]]=  np.column_stack((-1*lithPressureFn.evaluate(rWalls), \n",
    "#                                                            np.zeros(len(rWalls.data)) ))\n"
   ]
  },
  {
   "cell_type": "code",
   "execution_count": 64,
   "metadata": {
    "collapsed": true
   },
   "outputs": [],
   "source": [
    "vxId = bWalls & rWalls \n",
    "fixedVxNodes  = mesh.specialSets[\"Empty\"]\n",
    "fixedVxNodes  += vxId\n",
    "\n",
    "########\n",
    "#For open Sidewalls\n",
    "########\n",
    "\n",
    "velBC = uw.conditions.DirichletCondition( variable      = velocityField, \n",
    "                                               indexSetsPerDof = (fixedVxNodes, jWalls + iWalls) )\n",
    "\n",
    "r_sub = rWalls - bWalls\n",
    "\n",
    "nbc = uw.conditions.NeumannCondition( fn_flux=appliedTractionField, \n",
    "                                      variable=velocityField,\n",
    "                                      indexSetsPerDof=(lWalls + r_sub, None ) )"
   ]
  },
  {
   "cell_type": "code",
   "execution_count": 65,
   "metadata": {},
   "outputs": [],
   "source": [
    "#Ridges Temp not enforced\n",
    "dirichTempBC = uw.conditions.DirichletCondition(     variable=temperatureField, \n",
    "                                              indexSetsPerDof=(tWalls,) )\n",
    "\n",
    "\n",
    "\n",
    "## Reassert the tempBCS\n",
    "temperatureField.data[tWalls.data] = 0.0\n",
    "temperatureField.data[bWalls.data] = 1.0\n",
    "\n",
    "\n",
    "#Alternatively, uncomment these to enforce thermal ridges at the sidewalls\n",
    "\n",
    "#dirichTempBC = uw.conditions.DirichletCondition(     variable=temperatureField, \n",
    "#                                              indexSetsPerDof=(tWalls + iWalls,) )\n",
    "\n",
    "\n",
    "###If we want thermal ridges fixed\n",
    "#temperatureField.data[iWalls.data] = 1."
   ]
  },
  {
   "cell_type": "code",
   "execution_count": 66,
   "metadata": {},
   "outputs": [],
   "source": [
    "## set up some swarms to track the boundary velocity\n",
    "\n",
    "lWallsSwarm = uw.swarm.Swarm(mesh=mesh, particleEscape=False)\n",
    "rWallsSwarm = uw.swarm.Swarm(mesh=mesh, particleEscape=False)\n",
    "bWallsSwarm = uw.swarm.Swarm(mesh=mesh, particleEscape=False)\n",
    "\n",
    "dummy = lWallsSwarm.add_particles_with_coordinates(mesh.data[lWalls.data])\n",
    "dummy = rWallsSwarm.add_particles_with_coordinates(mesh.data[rWalls.data])\n",
    "dummy = bWallsSwarm.add_particles_with_coordinates(mesh.data[bWalls.data])\n",
    "\n",
    "lWallsVn = uw.swarm.SwarmVariable(lWallsSwarm, 'double', 1)\n",
    "rWallsVn = uw.swarm.SwarmVariable(rWallsSwarm, 'double', 1)\n",
    "bWallsVn = uw.swarm.SwarmVariable(bWallsSwarm, 'double', 1)"
   ]
  },
  {
   "cell_type": "code",
   "execution_count": 67,
   "metadata": {
    "collapsed": true
   },
   "outputs": [],
   "source": [
    "def track_boundary_vels():\n",
    "    \n",
    "    lWallsVn.data[:] = velocityField[0].evaluate(lWalls)\n",
    "    lWallsVn.save('output/' + \"lWallsVn_\" + str(step).zfill(3) + \"_.h5\")\n",
    "    \n",
    "    rWallsVn.data[:] = velocityField[0].evaluate(rWalls)\n",
    "    rWallsVn.save('output/' + \"rWallsVn_\" + str(step).zfill(3) + \"_.h5\")\n",
    "    \n",
    "    bWallsVn.data[:] = velocityField[1].evaluate(bWalls)\n",
    "    bWallsVn.save('output/' + \"bWallsVn_\" + str(step).zfill(3) + \"_.h5\")"
   ]
  },
  {
   "cell_type": "code",
   "execution_count": 92,
   "metadata": {},
   "outputs": [
    {
     "data": {
      "text/plain": [
       "1.0"
      ]
     },
     "execution_count": 92,
     "metadata": {},
     "output_type": "execute_result"
    }
   ],
   "source": [
    "#track_boundary_vels()\n",
    "#!ls output\n",
    "#md.buoyancyFac"
   ]
  },
  {
   "cell_type": "markdown",
   "metadata": {},
   "source": [
    "## Buoyancy"
   ]
  },
  {
   "cell_type": "code",
   "execution_count": 325,
   "metadata": {},
   "outputs": [],
   "source": [
    "temperatureFn = temperatureField\n",
    "\n",
    "# Now create a buoyancy force vector using the density and the vertical unit vector. \n",
    "#thermalDensityFn = ndp.rayleigh*(1. - proxyTempVariable)\n",
    "thermalDensityFn = md.buoyancyFac*params.rayleighNumber*(1. - temperatureFn)\n",
    "\n",
    "\n",
    "\n",
    "gravity = ( 0.0, -1.0 )\n",
    "\n",
    "buoyancyMapFn = thermalDensityFn*gravity"
   ]
  },
  {
   "cell_type": "code",
   "execution_count": null,
   "metadata": {},
   "outputs": [],
   "source": []
  },
  {
   "cell_type": "code",
   "execution_count": null,
   "metadata": {
    "collapsed": true
   },
   "outputs": [],
   "source": []
  },
  {
   "cell_type": "code",
   "execution_count": 326,
   "metadata": {
    "collapsed": true
   },
   "outputs": [],
   "source": [
    "#update_boundary_pressure()"
   ]
  },
  {
   "cell_type": "markdown",
   "metadata": {},
   "source": [
    "## Rheology"
   ]
  },
  {
   "cell_type": "code",
   "execution_count": 327,
   "metadata": {},
   "outputs": [],
   "source": [
    "symStrainrate = fn.tensor.symmetric( \n",
    "                            velocityField.fn_gradient )\n",
    "\n",
    "#Set up any functions required by the rheology\n",
    "strainRate_2ndInvariant = fn.tensor.second_invariant( \n",
    "                            fn.tensor.symmetric( \n",
    "                            velocityField.fn_gradient ))\n",
    "\n",
    "\n",
    "\n",
    "def safe_visc(func, viscmin=md.viscosityMin, viscmax=md.viscosityMax):\n",
    "    return fn.misc.max(viscmin, fn.misc.min(viscmax, func))"
   ]
  },
  {
   "cell_type": "code",
   "execution_count": 165,
   "metadata": {},
   "outputs": [],
   "source": [
    "#Interface rheology extent\n",
    "\n",
    "subZoneDistfn = tm.subZoneAbsDistFn(upper=True)\n",
    "\n",
    "\n",
    "faultHorizTaperFn  = usub.cosine_taper(subZoneDistfn, \n",
    "                                  md.faultViscHorizTaperStart, md.faultViscHorizTaperWidth)\n",
    "faultDepthTaperFn = usub.cosine_taper(depthFn, \n",
    "                                 md.faultViscDepthTaperStart, md.faultViscDepthTaperWidth)"
   ]
  },
  {
   "cell_type": "code",
   "execution_count": 167,
   "metadata": {},
   "outputs": [],
   "source": [
    "adiabaticCorrectFn = depthFn*ndp.adiabaticTempGrad\n",
    "dynamicPressureProxyDepthFn = pressureField/params.pressureDepthGrad\n",
    "druckerDepthFn = fn.misc.max(0.0, depthFn + md.druckerAlpha*(dynamicPressureProxyDepthFn))\n",
    "\n",
    "#Diffusion Creep\n",
    "diffusionUM = (1./ndp.diffusionPreExp)*\\\n",
    "    fn.math.exp( ((ndp.diffusionEnergyDepth + \\\n",
    "                   (depthFn*ndp.diffusionVolumeDepth))/((temperatureFn+ adiabaticCorrectFn + ndp.surfaceTemp))))\n",
    "\n",
    "#diffusionUM =     safe_visc(diffusionUM)\n",
    "    \n",
    "diffusionLM = ndp.lowerMantleViscFac*(1./ndp.diffusionPreExp)*\\\n",
    "    fn.math.exp( ((ndp.diffusionEnergyDepth + \\\n",
    "                   (depthFn*ndp.diffusionVolumeDepth))/((temperatureFn+ adiabaticCorrectFn + ndp.surfaceTemp))))\n",
    "\n",
    "#diffusionLM =     safe_visc(diffusionLM)\n",
    "\n",
    "\n",
    "transitionZoneTaperFn = usub.cosine_taper(depthFn, md.lowerMantleDepth - 0.5*md.lowerMantleTransWidth , md.lowerMantleTransWidth )\n",
    "\n",
    "\n",
    "mantleCreep = diffusionUM*(1. - transitionZoneTaperFn) + transitionZoneTaperFn*diffusionLM\n",
    "\n",
    "#Define the mantle Plasticity\n",
    "ys =  ndp.cohesionMantle + (druckerDepthFn*ndp.frictionMantleDepth)\n",
    "ysf = fn.misc.min(ys, ndp.yieldStressMax)\n",
    "yielding = ysf/(2.*(strainRate_2ndInvariant) + 1e-15) \n",
    "\n",
    "mantleRheologyFn =  safe_visc(mantleCreep*yielding/(mantleCreep + yielding), \n",
    "                              viscmin=md.viscosityMin, viscmax=md.viscosityMax)\n",
    "\n",
    "\n",
    "faultViscosityFn = ndp.viscosityFault\n",
    "\n",
    "faultRheologyFn =  faultViscosityFn*(1. - faultDepthTaperFn) +  \\\n",
    "                       faultDepthTaperFn*mantleRheologyFn + faultHorizTaperFn*mantleRheologyFn"
   ]
  },
  {
   "cell_type": "code",
   "execution_count": 168,
   "metadata": {},
   "outputs": [],
   "source": [
    "#create a mapping dictionary that points proximity variable to fault rheology\n",
    "viscMapDict = {}\n",
    "viscMapDict[0] = mantleRheologyFn\n",
    "for f in fCollection:\n",
    "    viscMapDict[f.ID] = faultRheologyFn\n",
    "viscMapDict\n",
    "\n",
    "viscosityMapFn = fn.branching.map( fn_key = proximityVariable,\n",
    "                             mapping = viscMapDict)"
   ]
  },
  {
   "cell_type": "code",
   "execution_count": 169,
   "metadata": {},
   "outputs": [],
   "source": [
    "#fig = glucifer.Figure(figsize=(960,300) )\n",
    "#fig.append( glucifer.objects.Surface(mesh, faultRheologyFn))\n",
    "#fig.show()"
   ]
  },
  {
   "cell_type": "markdown",
   "metadata": {},
   "source": [
    "## Stokes"
   ]
  },
  {
   "cell_type": "code",
   "execution_count": 170,
   "metadata": {},
   "outputs": [],
   "source": [
    "surfaceArea = uw.utils.Integral(fn=1.0,mesh=mesh, integrationType='surface', surfaceIndexSet=tWalls)\n",
    "surfacePressureIntegral = uw.utils.Integral(fn=pressureField, mesh=mesh, integrationType='surface', surfaceIndexSet=tWalls)\n",
    "\n",
    "NodePressure = uw.mesh.MeshVariable(mesh, nodeDofCount=1)\n",
    "Cell2Nodes = uw.utils.MeshVariable_Projection(NodePressure, pressureField, type=0)\n",
    "Nodes2Cell = uw.utils.MeshVariable_Projection(pressureField, NodePressure, type=0)\n",
    "\n",
    "def smooth_pressure(mesh):\n",
    "    # Smooths the pressure field.\n",
    "    # Assuming that pressure lies on the submesh, do a cell -> nodes -> cell\n",
    "    # projection.\n",
    "\n",
    "    Cell2Nodes.solve()\n",
    "    Nodes2Cell.solve()\n",
    "\n",
    "# a callback function to calibrate the pressure - will pass to solver later\n",
    "def pressure_calibrate():\n",
    "    (area,) = surfaceArea.evaluate()\n",
    "    (p0,) = surfacePressureIntegral.evaluate()\n",
    "    offset = p0/area\n",
    "    pressureField.data[:] -= offset\n",
    "    smooth_pressure(mesh)"
   ]
  },
  {
   "cell_type": "code",
   "execution_count": 171,
   "metadata": {},
   "outputs": [],
   "source": [
    "stokes = uw.systems.Stokes( velocityField  = velocityField, \n",
    "                                   pressureField  = pressureField,\n",
    "                                   conditions     = [velBC, nbc],\n",
    "                                   #conditions     = [velBC, ],\n",
    "                                   fn_viscosity   = viscosityMapFn, \n",
    "                                   fn_bodyforce   = buoyancyMapFn )\n"
   ]
  },
  {
   "cell_type": "code",
   "execution_count": 172,
   "metadata": {},
   "outputs": [],
   "source": [
    "solver = uw.systems.Solver(stokes)\n",
    "\n",
    "solver.set_inner_method(\"mumps\")\n",
    "solver.options.scr.ksp_type=\"cg\"\n",
    "solver.set_penalty(1.0e7)\n",
    "solver.options.scr.ksp_rtol = 1.0e-4\n"
   ]
  },
  {
   "cell_type": "code",
   "execution_count": 173,
   "metadata": {},
   "outputs": [
    {
     "name": "stdout",
     "output_type": "stream",
     "text": [
      "\u001b[1;35m\n",
      " \n",
      "Pressure iterations:   4\n",
      "Velocity iterations:   1 (presolve)      \n",
      "Velocity iterations:  -1 (pressure solve)\n",
      "Velocity iterations:   1 (backsolve)     \n",
      "Velocity iterations:   1 (total solve)   \n",
      " \n",
      "SCR RHS  solve time: 2.8328e-01\n",
      "Pressure solve time: 3.6300e-02\n",
      "Velocity solve time: 2.8209e-01 (backsolve)\n",
      "Total solve time   : 6.4995e-01\n",
      " \n",
      "Velocity solution min/max: 0.0000e+00/0.0000e+00\n",
      "Pressure solution min/max: 0.0000e+00/0.0000e+00\n",
      " \n",
      "\u001b[00m\n"
     ]
    }
   ],
   "source": [
    "solver.solve(nonLinearIterate=True, nonLinearTolerance=md.nltol, callback_post_solve = pressure_calibrate)\n",
    "solver.print_stats()"
   ]
  },
  {
   "cell_type": "markdown",
   "metadata": {},
   "source": [
    "## Advection - Diffusion"
   ]
  },
  {
   "cell_type": "code",
   "execution_count": 42,
   "metadata": {},
   "outputs": [],
   "source": [
    "advDiff = uw.systems.AdvectionDiffusion( phiField       = temperatureFn, \n",
    "                                         phiDotField    = temperatureDotField, \n",
    "                                         velocityField  = velocityField,\n",
    "                                         fn_sourceTerm    = 0.0,\n",
    "                                         fn_diffusivity = ndp.refDiffusivity, \n",
    "                                         #conditions     = [neumannTempBC, dirichTempBC] )\n",
    "                                         conditions     = [ dirichTempBC] )"
   ]
  },
  {
   "cell_type": "code",
   "execution_count": null,
   "metadata": {},
   "outputs": [],
   "source": []
  },
  {
   "cell_type": "markdown",
   "metadata": {},
   "source": [
    "## Swarm Advector"
   ]
  },
  {
   "cell_type": "code",
   "execution_count": 43,
   "metadata": {
    "collapsed": true
   },
   "outputs": [],
   "source": [
    "advector = uw.systems.SwarmAdvector( swarm=swarm, velocityField=velocityField, order=2 )\n"
   ]
  },
  {
   "cell_type": "code",
   "execution_count": 44,
   "metadata": {
    "collapsed": true
   },
   "outputs": [],
   "source": [
    "population_control = uw.swarm.PopulationControl(swarm, deleteThreshold=0.006, \n",
    "                                                splitThreshold=0.25,maxDeletions=1, maxSplits=3, aggressive=True,\n",
    "                                                aggressiveThreshold=0.9, particlesPerCell=int(md.ppc))"
   ]
  },
  {
   "cell_type": "markdown",
   "metadata": {},
   "source": [
    "## Update functions"
   ]
  },
  {
   "cell_type": "code",
   "execution_count": 45,
   "metadata": {},
   "outputs": [
    {
     "data": {
      "text/plain": [
       "{'(1, 1)': [], '(1, 2)': [], '(2, 2)': [], 'stepAtSave': [], 'timeAtSave': []}"
      ]
     },
     "execution_count": 45,
     "metadata": {},
     "output_type": "execute_result"
    }
   ],
   "source": [
    "valuesDict = edict({})\n",
    "valuesDict.timeAtSave = []\n",
    "valuesDict.stepAtSave = []\n",
    "for e in tm.undirected.edges():\n",
    "    valuesDict[str(e)] = []\n",
    "valuesDict  "
   ]
  },
  {
   "cell_type": "code",
   "execution_count": 46,
   "metadata": {
    "collapsed": true
   },
   "outputs": [],
   "source": [
    "# Here we'll handle everything that should be advected - i.e. every timestep\n",
    "def advect_update(dt):\n",
    "    # Retrieve the maximum possible timestep for the advection system.\n",
    "    #dt = advector.get_max_dt()\n",
    "    # Advect swarm\n",
    "    advector.integrate(dt)\n",
    "    \n",
    "    #Advect faults\n",
    "    for f in fCollection:\n",
    "        f.advection(dt)\n",
    "    \n",
    "    \n",
    "    return time+dt, step+1"
   ]
  },
  {
   "cell_type": "code",
   "execution_count": 47,
   "metadata": {},
   "outputs": [],
   "source": [
    "#velocityField.data[:] = 0.\n",
    "#pressureField.data[:] = 0.\n",
    "#ndp.interfaceViscEndWidth*2900"
   ]
  },
  {
   "cell_type": "code",
   "execution_count": 48,
   "metadata": {},
   "outputs": [],
   "source": [
    "def update_faults():\n",
    "    \n",
    "    \n",
    "    #order is very important here\n",
    "    dummy = usub.remove_fault_drift(fCollection, faultloc)\n",
    "    dummy = usub.pop_or_perish(tm, fCollection, faultMasterSwarm, faultAddFn , ds)\n",
    "    dummy = usub.remove_faults_from_boundaries(tm, fCollection, faultRmfn )\n",
    "    \n",
    "    for f in fCollection:\n",
    "        \n",
    "        #Remove particles below a specified depth\n",
    "        depthMask = f.swarm.particleCoordinates.data[:,1] <         (1. - md.faultDestroyDepth)\n",
    "        with f.swarm.deform_swarm():\n",
    "            f.swarm.particleCoordinates.data[depthMask] = (9999999., 9999999.)\n",
    "        \n",
    "        #The repair_interface2D routine is supposed to maintain particle density and smooth\n",
    "        usub.interfaces.repair_interface2D(f, ds, k=8)\n",
    "    "
   ]
  },
  {
   "cell_type": "code",
   "execution_count": 50,
   "metadata": {},
   "outputs": [],
   "source": [
    "def update_swarm():\n",
    "    \n",
    "\n",
    "    for f in fCollection:\n",
    "        f.rebuild()\n",
    "        f.set_proximity_director(swarm, proximityVariable, searchFac = 2., locFac=1.0,\n",
    "                                maxDistanceFn=fn.misc.constant(2.))\n",
    "        \n",
    "    #A simple depth cutoff for proximity\n",
    "    depthMask = swarm.particleCoordinates.data[:,1] < (1. - md.faultDestroyDepth)\n",
    "    proximityVariable.data[depthMask] = 0\n",
    "    "
   ]
  },
  {
   "cell_type": "code",
   "execution_count": 53,
   "metadata": {},
   "outputs": [],
   "source": [
    "def update_tect_model(tectModel, tmUwMap, time, dt = 0.0 ):\n",
    "    \n",
    "    \"\"\"\n",
    "    An example of how we can update the tect_model\n",
    "    \"\"\"\n",
    "    for e in tectModel.undirected.edges():\n",
    "        \n",
    "        #This is generally the first condition to check\" a specified boundary velocity\n",
    "        if tectModel.bound_has_vel(e, time):\n",
    "            newX = get_boundary_vel_update(tectModel, e, time, dt)\n",
    "            tectModel.set_bound_loc(e, newX)\n",
    "            \n",
    "        #in this model the ficticious boundaries remain fixed at the edge\n",
    "        elif e[0] == e[1]:\n",
    "            pass       \n",
    "        #now we'll apply a strain rate query to update the subduction zone loc\n",
    "        elif tectModel.is_subduction_boundary(e):\n",
    "            e = tectModel.subduction_edge_order(e)\n",
    "            newx = usub.strain_rate_field_update(tectModel, e, tmUwMap, dist = ndimlz(100*ur.kilometer))\n",
    "            tectModel.set_bound_loc(e, newx)\n",
    "        else:\n",
    "            pass\n"
   ]
  },
  {
   "cell_type": "code",
   "execution_count": 55,
   "metadata": {},
   "outputs": [],
   "source": [
    "#update_tect_model(tm, tmUwMap, time=0.1, dt = 1e-6)"
   ]
  },
  {
   "cell_type": "code",
   "execution_count": 56,
   "metadata": {
    "collapsed": true
   },
   "outputs": [],
   "source": [
    "def update_mask_fns():\n",
    "\n",
    "    faultRmfn = tm.t2f(tm.variable_boundary_mask_fn(distMax=10., distMin=ndimlz(10*ur.kilometer), relativeWidth = 0.9, \n",
    "                                      minPlateLength =ndimlz(60*ur.kilometer),  \n",
    "                                               out = 'bool', boundtypes='sub' ))\n",
    "    \n",
    "\n",
    "\n",
    "    #this one will put particles back into the fault\n",
    "    faultAddFn1 = tm.variable_boundary_mask_fn(distMax=10., distMin=ndimlz(10*ur.kilometer), \n",
    "                                           relativeWidth = 0.95, minPlateLength =ndimlz(60*ur.kilometer),  \n",
    "                                               out = 'bool', boundtypes='sub' )\n",
    "\n",
    "    faultAddFn2 =  tm.t2f(tm.variable_boundary_mask_fn(distMax = ndimlz(100*ur.kilometer), relativeWidth = 0.9 ))\n",
    "\n",
    "\n",
    "    faultAddFn = operator.and_( faultAddFn1 ,  faultAddFn2)\n",
    "\n",
    "    \n",
    "    #the following dictates where the fault rheology will be activated\n",
    "    subZoneDistfn = tm.subZoneAbsDistFn(upper=True)\n",
    "    \n",
    "    faultHorizTaperFn  = usub.cosine_taper(subZoneDistfn, \n",
    "                                  md.faultViscHorizTaperStart, md.faultViscHorizTaperWidth)\n",
    "    \n",
    "    return faultRmfn, faultAddFn, faultHorizTaperFn"
   ]
  },
  {
   "cell_type": "code",
   "execution_count": 57,
   "metadata": {},
   "outputs": [],
   "source": [
    "## Track the values of the plate bounaries\n",
    "\n",
    "  \n",
    "def update_values():\n",
    "    \n",
    "    \"\"\" \n",
    "    Assumes global variables:\n",
    "    * valuesDict\n",
    "    * time\n",
    "    * step \n",
    "    ...\n",
    "    + many functions\n",
    "    \"\"\"\n",
    "    \n",
    "    \n",
    "    #save the time and step\n",
    "    valuesDict.timeAtSave.append(time) \n",
    "    valuesDict.stepAtSave.append(step)\n",
    "    \n",
    "    for e in tm.undirected.edges():\n",
    "        if tm.is_subduction_boundary(e):\n",
    "            ee = tm.subduction_edge_order(e) #hacky workaround for the directed/ undireted. need get_bound_loc\n",
    "        else:\n",
    "            ee = e\n",
    "\n",
    "        valuesDict[str(e)].append(tm.get_bound_loc(ee))\n",
    "        \n",
    "        \n",
    "    #save\n",
    "    if uw.rank()==0:\n",
    "        fullpath = os.path.join(outputPath + \"tect_model_data\")\n",
    "        #the '**' is important\n",
    "        np.savez(fullpath, **valuesDict)\n",
    "    "
   ]
  },
  {
   "cell_type": "code",
   "execution_count": 58,
   "metadata": {},
   "outputs": [],
   "source": [
    "#update_values()\n",
    "#valuesDict  \n",
    "#!ls output"
   ]
  },
  {
   "cell_type": "markdown",
   "metadata": {},
   "source": [
    "\n",
    "## Viz"
   ]
  },
  {
   "cell_type": "code",
   "execution_count": null,
   "metadata": {
    "collapsed": true
   },
   "outputs": [],
   "source": [
    "viscSwarmVar =  swarm.add_variable( dataType=\"double\", count=1 )\n",
    "viscSwarmVar.data[:] = viscosityMapFn.evaluate(swarm)"
   ]
  },
  {
   "cell_type": "code",
   "execution_count": 206,
   "metadata": {},
   "outputs": [
    {
     "ename": "NameError",
     "evalue": "name 'viscSwarmVar' is not defined",
     "output_type": "error",
     "traceback": [
      "\u001b[1;31m\u001b[0m",
      "\u001b[1;31mNameError\u001b[0mTraceback (most recent call last)",
      "\u001b[1;32m<ipython-input-206-e66423cc5d59>\u001b[0m in \u001b[0;36m<module>\u001b[1;34m()\u001b[0m\n\u001b[0;32m     12\u001b[0m \u001b[0mfigVisc\u001b[0m \u001b[1;33m=\u001b[0m \u001b[0mglucifer\u001b[0m\u001b[1;33m.\u001b[0m\u001b[0mFigure\u001b[0m\u001b[1;33m(\u001b[0m \u001b[0mstore2\u001b[0m\u001b[1;33m,\u001b[0m \u001b[0mfigsize\u001b[0m\u001b[1;33m=\u001b[0m\u001b[1;33m(\u001b[0m\u001b[1;36m960\u001b[0m\u001b[1;33m,\u001b[0m\u001b[1;36m300\u001b[0m\u001b[1;33m)\u001b[0m \u001b[1;33m)\u001b[0m\u001b[1;33m\u001b[0m\u001b[0m\n\u001b[0;32m     13\u001b[0m \u001b[1;31m#figVisc.append( glucifer.objects.Points(swarm, viscosityMapFn, pointSize=2, logScale=True) )\u001b[0m\u001b[1;33m\u001b[0m\u001b[1;33m\u001b[0m\u001b[0m\n\u001b[1;32m---> 14\u001b[1;33m \u001b[0mfigVisc\u001b[0m\u001b[1;33m.\u001b[0m\u001b[0mappend\u001b[0m\u001b[1;33m(\u001b[0m \u001b[0mglucifer\u001b[0m\u001b[1;33m.\u001b[0m\u001b[0mobjects\u001b[0m\u001b[1;33m.\u001b[0m\u001b[0mPoints\u001b[0m\u001b[1;33m(\u001b[0m\u001b[0mswarm\u001b[0m\u001b[1;33m,\u001b[0m  \u001b[0mviscSwarmVar\u001b[0m\u001b[1;33m,\u001b[0m \u001b[0mlogScale\u001b[0m\u001b[1;33m=\u001b[0m\u001b[0mTrue\u001b[0m\u001b[1;33m,\u001b[0m \u001b[0mvalueRange\u001b[0m \u001b[1;33m=\u001b[0m \u001b[1;33m[\u001b[0m\u001b[1;36m0.1\u001b[0m\u001b[1;33m,\u001b[0m \u001b[1;36m1e4\u001b[0m\u001b[1;33m]\u001b[0m\u001b[1;33m)\u001b[0m \u001b[1;33m)\u001b[0m\u001b[1;33m\u001b[0m\u001b[0m\n\u001b[0m\u001b[0;32m     15\u001b[0m \u001b[1;33m\u001b[0m\u001b[0m\n\u001b[0;32m     16\u001b[0m \u001b[1;33m\u001b[0m\u001b[0m\n",
      "\u001b[1;31mNameError\u001b[0m: name 'viscSwarmVar' is not defined"
     ]
    }
   ],
   "source": [
    "store1 = glucifer.Store('output/subduction1')\n",
    "store2 = glucifer.Store('output/subduction2')\n",
    "store3 = glucifer.Store('output/subduction3')\n",
    "store4 = glucifer.Store('output/subduction4')\n",
    "\n",
    "\n",
    "figTemp = glucifer.Figure(store1, figsize=(960,300) )\n",
    "figTemp.append( glucifer.objects.Surface(mesh, temperatureField, onMesh=True))\n",
    "figTemp.append( glucifer.objects.Contours(mesh, temperatureField, resolution=300, quality =4, interval=0.2,  colours='Black', colourBar=False)) \n",
    "\n",
    "\n",
    "figVisc = glucifer.Figure( store2, figsize=(960,300) )\n",
    "#figVisc.append( glucifer.objects.Points(swarm, viscosityMapFn, pointSize=2, logScale=True) )\n",
    "figVisc.append( glucifer.objects.Points(swarm,  viscSwarmVar, logScale=True, valueRange = [0.1, 1e4]) )\n",
    "\n",
    "\n",
    "\n",
    "figVel = glucifer.Figure( store3, figsize=(960,300) )\n",
    "figVel.append(glucifer.objects.Surface(mesh, fn.math.dot(velocityField, velocityField), onMesh=True))\n",
    "figVel.append( glucifer.objects.VectorArrows(mesh, velocityField, arrowHead=0.2, scaling=1./refVel) )\n",
    "\n",
    "figProx = glucifer.Figure(store4, figsize=(960,300) )\n",
    "figProx.append( glucifer.objects.Points(swarm , proximityVariable))\n",
    "for f in fCollection:\n",
    "    figProx.append( glucifer.objects.Points(f.swarm, pointSize=5))\n",
    "\n",
    "\n",
    "#figMask.append( glucifer.objects.Surface(mesh,  maskFnVar3) )\n",
    "for f in fCollection:\n",
    "    figVel.append( glucifer.objects.Points(f.swarm, pointSize=5))\n",
    "\n"
   ]
  },
  {
   "cell_type": "code",
   "execution_count": 176,
   "metadata": {
    "scrolled": true
   },
   "outputs": [
    {
     "data": {
      "text/html": [
       "<img src='data:image/png;base64,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'>"
      ],
      "text/plain": [
       "<IPython.core.display.HTML object>"
      ]
     },
     "metadata": {},
     "output_type": "display_data"
    }
   ],
   "source": [
    "#figTemp.show()\n",
    "#figVisc.save_database('test.gldb')"
   ]
  },
  {
   "cell_type": "code",
   "execution_count": 78,
   "metadata": {},
   "outputs": [],
   "source": [
    "#1e-2*2900."
   ]
  },
  {
   "cell_type": "markdown",
   "metadata": {},
   "source": [
    "## Main Loop"
   ]
  },
  {
   "cell_type": "code",
   "execution_count": 185,
   "metadata": {},
   "outputs": [
    {
     "ename": "NameError",
     "evalue": "name 'update_values' is not defined",
     "output_type": "error",
     "traceback": [
      "\u001b[1;31m\u001b[0m",
      "\u001b[1;31mNameError\u001b[0mTraceback (most recent call last)",
      "\u001b[1;32m<ipython-input-185-a4565c3347e5>\u001b[0m in \u001b[0;36m<module>\u001b[1;34m()\u001b[0m\n\u001b[0;32m      9\u001b[0m \u001b[0mupdate_pressure\u001b[0m \u001b[1;33m=\u001b[0m \u001b[1;36m10\u001b[0m\u001b[1;33m\u001b[0m\u001b[0m\n\u001b[0;32m     10\u001b[0m \u001b[1;33m\u001b[0m\u001b[0m\n\u001b[1;32m---> 11\u001b[1;33m \u001b[0mupdate_values\u001b[0m\u001b[1;33m(\u001b[0m\u001b[1;33m)\u001b[0m\u001b[1;33m\u001b[0m\u001b[0m\n\u001b[0m",
      "\u001b[1;31mNameError\u001b[0m: name 'update_values' is not defined"
     ]
    }
   ],
   "source": [
    "time = 0.  # Initial time\n",
    "step = 0 \n",
    "maxSteps = 1000      # Maximum timesteps \n",
    "steps_output = 2    # output (Viz/Values) every N timesteps\n",
    "swarm_update = 5     # repopulate and update swarm proximity\n",
    "faults_update = 2   # rebuild, truncate repair_interface2D\n",
    "dt_model = 0.\n",
    "steps_update_model = 2\n",
    "update_pressure = 10\n",
    "\n",
    "update_values()"
   ]
  },
  {
   "cell_type": "code",
   "execution_count": 110,
   "metadata": {},
   "outputs": [],
   "source": [
    "#step"
   ]
  },
  {
   "cell_type": "code",
   "execution_count": 50,
   "metadata": {},
   "outputs": [
    {
     "ename": "NameError",
     "evalue": "name 'step' is not defined",
     "output_type": "error",
     "traceback": [
      "\u001b[1;31m\u001b[0m",
      "\u001b[1;31mNameError\u001b[0mTraceback (most recent call last)",
      "\u001b[1;32m<ipython-input-50-194bd9745198>\u001b[0m in \u001b[0;36m<module>\u001b[1;34m()\u001b[0m\n\u001b[0;32m      1\u001b[0m \u001b[1;31m#while time < tg.times[-1]:\u001b[0m\u001b[1;33m\u001b[0m\u001b[1;33m\u001b[0m\u001b[0m\n\u001b[1;32m----> 2\u001b[1;33m \u001b[1;32mwhile\u001b[0m \u001b[0mstep\u001b[0m \u001b[1;33m<\u001b[0m \u001b[0mmaxSteps\u001b[0m\u001b[1;33m:\u001b[0m\u001b[1;33m\u001b[0m\u001b[0m\n\u001b[0m\u001b[0;32m      3\u001b[0m     \u001b[1;31m# Solve non linear Stokes system\u001b[0m\u001b[1;33m\u001b[0m\u001b[1;33m\u001b[0m\u001b[0m\n\u001b[0;32m      4\u001b[0m     \u001b[0msolver\u001b[0m\u001b[1;33m.\u001b[0m\u001b[0msolve\u001b[0m\u001b[1;33m(\u001b[0m\u001b[0mnonLinearIterate\u001b[0m\u001b[1;33m=\u001b[0m\u001b[0mTrue\u001b[0m\u001b[1;33m,\u001b[0m \u001b[0mnonLinearTolerance\u001b[0m\u001b[1;33m=\u001b[0m\u001b[0mmd\u001b[0m\u001b[1;33m.\u001b[0m\u001b[0mnltol\u001b[0m\u001b[1;33m,\u001b[0m \u001b[0mcallback_post_solve\u001b[0m \u001b[1;33m=\u001b[0m \u001b[0mpressure_calibrate\u001b[0m\u001b[1;33m)\u001b[0m\u001b[1;33m\u001b[0m\u001b[0m\n\u001b[0;32m      5\u001b[0m \u001b[1;33m\u001b[0m\u001b[0m\n",
      "\u001b[1;31mNameError\u001b[0m: name 'step' is not defined"
     ]
    }
   ],
   "source": [
    "while time < tm.times[-1] and step < maxSteps:\n",
    "    # Solve non linear Stokes system\n",
    "    solver.solve(nonLinearIterate=True, nonLinearTolerance=md.nltol, callback_post_solve = pressure_calibrate)\n",
    "\n",
    "    dt = advDiff.get_max_dt()\n",
    "    advDiff.integrate(dt)\n",
    "    \n",
    "    #advect swarm and faults\n",
    "    time, step =  advect_update(dt)\n",
    "    dt_model += dt\n",
    "    \n",
    "        \n",
    "    #update tectonic model and associated mask functions\n",
    "    if step % steps_update_model == 0:\n",
    "        update_tect_model(tm, tmUwMap, time, dt = dt_model)\n",
    "        dt_model = 0.\n",
    "        \n",
    "        plate_id_fn = tm.plate_id_fn()\n",
    "        faultRmfn, faultAddFn, faultHorizTaperFn = update_mask_fns()\n",
    "        \n",
    "        #these need to be explicity updated\n",
    "        faultRheologyFn =  faultViscosityFn*(1. - faultDepthTaperFn) +\\\n",
    "        faultDepthTaperFn*mantleRheologyFn + faultHorizTaperFn*mantleRheologyFn\n",
    "        \n",
    "        viscosityMapFn = fn.branching.map( fn_key = proximityVariable,\n",
    "                             mapping = {0:mantleRheologyFn,\n",
    "                                        1:faultRheologyFn} )\n",
    "\n",
    "        \n",
    "        \n",
    "    #running fault healing/addition, map back to swarm\n",
    "    if step % faults_update == 0:\n",
    "        update_faults()\n",
    "    if step % swarm_update == 0:\n",
    "        population_control.repopulate()\n",
    "        update_swarm()\n",
    "        \n",
    "        \n",
    "    #rebuild stokes - if boundary conditions are changing\n",
    "    #if step % steps_update_model == 0:\n",
    "    #    del solver\n",
    "    #    del stokes\n",
    "    #    stokes = update_stokes(time, viscosityMapFn )\n",
    "    #    solver = rebuild_solver(stokes)\n",
    "        \n",
    "    \n",
    "    # output figure to file at intervals = steps_output\n",
    "    if step % steps_output == 0 or step == maxSteps-1:\n",
    "        update_values()\n",
    "        \n",
    "        #also update this guy for viz\n",
    "        viscSwarmVar.data[:] = viscosityMapFn.evaluate(swarm)\n",
    "        \n",
    "        #Important to set the timestep for the store object here or will overwrite previous step\n",
    "        store1.step = step\n",
    "        store2.step = step\n",
    "        store3.step = step\n",
    "        store4.step = step\n",
    "        \n",
    "        figTemp.save(    outputPath + \"temp\"    + str(step).zfill(4))\n",
    "        figVisc.save(    outputPath + \"visc\"    + str(step).zfill(4))\n",
    "        figVel.save(    outputPath + \"vel\"    + str(step).zfill(4))\n",
    "        figProx.save(    outputPath + \"prox\"    + str(step).zfill(4))\n",
    "        #save out the surface velocity\n",
    "        #save_files(step)\n",
    "    \n",
    "    if uw.rank()==0:\n",
    "        print 'step = {0:6d}; time = {1:.3e}'.format(step,time)\n"
   ]
  },
  {
   "cell_type": "markdown",
   "metadata": {
    "collapsed": true
   },
   "source": [
    "## Scratch"
   ]
  },
  {
   "cell_type": "code",
   "execution_count": 182,
   "metadata": {},
   "outputs": [
    {
     "data": {
      "text/plain": [
       "array([  1.05918286e+02,   7.57092124e+01,   5.11800354e+01,\n",
       "         2.99776473e+01,   1.21626099e+01,  -3.14463019e+00,\n",
       "        -1.59976897e+01,  -2.69620607e+01,  -3.60988749e+01,\n",
       "        -4.38224302e+01,  -5.01894984e+01,  -5.55260741e+01,\n",
       "        -5.98805940e+01,  -6.35146873e+01,  -6.64570614e+01,\n",
       "        -6.89051669e+01,  -7.08666343e+01,  -6.42706469e+01,\n",
       "         2.59821399e+02,   5.51173307e+02,   8.26319511e+02,\n",
       "         1.09046830e+03,   1.34671269e+03,   1.59618271e+03,\n",
       "         1.83929363e+03,   2.07558630e+03,   2.30419447e+03,\n",
       "         2.52362955e+03,   2.73198465e+03,   2.92668949e+03,\n",
       "         3.10447720e+03,   3.26108875e+03,   3.39079961e+03,\n",
       "         3.48598431e+03,   3.53553893e+03,   3.52392386e+03,\n",
       "         3.42629479e+03,   3.20507802e+03,   2.79302699e+03,\n",
       "         2.07475728e+03,   8.08304228e+02,  -1.56433362e+03,\n",
       "        -5.93304210e+03,  -1.10779219e+04,  -1.50734446e+04,\n",
       "        -1.52387358e+04,  -6.18838250e+03,   8.20586139e+02,\n",
       "         8.91266471e+02])"
      ]
     },
     "execution_count": 182,
     "metadata": {},
     "output_type": "execute_result"
    }
   ],
   "source": []
  },
  {
   "cell_type": "code",
   "execution_count": 289,
   "metadata": {},
   "outputs": [],
   "source": [
    "#%pylab inline\n",
    "#fig, ax = plt.subplots()\n",
    "#ax.plot(  appliedTractionField.evaluate(rWalls)[:,0], depthFn.evaluate(lWalls)*2900)\n",
    "#ax.set_ylim(1500, -10)\n",
    "#update_boundary_pressure()"
   ]
  },
  {
   "cell_type": "code",
   "execution_count": 189,
   "metadata": {},
   "outputs": [
    {
     "data": {
      "text/plain": [
       "[<matplotlib.lines.Line2D at 0x7f0c03d6d310>]"
      ]
     },
     "execution_count": 189,
     "metadata": {},
     "output_type": "execute_result"
    },
    {
     "data": {
      "image/png": "[encoded data removed]",
      "text/plain": [
       "<matplotlib.figure.Figure at 0x7f0c03d6d2d0>"
      ]
     },
     "metadata": {},
     "output_type": "display_data"
    }
   ],
   "source": [
    "#fig, ax = plt.subplots()\n",
    "#ax.plot(  coordinate[0].evaluate(bWalls)*2900, velocityField.data[bWalls.data][:,1] )"
   ]
  },
  {
   "cell_type": "code",
   "execution_count": null,
   "metadata": {
    "collapsed": true
   },
   "outputs": [],
   "source": [
    "##some stuff I was working on try to get stress boundary condition on sides + bottom\n",
    "\n",
    "\n",
    "#setup density integral\n",
    "\n",
    "densIntegral = uw.utils.Integral(thermalDensityFn, mesh, integrationType='volume')\n",
    "densIntegralVal = densIntegral.evaluate()[0]\n",
    "\n",
    "#platethickness = 2.32*np.math.sqrt(1.*md.slabAge) #redefining a var (uw Fn) we no longer need\n",
    "platethickness = 0. #redefining a var (uw Fn) we no longer need\n",
    "\n",
    "\n",
    "plateRegionFn = depthFn < platethickness\n",
    "plateRegionFn = tm.b2f(plateRegionFn)\n",
    "\n",
    "\n",
    "plateDensIntegral = uw.utils.Integral(plateRegionFn*thermalDensityFn, mesh, integrationType='volume')\n",
    "plateDensIntegralVal = plateDensIntegral.evaluate()[0]\n",
    "\n",
    "\n",
    "\n",
    "vxId2 = lWalls & bWalls \n",
    "fixedVxNodes2  = mesh.specialSets[\"Empty\"]\n",
    "fixedVxNodes2  += vxId2\n",
    "\n",
    "def update_boundary_pressure():\n",
    "\n",
    "    totWidth = (mesh.maxCoord[0] - mesh.minCoord[0])\n",
    "    totDepth = (mesh.maxCoord[1] - mesh.minCoord[1])\n",
    "    totVolume = totWidth*totDepth\n",
    "\n",
    "\n",
    "    densIntegralVal = densIntegral.evaluate()[0]\n",
    "    platedensIntegralVal = plateDensIntegral.evaluate()[0]\n",
    "    baseAveragePressureVal = (densIntegralVal/(totVolume))/(mesh.maxCoord[0] - mesh.minCoord[0])\n",
    "    baseAveragePressureFn = fn.misc.constant(baseAveragePressureVal)\n",
    "\n",
    "    #apply to base\n",
    "\n",
    "    if bWalls.data.shape[0]:\n",
    "        appliedTractionField.data[[bWalls.data]]=  np.column_stack(( np.zeros(len(bWalls.data))  , \n",
    "                                                                baseAveragePressureFn.evaluate(bWalls) ) )\n",
    "\n",
    "    #apply to sides\n",
    "    plateDensFac = platedensIntegralVal/densIntegralVal\n",
    "\n",
    "    plateSidePressFn = baseAveragePressureVal*plateDensFac*(depthFn/platethickness)\n",
    "\n",
    "    mantleSidePressFn  = baseAveragePressureVal*plateDensFac +  \\\n",
    "                         (1. - plateDensFac)*baseAveragePressureVal*((depthFn - platethickness)/(totDepth -  platethickness))\n",
    "\n",
    "    #sidePressFn =  fn.branching.conditional( ((depthFn < platethickness, plateSidePressFn ), \n",
    "    #                                           (True,                      mantleSidePressFn)  ))\n",
    "    \n",
    "    sidePressFn = baseAveragePressureFn\n",
    "    \n",
    "    if lWalls.data.shape[0]:\n",
    "        appliedTractionField.data[[lWalls.data]]=  np.column_stack((sidePressFn.evaluate(lWalls), \n",
    "                                                            np.zeros(len(lWalls.data)) ))\n",
    "    if rWalls.data.shape[0]:\n",
    "        appliedTractionField.data[[rWalls.data]]=  np.column_stack((-1*sidePressFn.evaluate(rWalls), \n",
    "                                                                np.zeros(len(rWalls.data)) ))\n",
    "        \n",
    "    \n",
    "    #fix the bottom LHS corner\n",
    "    \n",
    "    appliedTractionField.data[[fixedVxNodes2.data]] = (baseAveragePressureVal, baseAveragePressureVal)\n",
    "    appliedTractionField.data[[fixedVxNodes2.data]] "
   ]
  },
  {
   "cell_type": "code",
   "execution_count": 85,
   "metadata": {},
   "outputs": [],
   "source": [
    "#%pylab inline"
   ]
  },
  {
   "cell_type": "code",
   "execution_count": null,
   "metadata": {},
   "outputs": [],
   "source": []
  },
  {
   "cell_type": "code",
   "execution_count": null,
   "metadata": {
    "collapsed": true
   },
   "outputs": [],
   "source": []
  }
 ],
 "metadata": {
  "kernelspec": {
   "display_name": "Python 3",
   "language": "python",
   "name": "python3"
  },
  "language_info": {
   "codemirror_mode": {
    "name": "ipython",
    "version": 3
   },
   "file_extension": ".py",
   "mimetype": "text/x-python",
   "name": "python",
   "nbconvert_exporter": "python",
   "pygments_lexer": "ipython3",
   "version": "3.5.3"
  }
 },
 "nbformat": 4,
 "nbformat_minor": 2
}
