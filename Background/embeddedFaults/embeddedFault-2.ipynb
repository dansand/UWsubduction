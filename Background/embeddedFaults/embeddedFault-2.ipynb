{
 "cells": [
  {
   "cell_type": "markdown",
   "metadata": {},
   "source": [
    "## Embedded Faults (interface2d) : particle density and smoothing\n",
    "\n",
    "\n",
    "In the context of a 2D continuum flow model, an embedded fault is a 1d line (based on on an Underworld2 swarm object) that we advect with the flow, and can be used to maintain and constrain a finite region of distinct material properties.\n",
    "\n",
    "Interface2D objects are advected using the standard parallel swarm advecting routines. During model evolution, it is likely that the embedded fault swarm will become less smooth and/or loose particle density. \n",
    "\n",
    "\n",
    "UW2 does not have functionality for managing the density or smoothness of 1D swarm objects, so we introduce some functionality for doing that. The smoothing is based on estimated a Laplacian operator (curvature) for the particles in the embedded fault.\n",
    "\n",
    "\n",
    "\n",
    "* Note that much of this functionality is not well tested. Some safeguards have been put in place for parallel operation, but problems are still likely to emerge."
   ]
  },
  {
   "cell_type": "code",
   "execution_count": 49,
   "metadata": {},
   "outputs": [],
   "source": [
    "import numpy as np\n",
    "import underworld as uw\n",
    "from underworld import function as fn\n",
    "import glucifer\n",
    "import operator\n",
    "import UWsubduction as usub\n",
    "from UWsubduction.interfaces.smoothing2D import *"
   ]
  },
  {
   "cell_type": "code",
   "execution_count": 34,
   "metadata": {},
   "outputs": [],
   "source": [
    "\n",
    "resX = 12\n",
    "resY = 12\n",
    "elementType=\"Q1/dQ0\"\n",
    "\n",
    "mesh = uw.mesh.FeMesh_Cartesian( elementType = (elementType), \n",
    "                                 elementRes  = ( resX, resY), \n",
    "                                 minCoord    = ( -0.5, -0.5), \n",
    "                                 maxCoord    = ( 0.5, 0.5)  ) \n",
    "\n",
    "\n",
    "velocityField    = uw.mesh.MeshVariable( mesh=mesh,         nodeDofCount=mesh.dim )\n",
    "\n",
    "velocityField.data[:] = [0.,0.]\n"
   ]
  },
  {
   "cell_type": "code",
   "execution_count": 35,
   "metadata": {},
   "outputs": [],
   "source": [
    "coordinate = fn.input()\n",
    "yFn = coordinate[1]"
   ]
  },
  {
   "cell_type": "code",
   "execution_count": 36,
   "metadata": {},
   "outputs": [],
   "source": [
    "velocityField.data[:,0] = 2.*yFn.evaluate(mesh)[:,0] #dVx/dy = 1\n",
    "velocityField.data[:,1] = 0."
   ]
  },
  {
   "cell_type": "code",
   "execution_count": 37,
   "metadata": {},
   "outputs": [],
   "source": [
    "swarm = uw.swarm.Swarm( mesh=mesh, particleEscape=False)\n",
    "proximityVariable = swarm.add_variable( dataType=\"int\", count=1 )\n",
    "directorVariable   = swarm.add_variable( dataType=\"double\", count=2)\n",
    "\n",
    "swarmLayout = uw.swarm.layouts.PerCellSpaceFillerLayout( swarm=swarm, particlesPerCell=20 )\n",
    "swarm.populate_using_layout( layout=swarmLayout )\n",
    "\n",
    "proximityVariable.data[:] = 0\n",
    "directorVariable .data[:] = (0.0, 0.0)"
   ]
  },
  {
   "cell_type": "code",
   "execution_count": 40,
   "metadata": {},
   "outputs": [],
   "source": [
    "#Set up some embedded faults (interface2D) with npisy data\n",
    "\n",
    "ds = 1./50\n",
    "\n",
    "np.random.seed = 1\n",
    "markerXs = np.arange(-0.5, 0.5, ds) + 0.02*np.random.rand(50)\n",
    "markerYs = 0.2*np.sin(2.*np.pi*markerXs) + 0.05*np.sin(8.*np.pi*markerXs) + 0.01*np.random.rand(50)\n",
    "\n",
    "\n",
    "markerThickness = 0.1\n",
    "\n",
    "ef1 = usub.interface2D(mesh, velocityField, markerXs, markerYs, \n",
    "                        markerThickness, 1, insidePt=(0.,-10.))\n",
    "\n"
   ]
  },
  {
   "cell_type": "code",
   "execution_count": 41,
   "metadata": {},
   "outputs": [
    {
     "data": {
      "text/html": [
       "<img src='data:image/png;base64,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'>"
      ],
      "text/plain": [
       "<IPython.core.display.HTML object>"
      ]
     },
     "metadata": {},
     "output_type": "display_data"
    }
   ],
   "source": [
    "fig1 = glucifer.Figure(figsize=(300,300))\n",
    "fig1.append(glucifer.objects.Mesh(mesh, opacity= 0.4))\n",
    "fig1.append( glucifer.objects.Points(ef1.swarm, pointsize = 5))\n",
    "\n",
    "fig1.show()"
   ]
  },
  {
   "cell_type": "markdown",
   "metadata": {},
   "source": [
    "## Repair interface2d\n",
    "\n",
    "The following function will add / remove particles to try to maintain spacing (provided by `ds`)\n",
    "\n",
    "it will also apply a Laplacian smoothing operation, which can be controlled by arguments:\n",
    "\n",
    "* _lambda\n",
    "* smoothCycles\n",
    "* laplaceLimit = 0.25 "
   ]
  },
  {
   "cell_type": "code",
   "execution_count": 54,
   "metadata": {},
   "outputs": [
    {
     "name": "stdout",
     "output_type": "stream",
     "text": [
      "Help on function repair_interface2D in module UWsubduction.interfaces.smoothing2D:\n",
      "\n",
      "repair_interface2D(interface2D, ds, smoothCycles=1, k=4, _lambda=0.5, laplaceLimit=0.25)\n",
      "    smoothCycles ...\n",
      "    k = max number of particles to search for neighbour information\n",
      "    _lambda = 0.5         #A dampening  applied to the entire laplacian vector\n",
      "    laplaceLimit = 0.25   #fraction of inter-particle distance that is the maximum laplace displacement\n",
      "\n"
     ]
    }
   ],
   "source": [
    "help(usub.interfaces.repair_interface2D)"
   ]
  },
  {
   "cell_type": "code",
   "execution_count": 55,
   "metadata": {},
   "outputs": [],
   "source": [
    "#run this function to repair the embedded fault\n",
    "usub.interfaces.repair_interface2D(ef1, ds, smoothCycles=5, k=8)"
   ]
  },
  {
   "cell_type": "code",
   "execution_count": 56,
   "metadata": {},
   "outputs": [
    {
     "data": {
      "text/html": [
       "<img src='data:image/png;base64,iVBORw0KGgoAAAANSUhEUgAAASwAAAEsCAIAAAD2HxkiAAAd4UlEQVR4nO3de1TT9/0/8E8ScoNAiElAEq4xyEVQyk0EEe93ppuuXtpp1+24nrp1q3Zbt27/7L+d7ZztOHtOu3mm09VDp05rq62Xo9Wi1XoQEQhGEAgEAjGBBBJy+yT5/pHfOP3Z1pKPIe8kPB9/9Og5ffF+RXiSTz6fz+v9Yfn9fgoAyGGTbgBgpkMIAQhDCAEIQwgBCEMIAQhDCAEIQwgBCEMIAQhDCAEIQwgBCEMIAQhDCAEIQwgBCEMIAQhDCAEIQwgBCEMIAQhDCAEIQwgBCEMIAQhDCAEIQwgBCEMIAQhDCAEIQwgBCEMIAQhDCAEIQwgBCEMIAQhDCAEIQwgBCEMIAQhDCAEIQwgBCEMIAQhDCAEIQwgBCEMIAUjzk1BXV0f6dQM8qa6ujkgc4oi82mvXrt29ezc1NTXYwgsXLqxZsybYqps3b1ZXVwdb9ejRo+TkZKlUGmzhrVu3qqqqgq1Ck1/FrEmNRlNYWBhs1c2bNw8ePBhsVUiQCSFFUampqQqFItgqsVjMoEoikTCoslqtzJZDk08Ic5MGg4FBlUwmC7YkVPCZEIAwhBCAMIQQgDCEEIAwhBCAMIQQgDCEEIAwhBCAMIQQgDCEEIAwhBCAMIQQgDCEEIAwhBCAMIQQgDCEEIAwYkO9Go3GYDAEW9XT09PU1BSeKp1Ol5SUxKDJ7u7u5OTkYKvQ5Ff19fUxWK67uzvYEoqitFotg6qQIBbCwsJCBuPPOp2urKws2CqLxcKgKj4+ntlkN7Pl0GSolqMoikHV+Pg4g4VCAoejAIQhhACEIYQAhCGEAIQhhACEIYQAhCGEAIQhhACEIYQAhCGEAIQhhACEIYQAhCGEAIQhhACEIYQAhCGEAIRF2WQ9s1Hrrq4uBlPkjOfBe3t7GTTJrApNfhUm66cKk/UhqUKTXwuT9QAQBIQQgDCEEIAwhBCAMIQQgDCEEIAwhBCAMIQQgDCEEIAwhBCAMIQQgDCEEIAwhBCAMIQQgDCEEIAwhBCAMGJDvcPDwwyqrFbr4OBgsFWjo6MMqoxGo9PpDLaKQpNfYTQaaZoOtooKb5MmkynYklDBO+E3YrPZcXHEfklNUbQ0SbqFiEbs+5eamspgvwNmuyRIJBIGVVarldlyaPIJYW7SYDAwqJLJZMGWhAp+RQEQhhACEIYQAhCGEAIQhhACGX6/f3h4uK2tzWw2k+6FsEg/uw2xxG639/T0CASC7Ozs7u7ut99+u6ura/78+Xv37hWLxffv36dpev78+RKJhHSnYYUQQpg4HI7Dhw9fvHgxISHhhRdeGBkZuXr1aldXl9lsrq6uHhoaev/992ma3rhx4969e4VCIel+wwchhOnldrsnJiZEIpHBYLh27dqnn34qEokyMjLKy8slEolEIklOTmaz2c3Nzc3NzTRNK5VKs9msVCo9Hg+HwyHdfjgghDCNhoaG3nvvvba2tpKSkg0bNkilUplMlpCQIJPJli1b5nA4urq6iouLa2pq2tvbc3JyPB5PTk4Oj8f74IMP7t+/z+PxSktLk5KSSL+O6YUQwjT69NNPGxoaHj161NvbW1paunv37szMzISEhO985ztyufwHP/iB2+3m8/ksFuvFF19MT0+nabq2tra7u/vQoUMtLS1KpbKoqGjjxo2kX8f0QgghxPx+v91u9/v9IpHI5XK5XC632+12u71eb21tbVlZ2eT9rmw2WyAQBKoUCsXOnTsDf9ZqtSaTyWQyJSQkzIRzpwghhJLf7799+/aZM2domt6wYcPixYu1Wm17e3tJScn8+fMpiuLxeN/6RebNm7dkyRKxWCyRSCoqKiiK8nq9bDabxWJN+wsgASGEULLZbKdOnTpx4gRN03a7/Q9/+MOvf/3r+/fvK5XKWbNmTfGLZGRkvPHGGwMDA4ODg3l5eZ9//vmNGzdkMtmGDRvkcvm09k8EQggh4PP5bDYbj8fzer0ej8ftdtM0HTgEFYvFMpls8rBzilJSUlJSUkZGRvr7+//+979fv35dKpV6PJ4f/ehHsTcYhRDCs3K73R9++OH169dlMtm2bdvWrVs3MTEROBx99jcuq9U6NDQ0NDTk8XiGhoZomp7KAW10QQjhWfX09DQ0NARCKBKJ9u7dW1JS4vP55HL5s1/oy8rKqq6u9ng8Mpmsqqoq9hJIEQyhRqMxGAzBVvX19TU1NQVb1dPTw6BKp9MlJSWhyS/r7+8PVPl8vo6OjoGBAaVSyefzTSaT0+m02Wy9vb3Nzc2Bk5+Te0w8S5PJycl1dXV5eXlCoVAsFjc2NtpstqSkJD6f/01V3d3dwS5EUZRWq2VQFRLEQlhYWMhg/Fmn05WVlQVbZbFYGFTFx8czm+xmtlxUNDk2NlZcXMzj8e7du3fp0iWNRlNQUPDqq6/u2LFDqVRKpdJdu3Z99cuGqkmDwXD06NGurq6ioqJdu3Y95RZTBi9tfHw82JJQweEofAu32x24smcwGK5cuXLjxo2amhqj0dja2trR0UHTdH9//+7du9etWycUCqVS6fR10tjYeOrUqc7OTq1WO2/evJUrV07fWuGEEMKTHA6HxWJJSkqKj4+/e/fuxYsXuVzuhg0brl27dvr0aZvNptVq6+vr1Wq1x+NRq9XZ2dl8Pj8jI2O6G/P//6Z7ubBBCIGiKMrpdPp8PqFQODIycvjw4dbW1tzc3E2bNh07duyjjz6Ki4uzWCxsNttqtY6OjprN5jlz5uzbt+/hw4e5ubmlpaXhaXLx4sWdnZ2Bw1EGB5wRCyEEqqWl5fTp0263O3B14cyZM21tbWq1WiwWj4yMmM1mLpdrtVpXr17d0tISuL0zNzc3KSmpuro6nH0qFIrXX399bGwsOTnZarU2NTWlpKSkp6dH+500COEM5ff73W43l8udmJg4ceJEQ0OD2+22WCxLlizhcDhsNpvD4aSkpNTV1Y2Pj3O53Lq6urVr13q9XpVKlZ2dTWqyIT4+Pj4+vq+v78CBAy0tLWq1+qc//em8efOINBMqCOFM5HQ6v/jii9u3b6vV6traWrvdbrfb3W633W4vLi7eunVrXl5ebm5uXV1dcnJydXU1h8PJycnhcrmJiYmBW0DJam9vb2xsbGlpGRoaqqqqQggh+jQ3N589e3ZwcFCtVotEotWrV1ssFrfbvWbNmkD8xsbGRCJR4F6zgoIC0v0+SSKRyGQyuVwul8sJbtobKgjhTDQyMmKxWEwmU3Jy8sjIyM6dO4uLi71er0KhCFxnj/Cf7JKSkj179rS2tqrV6sWLF7tcLh6PF72fDBHCmcLpdGo0GpfLVVBQUFRUVFJSkpmZqVary8rKOBxOeno66QaDIBAI6uvr161bZ7FYTpw4MTg4WFlZuWLFCi6XS7o1JhDCGcHr9Z4+ffq9995zOBzr1q179dVXt27dmpOTk5qaqlQqSXfHBIvFiouLu3DhwqFDhwYHB1tbW9PT04uKikj3xQRCOCM4HI47d+7cuXPH4XBIpdItW7ZIJJJov9Tm9/vNZrPZbDaZTGazmeB9Z88IIZwReDxeenp6enq6w+FIT09PTEwk3VEIsNnsRYsWtba2DgwMVFVV5ebmku6IIYQwxtE0zWKxeDze9u3bJRKJw+FYunTptN7hGU7l5eWzZ88eHR2VSqWdnZ0dHR3ReESKEMYsv99/7969y5cvCwSCDRs2qFSql156iaKo6D2L+FVsNjszM1OhUBw9evT99993u90bN25cuHAh6b6CgxDGLLPZfOTIkXPnzgkEgrGxsf379we7x0S0sNlsTU1NTU1Nbrc7LS1tzpw5pDsKDkIYsyYmJgIbB/L5/MePH7vd7lgNoVAozM7OzsrK8ng8BG+pYwyT9d+I8Tx4b2/vswytB+UpTbpcrrS0tPz8fB6PJ5PJtFrtl7dI0uv1DJZj9tIY/0tOvcmCgoJ169Z5PJ7S0lKDwfDZZ58JBIKgtoTCZP1UYbL+CU9vcsGCBV1dXVwuV61WP7E7S+Q0GarlAht1t7a2HjhwgM/nr1ixor6+PnAD0FRgsh5CZmJi4v79+w6Ho7i4WCaTLViwgHRH4RPY9+3y5csTExMjIyMLFixQqVSkm/p2CGFMCdwZ8+9//9tut69Zs+a1116LjUuCU+T3+2ma9nq9NE3TNO3z+Uh3NCUIYUxxOBzNzc1379612+1yudxoNM6oEPL5/LVr12q1Wi6Xu2LFiszMTL/fH/mXZBDCmMLn87Ozs7Ozs+12e3Z2tlgsJt1RuFVUVPz4xz/Oy8uTy+WdnZ2NjY0ikWjlypUpKSmkW/tGCGFM4XK527Ztk8vldru9pqYmwieSpgOLxUpKSlIoFEaj8d1337106VJiYuLIyMgrr7wy9ZM0YRahbUGwAg8kY7PZcrl827ZtpNshz2q19vX19fX1iUSivr4+l8uFEMI08vl8V65cuXDhgkAg2LJlS0lJCemOyEtNTS0vLx8dHRWJRGVlZUKh0OPx+Hy+p2zdTQpCGAuGh4cbGho+/vhjgUDAYrECm8aTboqwpKSkn/zkJ0uWLBEKhUVFRVqt9uzZsx6PZ/Xq1RUVFRF1tgYhjAU0TTudTqfTyWKxnE6n1+sl3VFEkMlktbW1FEVNTEw0NDQ0NDR4PB6j0ahSqSLq0zJCGAtmz569fv16FoslEAjWrl2bkJBAuqPI4vF4LBaLxWLxeDyjo6NOp5OKpKf/IoRRz+fzsVis73//+0uWLImLi0tJSYmEH6yIkpiYuHTp0uHhYY/Hs3z5cplMdv369S+++CItLW39+vVPebBMeCCE0S2wYXZcXFxdXV15eXnsPcU2JNhs9saNG+fPn0/TdFZWlk6ne+edd27dupWWlsZisXbs2EH21xZCGMU8Hs/FixePHTvmcrm6urrS09MZ3CQ9Q3C53Mk5w9HR0aGhocBUx9DQkM/nGx8fHxgYIPWQGWIhdLvdn3/+uV6vz8vLKyoqwq9wBmiaDkwMOhwOo9EYvTsdhZlKpVq0aBFFUWlpaRUVFQaD4Z133rl27ZrRaNTpdFlZWWHuh1gIb9261dDQ0NPT89xzz7355pv5+fmkOoleAoGgvLz8wYMHPp9v8eLFUbp5YfilpKT8/Oc/r6+vl0gkarX63LlzFy9evH//fmJi4p07d2ZQCB89etTR0dHb2ysQCPr6+hDCYHm9XovFUlRU9Ktf/SoxMTGwoT3ppqJGSkrK5N2kQqEwISFBKBRyOBwiJ5aJhVAsFmdmZlIUlZ6ezuPxAoP2UqlULpc/5VOy1WqdfBL61I2OjjKoCjyHPdgqKixN0jR96dKlmzdvcjicTZs25ebm2mw2m80WUU1OMhqNNE0HW0WFq8mMjIy1a9cKBILBwcHAYWqYEQvhwoUL1Wq1wWCYM2cOn8//y1/+0t7enpWV9fLLL0f7Q3bCoK+v77///e/NmzcTEhJEIlFRUVGU7gAfCZKSkl544YXMzMx33303OTk5/A0QC6FSqayoqAj8+cKFC21tbffu3bNarXq9ftWqVd9UxWyXBIlEwqDKarUyWy4MTY6Pjwf2UGGz2SKRKC0t7YndKyKhyUlh/pc0GAwMqtLS0oItCZWIuEQxa9aswGOuUlJS5HI56XaiQHZ29ubNm8ViMYfDWbZsWbAJhIgSESGcP3/+nj177t+/r1KplixZ0tHRcffuXalUWlNTM6MGw6fC6/W2trZ2dnbm5uYuX758cHAQJ0WjXUSEkM/nb9iwYc2aNXFxcQMDA3/7298aGxvlcrnVan3++edxE9aXtba2/ulPf2pvb8/Ly3vjjTdwRjQGREQIKYpisViBUwvDw8NdXV1dXV0Wi6Wrq8vj8eBY68sePXqk0Wg0Go3X63348GFpaSnpjuBZRUoIJymVyqKiIovFIpPJ5s2bh5N+T1CpVPn5+V6vNy8vT61Wk24HQiDiQjh79uzXXntt+fLlgQfo0TRtNBoDe0jP8ONSn8/3+PFjiUTyi1/8oqenR6VSlZaWdnZ2ku4LnlXEhZCiqMB+YRRFud3uhoaGy5cvi0SinTt31tTUkG6NGL/f39jYePz4cbvdvmrVqu3bt+MoPWZEYggn6fX6c+fOXbp0SSQSSaXSmfz5x+l0Xrhw4fz58zabzePx1NbW5uTkkG4KQiOiQ8jhcLhcLo/H4/F4XC53Jk9asNlsgUAgEAhomubz+RG7cRgwENHfS6VSuW3bNplMJhKJNm/eHIH7ZIUNl8v97ne/S9O0zWZbuXIl5gZjSUSHMC4ubv369YFdG+Lj471eL4vFstvtM2oPFYfDcfny5UePHhUWFu7bty9wn9oMP0cVYyI6hBRFsdnswDMf3W736dOnT5w4cffu3Z07dxYUFJBuLUxu3Ljx9ttvd3Z2FhcXi8XiqHsWNHyrSA/hpO7u7hMnTly+fLm9vT05OVmtVs+QS4gGg0Gv1w8MDEgkkuHhYdLtQOhFTQh9Pt+Xn3pFup3wWbBgwcKFC6VSaVFRUWFhIel2IPSiJoQqlWrTpk00Tefl5a1duzbm3wa9Xm93d7fFYsnOzv7tb39rMBgyMjICY9AQY6ImhAKB4MUXX4yPj1+9enVg8tLn88XwRYvGxsZ//OMfw8PDNTU1P/vZzyZ3CoPYQyyEgf0sgq0yGAzd3d1jY2ONjY1GozE/P7+iooLD4Ty9qqenp6mpKdi1dDpdUlISgyZ7e3sZLNff3z9ZRdP0yZMnr1y5Yjabx8bGVCrVN+02EOYmmVUxblKv1zNYrru7O9gSiqK0Wi2DqpAgFsLCwkIGF7t0Ol1ZWdmpU6euXLmi1+tNJtOyZcu+9ZOSxWIpKysLdq34+Hhmk93Mlvtyld/vf/DgwZ07d/h8/ty5cxctWpSbmxtpTU5dmJukKIpBFcENI6PmcHSSz+cbGBjQ6/V6vT4tLc1kMpHuKJSGh4f1er1cLl+/fn3gr1VVVSqVinRfMI2iL4RsNrusrKyyslKhUFRUVMTShyW9Xn/gwIHm5maVSrV3795du3Z5vV7coRbzovIbXFVVJZVKTSaTSqVSKBR+vz827iDRaDSfffbZvXv3BgcHFy5cOH/+fCRwJojK7zGHwwlsFuxyuT755JOHDx/m5+fX1dVF6c2ldrt9ZGTE5XLJ/0cmk0XUA/RgWkVlCCfdvn374MGDDx48KCwsFIlE1dXVpDsK2tDQ0KFDhzo6OoRC4e9+97s9e/a0tLTk5OQsXbqUdGsQJtEdwsAtXXq9PjExkcEZcIJsNpvL5UpOTr5z585HH32k0WgUCsW9e/c2bdoU2PAqNg6wYSqiO4RFRUXl5eUikaiwsDDyb+lyuVxsNpvL5Wo0muPHj5vN5rq6uvj4eC6Xy+VyA8OTkxtewcwR3SEsKCh48803BwYGMjIyJBKJXq+XyWQCgYB0X//PxMSE3W5PTk7mcDg3bty4evWqSCTauHHjuXPnTp48aTabTSbT/v37n3/++Y6ODh6PR+RBCEBcdIeQzWar1Wq1Wq3Vav/4xz/q9fqFCxe+9NJLpLYM9vl8drs9cDOdTqf717/+1d/fX15eXldXd+TIkcuXLycmJrrd7sBt6F6v1+v1isXiV155xWazNTU1zZo1i0jbQFZ0hzDA7/dfvXr1ww8/HBgYMBqNlZWVRIbuPB7P+fPnr1275na7lUplY2PjqVOn+vv7dTqdSCSyWCwWi8Xr9Y6Pj9fX14+OjprN5qVLl+bk5HC5XIlEgg+BM1YshJCiqLi4OC6XG/jvt95KGkI+n89kMrnd7tTUVJ1O19DQEDjmzM7OTkpK8v9PWlrasmXLvF5vYmJiXV3dwoUL8/PznU6nVCrFJ0CIhRCyWKxVq1YZjcaBgYHKysr8/HyPxxOGH26/33/jxo3jx4/bbLZVq1aVlJQ4nU6n08nj8ZxOZ319/cDAQOBwtKKioqqqasWKFQKBIDMzk8ViEXkEF0SmWAghRVFZWVn79u1zOBxjY2NHjx61WCx1dXWLFi2a1lknp9P5ySefnDt3zmazud3u8vLydevWCYVCv9+/atWqvLy8X/7yl3a7XSKRBPYInTlbckBQYiSEFEUJBIK4uLhjx44dPnzYYrE8evQoMzMzIyMjtKt4vd62trbu7u6cnJy5c+dObkMoEAhEItHu3bvXrl3b2tpaWVlJUZRIJMIDW+BbxU4IKYqiadpkMplMJovFYjKZgnp89BS1trb++c9/1mg0+fn5+/fv//I2hEqlksPhZGZmdnZ24iwLTF1MhZDP5y9evDjwRKfa2tqMjIyQT993dXW1tbVpNBqapjs7O7dv3z5nzhyaprENITAWZZP1fX19Tx+1FovFmzZtmpiYUCgUR44cMRgMubm5gRvEgl1rch7c5XINDAywWCylUmmz2SQSSVpamkQimZiY+NpmmM2Dh3n8/1v/Jb/Wl8f/py7MTWKyfqqeZbL+6f9P4CLhuXPnzpw509vb+9xzz61Zs4bxPLhMJvvnP//5wQcfsNnsrVu37tixo7Cw8OHDh2q1uqys7GvPwcbw0HpUNElhsj5CTE7fy+XysbExxl/HbDbfunXr1q1bbDY7PT29vr6+srIycN4FICRiNoQlJSWVlZUpKSnPPfdcenq6wWDw+XypqalTHJMdGRnR6/UejycrK0uhUKSlpXE4HIVCER8fP92dw0wTsyEsLy9/6623hoeHs7OzP/7449///vc0TdfX12/evPlbb6kxGAwHDx68fft2Tk7O66+//tJLL6Wnp3M4nFWrViGEEHIxG0I2m52Xl5eXl2exWG7evHnp0iWapjkcTk1NTWpqKkVRXz2ZSdO02+0WCoVtbW1Xr15tbm4eHBysrq7+4Q9/GHgwdQxvcwoExWwIJ3E4HB6Px+fzORwOn88fHBw8f/48TdPLly9Xq9Uul8vr9QqFwsePH584cUKv15eXl8vl8uTkZLFYLBaLA6dVET+YPrEfQpFItHz5crlcTtP0ihUrzp8/f/LkSa/Xq9Ppvve97124cGFsbGz58uUGg+HIkSN6vb69vf03v/nNyy+/PHfuXGwzAWEQ+yFksVgpKSlvvfWW3+93uVynT5/W6/U0Tff29v7nP/85e/bs+Pi4wWDIzs62/Y/P59uyZUteXp5EIpFIJKRfAcS42A9hQOC5ogKBoKKiQqfT0TRdVlb2+PFju91us9nsdntpaWngjGhFRUVBQQGLxYqLi8NRKITBTAlhQFxc3Pbt24uLi71e77x585qbmx8/fjw+Pr5y5crVq1dXVVVZrda0tDRSg/kwM82sEFIUlZCQMHmpvba2NnBTm0Kh4PP5QqEwcOIUIJxmXAi/jM1mM7iXCiC08JkHgDCEEIAwhBCAMIQQgDCEEIAwYmdHh4eHGVRZrdbBwcFgq0ZHRxlUmUwmmqaDraLQ5FdES5PBloQK3gmfhtmPTjj5fL6oaJJ0CxGN2Dthamoqg2t0zHZJkEgkDKqsViuz5dDkE8LcpMFgYFBF8KmseCcEIAwhBCAMIQQgDCEEIAwhBCAMIQQgDCEEIAwhBCAMIQQgDCEEIAwhBCAMIQQgDCEEIAwhBCAMIQQgDCEEIIzYUK9GozEYDMFW9fX1NTU1BVs1ODjIoEqn0yUlJTFosre3l8FyzKpiu0m9Xs9gue7u7mBLKIrSarUMqkKCWAgLCwsZjD/rdLqysrJgqywWC4Oq+Ph4ZpPdzJZDk6FajqIoBlXj4+MMFgoJHI4CEIYQAhCGEAIQhhACEIYQAhCGEAIQhhACEIYQAhCGEAIQhhACEIYQAhCGEAIQhhACEIYQAhCGEAIQhhACEBZlk/VDQ0MMRq17enrCOQ/ObPy/v78fTT6BWZN9fX3BllCYrJ86TNY/AU1+LUzWA0AQEEIAwhBCAMIQQgDCEEIAwhBCAMIQQgDCEEIAwhBCAMIQQgDCEEIAwhBCAMIQQgDCEEIAwhBCAMIQQgDCiA313rx5UyaTBVvV1tY2a9asYKtaWlo4HE6wVTqdLiEhgUGTzJZDk6FaTqvVMpjQvXfvXrAlocLy+/3hX3Xp0qXhXxTg6UpKSv7617+Gf10yIQSASfhMCEAYQghAGEIIQBhCCEAYQghAGEIIQBhCCEAYQghAGEIIQBhCCEAYQghAGEIIQBhCCEAYQghAGEIIQBhCCEAYQghAGEIIQBhCCEAYQghAGEIIQBhCCEAYQghAGEIIQBhCCEAYQghAGEIIQBhCCEAYQghAGEIIQBhCCEAYQghAGEIIQBhCCEAYQghAGEIIQBhCCEAYQghA2P8BB+t+WaDBlowAAAAASUVORK5CYII='>"
      ],
      "text/plain": [
       "<IPython.core.display.HTML object>"
      ]
     },
     "metadata": {},
     "output_type": "display_data"
    }
   ],
   "source": [
    "fig2 = glucifer.Figure(figsize=(300,300))\n",
    "fig2.append(glucifer.objects.Mesh(mesh, opacity= 0.4))\n",
    "fig2.append( glucifer.objects.Points(ef1.swarm, pointsize = 5))\n",
    "\n",
    "fig2.show()"
   ]
  },
  {
   "cell_type": "code",
   "execution_count": null,
   "metadata": {},
   "outputs": [],
   "source": []
  }
 ],
 "metadata": {
  "kernelspec": {
   "display_name": "Python 3",
   "language": "python",
   "name": "python3"
  },
  "language_info": {
   "codemirror_mode": {
    "name": "ipython",
    "version": 3
   },
   "file_extension": ".py",
   "mimetype": "text/x-python",
   "name": "python",
   "nbconvert_exporter": "python",
   "pygments_lexer": "ipython3",
   "version": "3.5.3"
  }
 },
 "nbformat": 4,
 "nbformat_minor": 2
}
