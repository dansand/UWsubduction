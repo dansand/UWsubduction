{
 "cells": [
  {
   "cell_type": "markdown",
   "metadata": {},
   "source": [
    "## Embedded Faults (interface2d) : repopulation and smoothing\n",
    "\n",
    "* interface2D objects are advected using the standard parallel swarm advecting routines\n",
    "* UW2 does not have functionality for managing the density of 1D swarm objects, so we introduce some functionality for doing that\n",
    "* Note that much of this functionality is not well tested"
   ]
  },
  {
   "cell_type": "code",
   "execution_count": 49,
   "metadata": {},
   "outputs": [],
   "source": [
    "import numpy as np\n",
    "import underworld as uw\n",
    "from underworld import function as fn\n",
    "import glucifer\n",
    "import operator\n",
    "import UWsubduction as usub\n",
    "from UWsubduction.interfaces.smoothing2D import *"
   ]
  },
  {
   "cell_type": "code",
   "execution_count": 34,
   "metadata": {},
   "outputs": [],
   "source": [
    "\n",
    "resX = 12\n",
    "resY = 12\n",
    "elementType=\"Q1/dQ0\"\n",
    "\n",
    "mesh = uw.mesh.FeMesh_Cartesian( elementType = (elementType), \n",
    "                                 elementRes  = ( resX, resY), \n",
    "                                 minCoord    = ( -0.5, -0.5), \n",
    "                                 maxCoord    = ( 0.5, 0.5)  ) \n",
    "\n",
    "\n",
    "velocityField    = uw.mesh.MeshVariable( mesh=mesh,         nodeDofCount=mesh.dim )\n",
    "\n",
    "velocityField.data[:] = [0.,0.]\n"
   ]
  },
  {
   "cell_type": "code",
   "execution_count": 35,
   "metadata": {},
   "outputs": [],
   "source": [
    "coordinate = fn.input()\n",
    "yFn = coordinate[1]"
   ]
  },
  {
   "cell_type": "code",
   "execution_count": 36,
   "metadata": {},
   "outputs": [],
   "source": [
    "velocityField.data[:,0] = 2.*yFn.evaluate(mesh)[:,0] #dVx/dy = 1\n",
    "velocityField.data[:,1] = 0."
   ]
  },
  {
   "cell_type": "code",
   "execution_count": 37,
   "metadata": {},
   "outputs": [],
   "source": [
    "swarm = uw.swarm.Swarm( mesh=mesh, particleEscape=False)\n",
    "proximityVariable = swarm.add_variable( dataType=\"int\", count=1 )\n",
    "directorVariable   = swarm.add_variable( dataType=\"double\", count=2)\n",
    "\n",
    "swarmLayout = uw.swarm.layouts.PerCellSpaceFillerLayout( swarm=swarm, particlesPerCell=20 )\n",
    "swarm.populate_using_layout( layout=swarmLayout )\n",
    "\n",
    "proximityVariable.data[:] = 0\n",
    "directorVariable .data[:] = (0.0, 0.0)"
   ]
  },
  {
   "cell_type": "code",
   "execution_count": 40,
   "metadata": {},
   "outputs": [],
   "source": [
    "#Set up some embedded faults (interface2D) with npisy data\n",
    "\n",
    "ds = 1./50\n",
    "\n",
    "np.random.seed = 1\n",
    "markerXs = np.arange(-0.5, 0.5, ds) + 0.02*np.random.rand(50)\n",
    "markerYs = 0.2*np.sin(2.*np.pi*markerXs) + 0.05*np.sin(8.*np.pi*markerXs) + 0.01*np.random.rand(50)\n",
    "\n",
    "\n",
    "markerThickness = 0.1\n",
    "\n",
    "ef1 = usub.interface2D(mesh, velocityField, markerXs, markerYs, \n",
    "                        markerThickness, 1, insidePt=(0.,-10.))\n",
    "\n"
   ]
  },
  {
   "cell_type": "code",
   "execution_count": 41,
   "metadata": {},
   "outputs": [
    {
     "data": {
      "text/html": [
       "<img src='data:image/png;base64,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'>"
      ],
      "text/plain": [
       "<IPython.core.display.HTML object>"
      ]
     },
     "metadata": {},
     "output_type": "display_data"
    }
   ],
   "source": [
    "fig1 = glucifer.Figure(figsize=(300,300))\n",
    "fig1.append(glucifer.objects.Mesh(mesh, opacity= 0.4))\n",
    "fig1.append( glucifer.objects.Points(ef1.swarm, pointsize = 5))\n",
    "\n",
    "fig1.show()"
   ]
  },
  {
   "cell_type": "code",
   "execution_count": 44,
   "metadata": {},
   "outputs": [],
   "source": [
    "usub.interfaces.repair_interface2D?"
   ]
  },
  {
   "cell_type": "code",
   "execution_count": 42,
   "metadata": {},
   "outputs": [],
   "source": [
    "usub.interfaces.repair_interface2D(ef1, ds, smoothCycles=5, k=8)"
   ]
  },
  {
   "cell_type": "code",
   "execution_count": 43,
   "metadata": {},
   "outputs": [
    {
     "data": {
      "text/html": [
       "<img src='data:image/png;base64,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'>"
      ],
      "text/plain": [
       "<IPython.core.display.HTML object>"
      ]
     },
     "metadata": {},
     "output_type": "display_data"
    }
   ],
   "source": [
    "fig2 = glucifer.Figure(figsize=(300,300))\n",
    "fig2.append(glucifer.objects.Mesh(mesh, opacity= 0.4))\n",
    "fig2.append( glucifer.objects.Points(ef1.swarm, pointsize = 5))\n",
    "\n",
    "fig2.show()"
   ]
  },
  {
   "cell_type": "code",
   "execution_count": 50,
   "metadata": {},
   "outputs": [],
   "source": [
    "a = ef1.neighbourMatrix()\n",
    "#L = testLine.laplacianMatrix(k = 8)\n",
    "#pd = testLine.pairDistanceMatrix()\n",
    "    \n",
    "#l = laplaceVector(testLine, k = 8, limit=0.25)\n",
    "ndq = neighbourDistanceQuery(ef1, a, _lowdist=1e-10, _updist = False)"
   ]
  },
  {
   "cell_type": "code",
   "execution_count": 52,
   "metadata": {},
   "outputs": [],
   "source": [
    "neighbourDistanceQuery?"
   ]
  },
  {
   "cell_type": "markdown",
   "metadata": {
    "collapsed": true
   },
   "source": [
    "## Healing"
   ]
  },
  {
   "cell_type": "code",
   "execution_count": 39,
   "metadata": {},
   "outputs": [],
   "source": [
    "from UWsubduction.interfaces.smoothing2D import *"
   ]
  },
  {
   "cell_type": "code",
   "execution_count": 40,
   "metadata": {},
   "outputs": [],
   "source": [
    "#from usub import *"
   ]
  },
  {
   "cell_type": "code",
   "execution_count": 41,
   "metadata": {},
   "outputs": [
    {
     "data": {
      "text/plain": [
       "(40,)"
      ]
     },
     "execution_count": 41,
     "metadata": {},
     "output_type": "execute_result"
    }
   ],
   "source": [
    "np.unique(ef1.swarm.particleCoordinates.data[:,0]).shape"
   ]
  },
  {
   "cell_type": "code",
   "execution_count": 42,
   "metadata": {},
   "outputs": [],
   "source": [
    "#line1.rebuild()\n",
    "out = shadowMask(ef1)\n"
   ]
  },
  {
   "cell_type": "code",
   "execution_count": 44,
   "metadata": {},
   "outputs": [],
   "source": [
    "ds = 1.6/40.\n",
    "A = ef1.neighbourMatrix(k =4, jitter=1e-8)\n",
    "midPoints, currentIds = neighbourDistanceQuery(ef1, A, _lowdist=0.,_updist= 5.5*ds)"
   ]
  },
  {
   "cell_type": "code",
   "execution_count": 45,
   "metadata": {},
   "outputs": [
    {
     "data": {
      "text/plain": [
       "array([ 1,  0,  2,  1,  3,  2,  4,  3,  5,  4,  6,  5,  7,  6,  8,  7,  9,\n",
       "        8, 10,  9, 11, 10, 12, 11, 13, 12, 14, 13, 15, 14, 16, 15, 17, 16,\n",
       "       18, 17, 19, 18, 20, 19, 21, 20, 22, 21, 23, 22, 24, 23, 25, 24, 26,\n",
       "       25, 27, 26, 28, 27, 29, 28, 30, 29, 31, 30, 32, 31, 33, 32, 34, 33,\n",
       "       35, 34, 36, 35, 37, 36, 38, 37])"
      ]
     },
     "execution_count": 45,
     "metadata": {},
     "output_type": "execute_result"
    }
   ],
   "source": [
    "#dummy = usub.pop_or_perish(tm, fCollection, faultMasterSwarm, faultAddFn , ds)\n"
   ]
  },
  {
   "cell_type": "markdown",
   "metadata": {
    "collapsed": true
   },
   "source": [
    "## Tests for small data"
   ]
  },
  {
   "cell_type": "code",
   "execution_count": 46,
   "metadata": {},
   "outputs": [],
   "source": [
    "%load_ext autoreload\n"
   ]
  },
  {
   "cell_type": "code",
   "execution_count": 53,
   "metadata": {},
   "outputs": [
    {
     "data": {
      "text/plain": [
       "array([-0.8       , -0.75897436, -0.71794872, -0.67692308, -0.63589744,\n",
       "       -0.59487179, -0.55384615, -0.51282051, -0.47179487, -0.43076923,\n",
       "       -0.38974359, -0.34871795, -0.30769231, -0.26666667, -0.22564103,\n",
       "       -0.18461538, -0.14358974, -0.1025641 , -0.06153846, -0.02051282,\n",
       "        0.02051282,  0.06153846,  0.1025641 ,  0.14358974,  0.18461538,\n",
       "        0.22564103,  0.26666667,  0.30769231,  0.34871795,  0.38974359,\n",
       "        0.43076923,  0.47179487,  0.51282051,  0.55384615,  0.59487179,\n",
       "        0.63589744,  0.67692308,  0.71794872,  0.75897436,  0.8       ])"
      ]
     },
     "execution_count": 53,
     "metadata": {},
     "output_type": "execute_result"
    }
   ],
   "source": [
    "markerXs"
   ]
  },
  {
   "cell_type": "code",
   "execution_count": 48,
   "metadata": {},
   "outputs": [
    {
     "name": "stdout",
     "output_type": "stream",
     "text": [
      "1\n",
      "1\n",
      "2\n",
      "3\n",
      "5\n",
      "8\n",
      "13\n",
      "21\n",
      "34\n",
      "55\n",
      "89\n",
      "144\n",
      "233\n",
      "377\n"
     ]
    }
   ],
   "source": [
    "fib = lambda n: n if n < 2 else fib(n-1) + fib(n-2)\n",
    "\n",
    "for i in range(1, 15):\n",
    "    \n",
    "    i = fib(i)\n",
    "    \n",
    "    testLine = usub.interface2D(mesh, velocityField, markerXs[:i], markerYs[:i], \n",
    "                        markerThickness, 1, insidePt=(0.,-10.))\n",
    "    print(i)\n",
    "    \n",
    "    ### basic matrices: methods of markerLine2D\n",
    "    \n",
    "    a = testLine.neighbourMatrix()\n",
    "    L = testLine.laplacianMatrix(k = 8)\n",
    "    pd = testLine.pairDistanceMatrix()\n",
    "    \n",
    "    ### accessory routines: bits of functions from healing2d\n",
    "    \n",
    "    l = laplaceVector(testLine, k = 8, limit=0.25)\n",
    "    ndq = neighbourDistanceQuery(testLine, a, _lowdist=1e-10, _updist = False)\n",
    "    mask = np.where(a.sum(axis=1) != 2)\n",
    "    sm = shadowMask(testLine)\n",
    "    pt = particlesToAdd(testLine, a, _lowdist=0.0001, _updist = False)\n",
    "    "
   ]
  },
  {
   "cell_type": "code",
   "execution_count": 54,
   "metadata": {},
   "outputs": [],
   "source": [
    "#The repair_interface2D routine is supposed to maintain particle density and smooth\n",
    "usub.interfaces.repair_interface2D(testLine, ds, smoothCycles=1, k=8)"
   ]
  },
  {
   "cell_type": "code",
   "execution_count": null,
   "metadata": {},
   "outputs": [],
   "source": []
  }
 ],
 "metadata": {
  "kernelspec": {
   "display_name": "Python 3",
   "language": "python",
   "name": "python3"
  },
  "language_info": {
   "codemirror_mode": {
    "name": "ipython",
    "version": 3
   },
   "file_extension": ".py",
   "mimetype": "text/x-python",
   "name": "python",
   "nbconvert_exporter": "python",
   "pygments_lexer": "ipython3",
   "version": "3.5.3"
  }
 },
 "nbformat": 4,
 "nbformat_minor": 2
}
