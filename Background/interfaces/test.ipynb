{
 "cells": [
  {
   "cell_type": "markdown",
   "metadata": {
    "deletable": true,
    "editable": true
   },
   "source": [
    "## Test\n",
    "\n",
    "\n",
    "Replacing insidePt with another interface2D object"
   ]
  },
  {
   "cell_type": "code",
   "execution_count": null,
   "metadata": {
    "collapsed": true,
    "deletable": true,
    "editable": true
   },
   "outputs": [],
   "source": []
  },
  {
   "cell_type": "code",
   "execution_count": 1,
   "metadata": {
    "collapsed": false,
    "deletable": true,
    "editable": true
   },
   "outputs": [],
   "source": [
    "#use this block to point to a local version of UWsubduction\n",
    "import sys\n",
    "\n",
    "sys.path.append('../../../UWsubduction/')"
   ]
  },
  {
   "cell_type": "code",
   "execution_count": 2,
   "metadata": {
    "collapsed": false,
    "deletable": true,
    "editable": true
   },
   "outputs": [],
   "source": [
    "import numpy as np\n",
    "import underworld as uw\n",
    "from underworld import function as fn\n",
    "import glucifer\n",
    "import operator\n",
    "import UWsubduction as usub"
   ]
  },
  {
   "cell_type": "code",
   "execution_count": 3,
   "metadata": {
    "collapsed": true,
    "deletable": true,
    "editable": true
   },
   "outputs": [],
   "source": [
    "minX = -1.0\n",
    "maxX = 1.0\n",
    "resX = 48\n",
    "resY = 48\n",
    "elementType=\"Q1/dQ0\"\n",
    "\n",
    "mesh = uw.mesh.FeMesh_Cartesian( elementType = (elementType), \n",
    "                                 elementRes  = ( resX, resY), \n",
    "                                 minCoord    = ( minX, -1.), \n",
    "                                 maxCoord    = ( maxX, 1.),\n",
    "                                 periodic    = [False, False]  ) \n",
    "\n",
    "\n",
    "velocityField    = uw.mesh.MeshVariable( mesh=mesh,         nodeDofCount=mesh.dim )\n",
    "\n",
    "velocityField.data[:] = [0.,0.]\n"
   ]
  },
  {
   "cell_type": "code",
   "execution_count": 4,
   "metadata": {
    "collapsed": true,
    "deletable": true,
    "editable": true
   },
   "outputs": [],
   "source": [
    "#spiral points\n",
    "\n",
    "def polar_to_cartesian(r, theta):\n",
    "    return r*np.cos(theta), r*np.sin(theta)\n",
    "\n",
    "\n",
    "def spiral(N, thetastart, dtheta, rstart, rend):\n",
    "    points = []\n",
    "    rs = np.linspace(rstart, rend, N)\n",
    "    rnorm = rs.mean()\n",
    "    theta= thetastart\n",
    "    sp = polar_to_cartesian(rstart, theta)\n",
    "    points.append(sp)\n",
    "    for i in range(1, N):\n",
    "        sp = polar_to_cartesian(rs[i], theta)\n",
    "        points.append(sp)\n",
    "        theta += dtheta/(rs[i]/rnorm)\n",
    "        \n",
    "    return np.array(points)\n",
    "        \n",
    "     "
   ]
  },
  {
   "cell_type": "code",
   "execution_count": null,
   "metadata": {
    "collapsed": true,
    "deletable": true,
    "editable": true
   },
   "outputs": [],
   "source": []
  },
  {
   "cell_type": "code",
   "execution_count": 5,
   "metadata": {
    "collapsed": true,
    "deletable": true,
    "editable": true
   },
   "outputs": [],
   "source": [
    "coordinate = fn.input()\n",
    "yFn = coordinate[1]"
   ]
  },
  {
   "cell_type": "code",
   "execution_count": 6,
   "metadata": {
    "collapsed": false,
    "deletable": true,
    "editable": true
   },
   "outputs": [],
   "source": [
    "velocityField.data[:,0] = 2.*yFn.evaluate(mesh)[:,0] #dVx/dy = 1\n",
    "velocityField.data[:,1] = 0."
   ]
  },
  {
   "cell_type": "code",
   "execution_count": 7,
   "metadata": {
    "collapsed": false,
    "deletable": true,
    "editable": true
   },
   "outputs": [],
   "source": [
    "swarm = uw.swarm.Swarm( mesh=mesh, particleEscape=False)\n",
    "proximityVariable = swarm.add_variable( dataType=\"int\", count=1 )\n",
    "directorVariable   = swarm.add_variable( dataType=\"double\", count=2)\n",
    "\n",
    "swarmLayout = uw.swarm.layouts.GlobalSpaceFillerLayout( swarm=swarm, particlesPerCell=20 )\n",
    "swarm.populate_using_layout( layout=swarmLayout )\n",
    "\n",
    "proximityVariable.data[:] = 0\n",
    "directorVariable .data[:] = (0.0, 0.0)"
   ]
  },
  {
   "cell_type": "code",
   "execution_count": 8,
   "metadata": {
    "collapsed": false,
    "deletable": true,
    "editable": true
   },
   "outputs": [],
   "source": [
    "line = usub.interface2D(mesh, velocityField, [], [],\n",
    "                        0.1, 1, insidePt=(0., -10.))\n",
    "                        \n",
    "refline = usub.interface2D(mesh, velocityField, [], [],\n",
    "                        0.1, 2, insidePt=(0.,-10.))\n",
    "\n",
    "\n"
   ]
  },
  {
   "cell_type": "code",
   "execution_count": 9,
   "metadata": {
    "collapsed": false,
    "deletable": true,
    "editable": true
   },
   "outputs": [
    {
     "name": "stdout",
     "output_type": "stream",
     "text": [
      "got to adding points\n"
     ]
    }
   ],
   "source": [
    "print('got to adding points')"
   ]
  },
  {
   "cell_type": "code",
   "execution_count": 10,
   "metadata": {
    "collapsed": false,
    "deletable": true,
    "editable": true
   },
   "outputs": [
    {
     "name": "stdout",
     "output_type": "stream",
     "text": [
      "True\n"
     ]
    }
   ],
   "source": [
    "testPs = spiral(50, 0, np.deg2rad(5.5), 0.05, 0.8)\n",
    "\n",
    "refline.add_points(1.05*testPs[:,0], 1.05*testPs[:,1])\n",
    "line.add_points(testPs[:,0], testPs[:,1])\n",
    "\n",
    "\n",
    "#now assign the refline as the insidePt for the line\n",
    "line.insidePt = refline\n",
    "\n",
    "uw.mpi.barrier()\n",
    "\n",
    "print(isinstance(line.insidePt, usub.interface2D))\n",
    "\n",
    "#line.rebuild()\n",
    "\n",
    "line._update_surface_normals()"
   ]
  },
  {
   "cell_type": "code",
   "execution_count": 11,
   "metadata": {
    "collapsed": false,
    "deletable": true,
    "editable": true
   },
   "outputs": [],
   "source": [
    "#line.kdtree.query((0.,0.), k = 3)"
   ]
  },
  {
   "cell_type": "code",
   "execution_count": 13,
   "metadata": {
    "collapsed": false,
    "deletable": true,
    "editable": true
   },
   "outputs": [
    {
     "data": {
      "text/plain": [
       "False"
      ]
     },
     "execution_count": 13,
     "metadata": {},
     "output_type": "execute_result"
    }
   ],
   "source": [
    "isinstance((1,2), tuple), True is False\n",
    "\n",
    "hasattr(line, 'len')\n"
   ]
  },
  {
   "cell_type": "code",
   "execution_count": 14,
   "metadata": {
    "collapsed": false,
    "deletable": true,
    "editable": true
   },
   "outputs": [
    {
     "name": "stdout",
     "output_type": "stream",
     "text": [
      "finished adding points\n"
     ]
    }
   ],
   "source": [
    "print('finished adding points')"
   ]
  },
  {
   "cell_type": "code",
   "execution_count": 15,
   "metadata": {
    "collapsed": false,
    "deletable": true,
    "editable": true
   },
   "outputs": [],
   "source": [
    "#%pylab inline\n",
    "#plt.scatter(testPs[:,0], testPs[:,1])\n",
    "#plt.scatter(testPs[:,0]*1.1, testPs[:,1]*1.1)"
   ]
  },
  {
   "cell_type": "code",
   "execution_count": 16,
   "metadata": {
    "collapsed": false,
    "deletable": true,
    "editable": true
   },
   "outputs": [
    {
     "name": "stdout",
     "output_type": "stream",
     "text": [
      "[ 0.99999851  0.95064941  0.96252621  0.70881912  0.35401959 -0.00488198\n",
      " -0.3211751  -0.57626186 -0.76643466 -0.89541173 -0.97022828 -0.99902511\n",
      " -0.98989924 -0.95034439 -0.88701593 -0.80567047 -0.71119569 -0.60768316\n",
      " -0.49851804 -0.38647128 -0.27378729 -0.16226366 -0.05332164  0.05193253\n",
      "  0.15265494  0.2482191   0.33817792  0.4222316   0.50020069  0.5720035\n",
      "  0.6376372   0.69716201  0.75068815  0.79836482  0.84037125  0.87690911\n",
      "  0.90819638  0.93446224  0.95594291  0.97287823  0.98550892  0.99407433\n",
      "  0.99881067  0.99994962  0.99771722  0.99233304  0.98400954  0.97295166\n",
      "  0.95935649  0.96642487]\n"
     ]
    }
   ],
   "source": [
    "print(line.director.data[:,0])"
   ]
  },
  {
   "cell_type": "code",
   "execution_count": 19,
   "metadata": {
    "collapsed": false,
    "deletable": true,
    "editable": true
   },
   "outputs": [
    {
     "data": {
      "text/html": [
       "<img src='data:image/png;base64,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'>"
      ],
      "text/plain": [
       "<IPython.core.display.HTML object>"
      ]
     },
     "metadata": {},
     "output_type": "display_data"
    },
    {
     "data": {
      "text/plain": [
       "'test.gldb'"
      ]
     },
     "execution_count": 19,
     "metadata": {},
     "output_type": "execute_result"
    }
   ],
   "source": [
    "fig2 = glucifer.Figure()\n",
    "#fig1.append( glucifer.objects.VectorArrows(mesh, velocityField, scaling=.1) )\n",
    "fig2.append( glucifer.objects.Surface(mesh, 0., colours = 'red white yellow', colourBar=False)) \n",
    "fig2.append( glucifer.objects.Points(line.swarm, pointsize = 5))\n",
    "#fig1.append( glucifer.objects.Points(refline.swarm, pointsize = 5))\n",
    "#fig2.append( glucifer.objects.Points(line.swarm, line.director[0], pointsize = 15))\n",
    "\n",
    "#fig2.show()\n",
    "fig2.save_database('test.gldb')"
   ]
  },
  {
   "cell_type": "code",
   "execution_count": 20,
   "metadata": {
    "collapsed": false,
    "deletable": true,
    "editable": true
   },
   "outputs": [
    {
     "name": "stdout",
     "output_type": "stream",
     "text": [
      "Populating the interactive namespace from numpy and matplotlib\n"
     ]
    },
    {
     "data": {
      "image/png": "[encoded data removed]",
      "text/plain": [
       "<matplotlib.figure.Figure at 0x7f72a0505e50>"
      ]
     },
     "metadata": {},
     "output_type": "display_data"
    }
   ],
   "source": [
    "#%pylab inline\n",
    "\n",
    "#checkData =line.director.data[:,0] > 0.\n",
    "\n",
    "#fig, ax = plt.subplots(figsize=(10.,10))\n",
    "\n",
    "#Q = ax.quiver(testPs[:,0], testPs[:,1], \n",
    "#               line.director.data[:,0], line.director.data[:,1], units='width')\n",
    "\n",
    "#ax.scatter(testPs[:,0], testPs[:,1], c=checkData)\n",
    "#ax.scatter(1.05*testPs[:,0], 1.05*testPs[:,1],  s = 1)\n",
    "\n",
    "#ax.set_aspect('equal')"
   ]
  },
  {
   "cell_type": "code",
   "execution_count": 59,
   "metadata": {
    "collapsed": true,
    "deletable": true,
    "editable": true
   },
   "outputs": [],
   "source": [
    "#i = 10\n",
    "#particle_coords = line.swarm.particleCoordinates.data\n",
    "#r, nindex = line.insidePt.kdtree.query(particle_coords, k=1)"
   ]
  },
  {
   "cell_type": "code",
   "execution_count": 19,
   "metadata": {
    "collapsed": false,
    "deletable": true,
    "editable": true
   },
   "outputs": [],
   "source": [
    "#nindex"
   ]
  },
  {
   "cell_type": "code",
   "execution_count": null,
   "metadata": {
    "collapsed": true,
    "deletable": true,
    "editable": true
   },
   "outputs": [],
   "source": []
  }
 ],
 "metadata": {
  "kernelspec": {
   "display_name": "Python 2",
   "language": "python",
   "name": "python2"
  },
  "language_info": {
   "codemirror_mode": {
    "name": "ipython",
    "version": 2
   },
   "file_extension": ".py",
   "mimetype": "text/x-python",
   "name": "python",
   "nbconvert_exporter": "python",
   "pygments_lexer": "ipython2",
   "version": "2.7.9"
  }
 },
 "nbformat": 4,
 "nbformat_minor": 2
}
