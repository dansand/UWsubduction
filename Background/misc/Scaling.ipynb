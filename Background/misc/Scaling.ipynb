{
 "cells": [
  {
   "cell_type": "code",
   "execution_count": 1,
   "metadata": {
    "collapsed": true
   },
   "outputs": [],
   "source": [
    "#If run through Docker we'll point at the local 'unsupported dir.'\n",
    "#On hpc, the path should also include a directory holding the unsupported_dan.\n",
    "import os\n",
    "import sys\n",
    "\n",
    "#this does't actually need to be protected. More a reminder it's an interim measure\n",
    "try:\n",
    "    sys.path.append('../../unsupported')\n",
    "except:\n",
    "    pass"
   ]
  },
  {
   "cell_type": "code",
   "execution_count": 2,
   "metadata": {},
   "outputs": [
    {
     "name": "stderr",
     "output_type": "stream",
     "text": [
      "../../unsupported/unsupported_dan/geodynamics/__init__.py:21: UserWarning: \n",
      "\n",
      "The geodynamics module is deprecated.\n",
      "Please use UWGeodynamics instead.\n",
      "\n",
      "You can install the module using:\n",
      "\n",
      "\n",
      "```\n",
      "    pip install UWGeodynamics\n",
      "```\n",
      "\n",
      "You can also use the docker image:\n",
      "\n",
      "\n",
      "rbeucher/underworld_geodynamics\n",
      "\n",
      "\n",
      "Finally on github:\n",
      "\n",
      "\n",
      "https://github.com/rbeucher/UWGeodynamics\n",
      "\n",
      "\n",
      "  \"\"\"\n"
     ]
    }
   ],
   "source": [
    "#from unsupported_dan.UWsubduction.base_params import *;\n",
    "\n",
    "from easydict import EasyDict as edict\n",
    "import unsupported_dan.geodynamics.scaling as sca;\n",
    "import pickle\n",
    "import pint"
   ]
  },
  {
   "cell_type": "code",
   "execution_count": 3,
   "metadata": {
    "collapsed": true
   },
   "outputs": [],
   "source": [
    "#from unsupported_dan.UWsubduction.base_params import dimParams as dp\n",
    "#from unsupported_dan.UWsubduction.base_params import modelParams as md"
   ]
  },
  {
   "cell_type": "code",
   "execution_count": 4,
   "metadata": {},
   "outputs": [],
   "source": [
    "u = sca.UnitRegistry"
   ]
  },
  {
   "cell_type": "code",
   "execution_count": 5,
   "metadata": {},
   "outputs": [],
   "source": [
    "#u.km\n",
    "#u.delta_degC.dimensionless\n"
   ]
  },
  {
   "cell_type": "code",
   "execution_count": null,
   "metadata": {
    "collapsed": true
   },
   "outputs": [],
   "source": []
  },
  {
   "cell_type": "code",
   "execution_count": 12,
   "metadata": {},
   "outputs": [],
   "source": [
    "dp = edict({})\n",
    "\n",
    "#Main physical paramters (thermal convection parameters)\n",
    "dp.refDensity = 3300.* u.kilogram / u.meter**3                    #reference density\n",
    "dp.refGravity = 9.8* u.metre / u.second**2                        #surface gravity\n",
    "dp.refDiffusivity = 1e-6 *u.metre**2 / u.second                   #thermal diffusivity\n",
    "dp.refExpansivity = 3e-5/u.kelvin                                        #surface thermal expansivity\n",
    "dp.refViscosity = 1e20* u.pascal* u.second\n",
    "dp.refLength = 2900*u.km\n",
    "dp.gasConstant = 8.314*u.joule/(u.mol*u.kelvin)                   #gas constant\n",
    "dp.specificHeat = 1250.4*u.joule/(u.kilogram* u.kelvin)           #Specific heat (Jkg-1K-1)\n",
    "dp.potentialTemp = 1573.*u.kelvin                                 #mantle potential temp (K)\n",
    "dp.surfaceTemp = 273.*u.kelvin                                    #surface temp (K)\n",
    "#dp.deltaT = dp.potentialTemp - dp.surfaceTemp\n",
    "#main rheology paramters (thermal convection parameters)\n",
    "dp.cohesionMantle = 20.*u.megapascal                              #mantle cohesion in Byerlee law\n",
    "dp.frictionMantle = u.Quantity(0.2)                                           #mantle friction coefficient in Byerlee law (tan(phi))\n",
    "dp.frictionMantleDepth = dp.frictionMantle*dp.refDensity*dp.refGravity\n",
    "dp.diffusionPreExp = 5.34e-10/u.pascal/u.second                   #pre-exp factor for diffusion creep\n",
    "dp.diffusionEnergy = 3e5*u.joule/(u.mol)\n",
    "dp.diffusionEnergyDepth = 3e5*u.joule/(u.mol*dp.gasConstant)\n",
    "dp.diffusionVolume=5e-6*u.meter**3/(u.mol)\n",
    "dp.diffusionVolumeDepth=5e-6*dp.refDensity.magnitude*dp.refGravity.magnitude*u.joule/(u.mol*dp.gasConstant*u.meter)\n",
    "dp.viscosityInterface = 5e19*u.pascal   * u.second\n",
    "dp.adiabaticTempGrad = (dp.refExpansivity*dp.refGravity*dp.potentialTemp)/dp.specificHeat\n",
    "\n",
    "\n",
    "md = edict({})\n",
    "#Model geometry, and misc Lengths used to control behaviour\n",
    "md.depth=1000*u.km                                                #Model Depth\n",
    "md.aspectRatio=5.\n",
    "md.interfaceViscCutoffDepth = 100*u.km \n",
    "md.interfaceViscEndWidth = 20*u.km\n",
    "md.faultThickness = 10.*u.km  \n",
    "md.faultCleanUpDepth = 500*u.km                                    #interface material (crust) an top of slabs\n",
    "md.lowerMantleDepth=660.*u.km \n",
    "#Slab and plate init. parameters\n",
    "md.subZoneLoc=-100*u.km                                           #X position of subduction zone...km\n",
    "md.slabInitMaxDepth=150*u.km\n",
    "md.radiusOfCurv = 350*u.km                                        #radius of curvature\n",
    "md.slabAge=70*u.megayears                                      #age of subduction plate at trench\n",
    "md.opAgeAtTrench=35*u.megayears                                        #age of op\n",
    "#numerical and computation params\n",
    "md.res=48\n",
    "md.ppc=25                                                         #particles per cell\n",
    "md.elementType=\"Q1/dQ0\"\n",
    "md.nltol = 0.01\n",
    "md.druckerAlpha = 0.\n",
    "md.penaltyMethod = True\n",
    "md.buoyancyFac = 1.0\n",
    "md.faultLocFac = 1. #this is the relative location of the fault in terms of the fault thickess from the top of slab\n",
    "md.viscosityMin = 1e18* u.pascal * u.second\n",
    "md.viscosityMax = 1e25* u.pascal * u.second\n",
    "md.lowerMantleViscFac = 30.0\n",
    "md.yieldStressMax=200*u.megapascal\n"
   ]
  },
  {
   "cell_type": "code",
   "execution_count": 13,
   "metadata": {},
   "outputs": [
    {
     "data": {
      "text/plain": [
       "(<Quantity(0.000369851247601, 'kelvin * kilogram * meter / joule / second ** 2')>,\n",
       " 0.8250527831094052)"
      ]
     },
     "execution_count": 13,
     "metadata": {},
     "output_type": "execute_result"
    }
   ],
   "source": [
    "#dp.refExpansivity, dp.refGravity, dp.potentialTemp, dp.specificHeat\n",
    "#sca.nonDimensionalize(dp.adiabaticTempGrad)\n",
    "dp.adiabaticTempGrad, sca.nonDimensionalize(dp.adiabaticTempGrad)"
   ]
  },
  {
   "cell_type": "code",
   "execution_count": 14,
   "metadata": {},
   "outputs": [
    {
     "data": {
      "text/plain": [
       "False"
      ]
     },
     "execution_count": 14,
     "metadata": {},
     "output_type": "execute_result"
    }
   ],
   "source": [
    "dp.adiabaticTempGrad.units == u.kelvin\n"
   ]
  },
  {
   "cell_type": "code",
   "execution_count": 15,
   "metadata": {},
   "outputs": [],
   "source": [
    "#Define scales used to non-dimensionalize the system\n",
    "\n",
    "KL = dp.refLength\n",
    "KT = dp.potentialTemp - dp.surfaceTemp\n",
    "Kt = KL**2/dp.refDiffusivity\n",
    "KM = dp.refViscosity * KL * Kt\n",
    "\n",
    "sca.scaling[\"[length]\"]      = KL.to_base_units()\n",
    "sca.scaling[\"[temperature]\"] = KT.to_base_units()\n",
    "sca.scaling[\"[mass]\"]        = KM.to_base_units()\n",
    "sca.scaling[\"[time]\"] =        Kt.to_base_units()"
   ]
  },
  {
   "cell_type": "code",
   "execution_count": 16,
   "metadata": {},
   "outputs": [],
   "source": [
    "tempOffset = pint.converters.OffsetConverter(1, -273*u.kelvin )\n",
    "\n",
    "ndp = edict({})\n",
    "for key, val in dp.items():\n",
    "    if val.unitless:\n",
    "        ndp[key] = val.magnitude\n",
    "    elif val.units == u.kelvin:\n",
    "        ndp[key] = sca.nonDimensionalize(tempOffset.to_reference(val))\n",
    "    else:\n",
    "        ndp[key] = sca.nonDimensionalize(val)\n",
    "    \n",
    "#For the activation Enthalpy, we are goinf to alter the scaling, \n",
    "#effectively incorporatting the gas constant into the Enthalpy,\n",
    "\n",
    "#ndp.diffusionEnergy /=sca.nonDimensionalize(dp.gasConstant)\n",
    "#ndp.frictionMantle = dp.frictionMantle/ (dp.refViscosity*dp.refDiffusivity/(dp.refDensity*dp.refGravity*dp.refLength.to_base_units()**3)).magnitude\n"
   ]
  },
  {
   "cell_type": "code",
   "execution_count": 17,
   "metadata": {},
   "outputs": [
    {
     "data": {
      "text/plain": [
       "{'adiabaticTempGrad': 0.8250527831094052,\n",
       " 'cohesionMantle': 1682000.0,\n",
       " 'diffusionEnergy': 1.0344827586206896e-15,\n",
       " 'diffusionEnergyDepth': 27.546703243833388,\n",
       " 'diffusionPreExp': 53400000000.0,\n",
       " 'diffusionVolume': 2.0501045553323221e-25,\n",
       " 'diffusionVolumeDepth': 43.386502840435966,\n",
       " 'frictionMantle': 0.2,\n",
       " 'frictionMantleDepth': 1577480520.0000002,\n",
       " 'gasConstant': 3.726965517241379e-17,\n",
       " 'potentialTemp': 1.0,\n",
       " 'refDensity': 3.2999999999999996e-23,\n",
       " 'refDiffusivity': 1.0,\n",
       " 'refExpansivity': 0.039,\n",
       " 'refGravity': 2.3901220000000004e+32,\n",
       " 'refLength': 1.0,\n",
       " 'refViscosity': 0.9999999999999998,\n",
       " 'specificHeat': 1.36706232e+31,\n",
       " 'surfaceTemp': 0.0,\n",
       " 'viscosityInterface': 0.4999999999999999}"
      ]
     },
     "execution_count": 17,
     "metadata": {},
     "output_type": "execute_result"
    }
   ],
   "source": [
    "ndp\n"
   ]
  },
  {
   "cell_type": "code",
   "execution_count": 32,
   "metadata": {
    "collapsed": true
   },
   "outputs": [],
   "source": [
    "nmd = edict({})\n",
    "for key, val in md.items():\n",
    "    nmd[key] = sca.nonDimensionalize(val)"
   ]
  },
  {
   "cell_type": "code",
   "execution_count": 34,
   "metadata": {},
   "outputs": [
    {
     "data": {
      "text/plain": [
       "0.8250527831094052"
      ]
     },
     "execution_count": 34,
     "metadata": {},
     "output_type": "execute_result"
    }
   ],
   "source": [
    "nmd.tempGradMantle"
   ]
  },
  {
   "cell_type": "code",
   "execution_count": 27,
   "metadata": {},
   "outputs": [],
   "source": [
    "rayleighNumber = (dp.refExpansivity*dp.refDensity*dp.refGravity*(dp.potentialTemp - dp.surfaceTemp)*dp.refLength**3).to_base_units()/(dp.refViscosity*dp.refDiffusivity).to_base_units()\n",
    "assert rayleighNumber.unitless"
   ]
  },
  {
   "cell_type": "code",
   "execution_count": 19,
   "metadata": {},
   "outputs": [
    {
     "data": {
      "text/html": [
       "1e+14 kilogram meter/second<sup>2</sup>"
      ],
      "text/latex": [
       "$1e+14 \\frac{kilogram \\cdot meter}{second^{2}}$"
      ],
      "text/plain": [
       "<Quantity(1e+14, 'kilogram * meter / second ** 2')>"
      ]
     },
     "execution_count": 19,
     "metadata": {},
     "output_type": "execute_result"
    }
   ],
   "source": [
    "(dp.refViscosity*dp.refDiffusivity).to_base_units()"
   ]
  },
  {
   "cell_type": "code",
   "execution_count": 44,
   "metadata": {},
   "outputs": [
    {
     "data": {
      "text/plain": [
       "11.890606420927469"
      ]
     },
     "execution_count": 44,
     "metadata": {},
     "output_type": "execute_result"
    }
   ],
   "source": [
    "1./sca.nonDimensionalize(1.*u.pascal)"
   ]
  },
  {
   "cell_type": "code",
   "execution_count": 18,
   "metadata": {},
   "outputs": [
    {
     "data": {
      "text/html": [
       "11.8906064209 kilogram/(meter second<sup>2</sup>)"
      ],
      "text/latex": [
       "$11.8906064209 \\frac{kilogram}{\\left(meter \\cdot second^{2}\\right)}$"
      ],
      "text/plain": [
       "<Quantity(11.8906064209, 'kilogram / meter / second ** 2')>"
      ]
     },
     "execution_count": 18,
     "metadata": {},
     "output_type": "execute_result"
    }
   ],
   "source": [
    "stressScale = ((dp.refDiffusivity*dp.refViscosity)/dp.refLength**2).to_base_units()"
   ]
  },
  {
   "cell_type": "code",
   "execution_count": 21,
   "metadata": {},
   "outputs": [],
   "source": [
    "pressureDepthGrad = (dp.refDensity*dp.refGravity*dp.refLength**3)/(dp.refViscosity*dp.refDiffusivity)"
   ]
  },
  {
   "cell_type": "code",
   "execution_count": null,
   "metadata": {
    "collapsed": true
   },
   "outputs": [],
   "source": []
  }
 ],
 "metadata": {
  "kernelspec": {
   "display_name": "Python 3",
   "language": "python",
   "name": "python3"
  },
  "language_info": {
   "codemirror_mode": {
    "name": "ipython",
    "version": 3
   },
   "file_extension": ".py",
   "mimetype": "text/x-python",
   "name": "python",
   "nbconvert_exporter": "python",
   "pygments_lexer": "ipython3",
   "version": "3.5.3"
  }
 },
 "nbformat": 4,
 "nbformat_minor": 2
}
