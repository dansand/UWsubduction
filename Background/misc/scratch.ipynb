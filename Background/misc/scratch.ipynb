{
 "cells": [
  {
   "cell_type": "code",
   "execution_count": null,
   "metadata": {
    "collapsed": true
   },
   "outputs": [],
   "source": [
    "#>>>python test.py testDict.testDimQuant+=2 testDict.testNonDimQuant*=2 testDict.testBoolQuant = True"
   ]
  },
  {
   "cell_type": "code",
   "execution_count": 40,
   "metadata": {
    "collapsed": true,
    "deletable": true,
    "editable": true
   },
   "outputs": [],
   "source": [
    "#this does't actually need to be protected. More a reminder it's an interim measure\n",
    "import sys\n",
    "try:\n",
    "    sys.path.append('../../')\n",
    "except:\n",
    "    pass"
   ]
  },
  {
   "cell_type": "code",
   "execution_count": 41,
   "metadata": {
    "collapsed": false,
    "deletable": true,
    "editable": true
   },
   "outputs": [],
   "source": [
    "import numpy as np\n",
    "from easydict import EasyDict as edict\n",
    "import pint\n",
    "\n",
    "#import UWsubduction as usub\n",
    "\n",
    "import UWsubduction.params as params \n",
    "import UWsubduction.utils as utils\n",
    "\n",
    "ur = params.u"
   ]
  },
  {
   "cell_type": "code",
   "execution_count": 42,
   "metadata": {
    "collapsed": true,
    "deletable": true,
    "editable": true
   },
   "outputs": [],
   "source": [
    "testDict = edict({})"
   ]
  },
  {
   "cell_type": "code",
   "execution_count": 43,
   "metadata": {
    "collapsed": false,
    "deletable": true,
    "editable": true
   },
   "outputs": [],
   "source": [
    "testDict.testDimQuant = 2.2*ur.kilometer\n",
    "testDict.testNonDimQuant = 2.32\n",
    "testDict.testBoolQuant = False"
   ]
  },
  {
   "cell_type": "code",
   "execution_count": 44,
   "metadata": {
    "collapsed": false,
    "deletable": true,
    "editable": true
   },
   "outputs": [
    {
     "name": "stdout",
     "output_type": "stream",
     "text": [
      "testBoolQuant\n",
      "testDimQuant\n",
      "testNonDimQuant\n"
     ]
    }
   ],
   "source": [
    "for k in testDict.keys():\n",
    "    print(k)"
   ]
  },
  {
   "cell_type": "code",
   "execution_count": 45,
   "metadata": {
    "collapsed": false,
    "deletable": true,
    "editable": true
   },
   "outputs": [
    {
     "data": {
      "text/html": [
       "kilometer"
      ],
      "text/latex": [
       "$kilometer$"
      ],
      "text/plain": [
       "<Unit('kilometer')>"
      ]
     },
     "execution_count": 45,
     "metadata": {},
     "output_type": "execute_result"
    }
   ],
   "source": [
    "testDict.testDimQuant.units"
   ]
  },
  {
   "cell_type": "code",
   "execution_count": 46,
   "metadata": {
    "collapsed": true,
    "deletable": true,
    "editable": true
   },
   "outputs": [],
   "source": [
    "val = 0.5"
   ]
  },
  {
   "cell_type": "code",
   "execution_count": 47,
   "metadata": {
    "collapsed": false,
    "deletable": true,
    "editable": true
   },
   "outputs": [
    {
     "name": "stdout",
     "output_type": "stream",
     "text": [
      "testBoolQuant\n",
      "0.5\n",
      "testDimQuant\n",
      "0.5 kilometer\n",
      "testNonDimQuant\n",
      "0.5\n"
     ]
    }
   ],
   "source": [
    "for k in testDict.keys():\n",
    "    print(k)\n",
    "    \n",
    "\n",
    "    #if Pint quantity\n",
    "    if hasattr(testDict[k], 'dimensionality'):\n",
    "        if not testDict[k].unitless:\n",
    "            val_ = val * 1.*testDict.testDimQuant.units\n",
    "    else:\n",
    "        val_ = val\n",
    "        \n",
    "    print(val_)\n",
    "        \n",
    "#testDict['testDimQuant'] + val\n"
   ]
  },
  {
   "cell_type": "code",
   "execution_count": null,
   "metadata": {
    "collapsed": true,
    "deletable": true,
    "editable": true
   },
   "outputs": [],
   "source": []
  }
 ],
 "metadata": {
  "kernelspec": {
   "display_name": "Python 2",
   "language": "python",
   "name": "python2"
  },
  "language_info": {
   "codemirror_mode": {
    "name": "ipython",
    "version": 2
   },
   "file_extension": ".py",
   "mimetype": "text/x-python",
   "name": "python",
   "nbconvert_exporter": "python",
   "pygments_lexer": "ipython2",
   "version": "2.7.9"
  }
 },
 "nbformat": 4,
 "nbformat_minor": 2
}
