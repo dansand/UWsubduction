{
 "cells": [
  {
   "cell_type": "markdown",
   "metadata": {
    "deletable": true,
    "editable": true
   },
   "source": [
    "## Structure of the UWsubduction package\n",
    "\n",
    "Some notes as I try to figure ou the most sane way of structuring this.\n",
    "\n",
    "A minimal version of the package structre, containing the most import Classes\n",
    "\n",
    "```\n",
    "UWsubduction/\n",
    "    __init__.py\n",
    "    _tectonicmodel.py\n",
    "    interfaces/\n",
    "        __init__.py\n",
    "        interface2D.py\n",
    "        smoothing2D.py\n",
    "```\n",
    "\n",
    "The top level `__init__.py` contains:\n",
    "\n",
    "```\n",
    "from ._tectonicmodel import *\n",
    "import interfaces\n",
    "```\n",
    "\n",
    "The interface subpackage `__init__.py` contains:\n",
    "\n",
    "```\n",
    "from interface2D import *\n",
    "from smoothing2D import *\n",
    "```"
   ]
  },
  {
   "cell_type": "code",
   "execution_count": 3,
   "metadata": {
    "collapsed": false
   },
   "outputs": [
    {
     "data": {
      "text/plain": [
       "<module 'UWsubduction.interfaces' from '/workspace/UWsubduction/UWsubduction/interfaces/__init__.pyc'>"
      ]
     },
     "execution_count": 3,
     "metadata": {},
     "output_type": "execute_result"
    }
   ],
   "source": [
    "#This import loads all functions and classes from _tectonicmodel.py & _subductionutils.py\n",
    "\n",
    "import UWsubduction as usub\n",
    "\n",
    "#it also automatically loads the subpackage intergfaces:\n",
    "\n",
    "usub.interfaces"
   ]
  },
  {
   "cell_type": "code",
   "execution_count": 2,
   "metadata": {
    "collapsed": false
   },
   "outputs": [
    {
     "data": {
      "text/plain": [
       "<module 'UWsubduction.interfaces' from '/workspace/UWsubduction/UWsubduction/interfaces/__init__.pyc'>"
      ]
     },
     "execution_count": 2,
     "metadata": {},
     "output_type": "execute_result"
    }
   ],
   "source": [
    "usub.interfaces"
   ]
  },
  {
   "cell_type": "code",
   "execution_count": 2,
   "metadata": {
    "collapsed": false,
    "deletable": true,
    "editable": true
   },
   "outputs": [],
   "source": []
  },
  {
   "cell_type": "code",
   "execution_count": 4,
   "metadata": {
    "collapsed": false
   },
   "outputs": [
    {
     "name": "stderr",
     "output_type": "stream",
     "text": [
      "/root/underworld2/unsupported/scaling/__init__.py:13: UserWarning: \n",
      "\n",
      "    The scaling module is not supported.\n",
      "\n",
      "    It requires 'pint' as a dependency.\n",
      "\n",
      "    You can install pint by running:\n",
      "\n",
      "    'pip install pint' in a terminal\n",
      "\n",
      "    Questions should be addressed to romain.beucher@unimelb.edu.au \n",
      " \n",
      "  Questions should be addressed to romain.beucher@unimelb.edu.au \\n \"\"\"\n"
     ]
    }
   ],
   "source": [
    "#the subpackages params and analysis have to be loaded manually\n",
    "\n",
    "import UWsubduction.params as params \n",
    "import UWsubduction.analysis as analysis"
   ]
  },
  {
   "cell_type": "code",
   "execution_count": 6,
   "metadata": {
    "collapsed": false,
    "deletable": true,
    "editable": true
   },
   "outputs": [
    {
     "data": {
      "text/plain": [
       "<function UWsubduction.analysis._analysis.eig2d>"
      ]
     },
     "execution_count": 6,
     "metadata": {},
     "output_type": "execute_result"
    }
   ],
   "source": [
    "analysis.eig2d"
   ]
  },
  {
   "cell_type": "code",
   "execution_count": 7,
   "metadata": {
    "collapsed": false
   },
   "outputs": [
    {
     "data": {
      "text/plain": [
       "{'aspectRatio': 5.0,\n",
       " 'buoyancyFac': 1.0,\n",
       " 'depth': <Quantity(1000, 'kilometer')>,\n",
       " 'druckerAlpha': 1.0,\n",
       " 'elementType': 'Q1/dQ0',\n",
       " 'faultDestroyDepth': <Quantity(300, 'kilometer')>,\n",
       " 'faultLocFac': 1.0,\n",
       " 'faultThickness': <Quantity(10.0, 'kilometer')>,\n",
       " 'faultViscDepthTaperStart': <Quantity(100, 'kilometer')>,\n",
       " 'faultViscDepthTaperWidth': <Quantity(20, 'kilometer')>,\n",
       " 'faultViscHorizTaperStart': <Quantity(300, 'kilometer')>,\n",
       " 'faultViscHorizTaperWidth': <Quantity(300, 'kilometer')>,\n",
       " 'lowerMantleDepth': <Quantity(660.0, 'kilometer')>,\n",
       " 'lowerMantleTransWidth': <Quantity(10.0, 'kilometer')>,\n",
       " 'meshRefineFactor': 0.7,\n",
       " 'nltol': 0.01,\n",
       " 'opAgeAtTrench': <Quantity(35.0, 'megayear')>,\n",
       " 'penaltyMethod': True,\n",
       " 'ppc': 25,\n",
       " 'radiusOfCurv': <Quantity(350.0, 'kilometer')>,\n",
       " 'refineHoriz': True,\n",
       " 'refineVert': True,\n",
       " 'res': 48,\n",
       " 'slabAge': <Quantity(70.0, 'megayear')>,\n",
       " 'slabInitMaxDepth': <Quantity(150, 'kilometer')>,\n",
       " 'subZoneLoc': <Quantity(-100, 'kilometer')>,\n",
       " 'viscosityMax': <Quantity(1e+25, 'pascal * second')>,\n",
       " 'viscosityMin': <Quantity(1e+18, 'pascal * second')>}"
      ]
     },
     "execution_count": 7,
     "metadata": {},
     "output_type": "execute_result"
    }
   ],
   "source": [
    "params.modelDict_dim"
   ]
  },
  {
   "cell_type": "code",
   "execution_count": null,
   "metadata": {
    "collapsed": true
   },
   "outputs": [],
   "source": []
  }
 ],
 "metadata": {
  "kernelspec": {
   "display_name": "Python 2",
   "language": "python",
   "name": "python2"
  },
  "language_info": {
   "codemirror_mode": {
    "name": "ipython",
    "version": 2
   },
   "file_extension": ".py",
   "mimetype": "text/x-python",
   "name": "python",
   "nbconvert_exporter": "python",
   "pygments_lexer": "ipython2",
   "version": "2.7.9"
  }
 },
 "nbformat": 4,
 "nbformat_minor": 2
}
