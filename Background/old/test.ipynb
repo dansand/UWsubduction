{
 "cells": [
  {
   "cell_type": "code",
   "execution_count": 12,
   "metadata": {
    "collapsed": true
   },
   "outputs": [],
   "source": [
    "#>>>python test.py testDict.testDimQuant+=2 testDict.testNonDimQuant*=2 testDict.testBoolQuant = True"
   ]
  },
  {
   "cell_type": "code",
   "execution_count": 1,
   "metadata": {
    "collapsed": true
   },
   "outputs": [],
   "source": [
    "#this does't actually need to be protected. More a reminder it's an interim measure\n",
    "import sys\n",
    "try:\n",
    "    sys.path.append('../../')\n",
    "except:\n",
    "    pass"
   ]
  },
  {
   "cell_type": "code",
   "execution_count": 2,
   "metadata": {
    "collapsed": false
   },
   "outputs": [
    {
     "name": "stderr",
     "output_type": "stream",
     "text": [
      "/root/underworld2/unsupported/scaling/__init__.py:13: UserWarning: \n",
      "\n",
      "    The scaling module is not supported.\n",
      "\n",
      "    It requires 'pint' as a dependency.\n",
      "\n",
      "    You can install pint by running:\n",
      "\n",
      "    'pip install pint' in a terminal\n",
      "\n",
      "    Questions should be addressed to romain.beucher@unimelb.edu.au \n",
      " \n",
      "  Questions should be addressed to romain.beucher@unimelb.edu.au \\n \"\"\"\n",
      "/workspace/UWsubduction/UWsubduction/utils/__init__.py:9: UserWarning: \n",
      "\n",
      "The easymodels module is not supported.\n",
      "Questions should be addressed to sandd@student.unimelb.edu.au \n",
      " \n",
      "  Questions should be addressed to sandd@student.unimelb.edu.au \\n \"\"\"\n"
     ]
    }
   ],
   "source": [
    "import numpy as np\n",
    "from easydict import EasyDict as edict\n",
    "import pint\n",
    "\n",
    "#import UWsubduction as usub\n",
    "\n",
    "import UWsubduction.params as params \n",
    "import UWsubduction.utils as utils\n",
    "\n",
    "ur = params.u"
   ]
  },
  {
   "cell_type": "code",
   "execution_count": 3,
   "metadata": {
    "collapsed": true
   },
   "outputs": [],
   "source": [
    "testDict = edict({})"
   ]
  },
  {
   "cell_type": "code",
   "execution_count": 4,
   "metadata": {
    "collapsed": true
   },
   "outputs": [],
   "source": [
    "testDict.testDimQuant = 1.1*ur.kilometer\n",
    "testDict.testNonDimQuant = 2.2\n",
    "testDict.testBoolQuant = False"
   ]
  },
  {
   "cell_type": "code",
   "execution_count": 5,
   "metadata": {
    "collapsed": false
   },
   "outputs": [
    {
     "name": "stdout",
     "output_type": "stream",
     "text": [
      "default values:\n",
      "False\n",
      "1.1 kilometer\n",
      "2.2\n"
     ]
    }
   ],
   "source": [
    "print('default values:')\n",
    "for k in testDict.keys():\n",
    "    print(testDict[k])\n",
    "#print(testDict.testDimQuant,testDict.testNonDimQuant, testDict.testBoolQuant)"
   ]
  },
  {
   "cell_type": "code",
   "execution_count": 6,
   "metadata": {
    "collapsed": false
   },
   "outputs": [],
   "source": [
    "sysArgs = sys.argv\n",
    "utils.easy_args(sysArgs, testDict)"
   ]
  },
  {
   "cell_type": "code",
   "execution_count": 7,
   "metadata": {
    "collapsed": false
   },
   "outputs": [
    {
     "name": "stdout",
     "output_type": "stream",
     "text": [
      "updatedvalues:\n",
      "False\n",
      "1.1 kilometer\n",
      "2.2\n",
      "False in the Python sense\n"
     ]
    }
   ],
   "source": [
    "print('updatedvalues:')\n",
    "for k in testDict.keys():\n",
    "    print(testDict[k])\n",
    "\n",
    "if testDict.testBoolQuant == True:\n",
    "    print('and True in the Python sense')\n",
    "elif testDict.testBoolQuant == False:\n",
    "     print('False in the Python sense')\n",
    "else:\n",
    "    print 'not resolving this', type(testDict.testBoolQuant)\n",
    "    "
   ]
  },
  {
   "cell_type": "code",
   "execution_count": null,
   "metadata": {
    "collapsed": true
   },
   "outputs": [],
   "source": []
  }
 ],
 "metadata": {
  "kernelspec": {
   "display_name": "Python 2",
   "language": "python",
   "name": "python2"
  },
  "language_info": {
   "codemirror_mode": {
    "name": "ipython",
    "version": 2
   },
   "file_extension": ".py",
   "mimetype": "text/x-python",
   "name": "python",
   "nbconvert_exporter": "python",
   "pygments_lexer": "ipython2",
   "version": "2.7.9"
  }
 },
 "nbformat": 4,
 "nbformat_minor": 2
}
