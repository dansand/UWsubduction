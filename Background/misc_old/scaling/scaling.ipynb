{
 "cells": [
  {
   "cell_type": "markdown",
   "metadata": {},
   "source": [
    "# Units, scaling, non-dimensionalization\n",
    "\n",
    "This notebook demonstrates how the dimensional parameater and non-dimensionalization is handled in UWsubduction. \n",
    "\n",
    "\n",
    "### Pint / Scaling\n",
    "\n",
    "In the UWsubduction module, we make use of the underworld2 scaling module, which allows us to work with a dimensional quantities, and automates the non-dimensionlisation process.  \n",
    "\n",
    "\n",
    "\n",
    "The underworld2 scaling module is a simple wrapper around the Pint library. More details can be found here:\n",
    "\n",
    "https://github.com/hgrecco/pint\n",
    "\n",
    "https://github.com/underworldcode/underworld2/blob/master/docs/examples/1_14_ScalingExample.ipynb\n",
    "\n",
    "https://github.com/rbeucher/UWGeodynamics/tree/master/UWGeodynamics/scaling\n",
    "\n",
    "### edicts\n",
    "\n",
    "The UWsubduction module makes often makes use of a special form of python dictionary from the EasyDict module. These support an attribute-like notation (dot) for dictionary keys/values (https://github.com/makinacorpus/easydict)\n"
   ]
  },
  {
   "cell_type": "markdown",
   "metadata": {},
   "source": [
    "### Import a set of dimensional parameters in an EasyDict"
   ]
  },
  {
   "cell_type": "code",
   "execution_count": 1,
   "metadata": {},
   "outputs": [],
   "source": [
    "import numpy as np\n",
    "import pint\n",
    "from easydict import EasyDict as edict\n",
    "\n",
    "\n",
    "import warnings; warnings.simplefilter('ignore')\n",
    "from UWsubduction.params.minimal_example import pd, md, u, scaling"
   ]
  },
  {
   "cell_type": "code",
   "execution_count": 12,
   "metadata": {},
   "outputs": [],
   "source": [
    "from pygments import highlight\n",
    "from pygments.lexers import PythonLexer\n",
    "from pygments.formatters import Terminal256Formatter\n",
    "from pprint import pformat\n",
    "\n",
    "def pprint_color(obj):\n",
    "    print(highlight(pformat(obj), PythonLexer(), Terminal256Formatter()))"
   ]
  },
  {
   "cell_type": "code",
   "execution_count": 13,
   "metadata": {},
   "outputs": [
    {
     "name": "stdout",
     "output_type": "stream",
     "text": [
      "<class 'easydict.EasyDict'>\n",
      "\u001b[38;5;241m<\u001b[39mQuantity(\u001b[38;5;241m3300.0\u001b[39m, \u001b[38;5;124m'\u001b[39m\u001b[38;5;124mkilogram / meter ** 3\u001b[39m\u001b[38;5;124m'\u001b[39m)\u001b[38;5;241m>\u001b[39m\n",
      "\n",
      "\u001b[38;5;241m<\u001b[39mQuantity(\u001b[38;5;241m3300.0\u001b[39m, \u001b[38;5;124m'\u001b[39m\u001b[38;5;124mkilogram / meter ** 3\u001b[39m\u001b[38;5;124m'\u001b[39m)\u001b[38;5;241m>\u001b[39m\n",
      "\n"
     ]
    }
   ],
   "source": [
    "print(type(pd))\n",
    "\n",
    "pprint_color(pd.refDensity)      #easydict style query \n",
    "pprint_color(pd['refDensity'])   #normal dictionary query \n"
   ]
  },
  {
   "cell_type": "markdown",
   "metadata": {},
   "source": [
    "Notice that the dictionary key `refDensity` has a corresponding value which is a Pint Quantity, i.e it has both magnitude and units. "
   ]
  },
  {
   "cell_type": "markdown",
   "metadata": {},
   "source": [
    "## Non-dimensionalisation"
   ]
  },
  {
   "cell_type": "markdown",
   "metadata": {},
   "source": [
    "We now define a system of scaling factors, and use this to non-dimensionlize our paramter set. Let's set one of these systems up:"
   ]
  },
  {
   "cell_type": "code",
   "execution_count": 15,
   "metadata": {},
   "outputs": [],
   "source": [
    "#import unsupported_dan.geodynamics.scaling as test_scaling;\n",
    "#from underworld import scaling as sca\n",
    "#sca.units\n",
    "\n",
    "scaling_coefficients = scaling.get_coefficients()"
   ]
  },
  {
   "cell_type": "code",
   "execution_count": 18,
   "metadata": {},
   "outputs": [
    {
     "name": "stdout",
     "output_type": "stream",
     "text": [
      "{\u001b[38;5;124m'\u001b[39m\u001b[38;5;124m[length]\u001b[39m\u001b[38;5;124m'\u001b[39m: \u001b[38;5;241m<\u001b[39mQuantity(\u001b[38;5;241m1.0\u001b[39m, \u001b[38;5;124m'\u001b[39m\u001b[38;5;124mmeter\u001b[39m\u001b[38;5;124m'\u001b[39m)\u001b[38;5;241m>\u001b[39m,\n",
      " \u001b[38;5;124m'\u001b[39m\u001b[38;5;124m[mass]\u001b[39m\u001b[38;5;124m'\u001b[39m: \u001b[38;5;241m<\u001b[39mQuantity(\u001b[38;5;241m1.0\u001b[39m, \u001b[38;5;124m'\u001b[39m\u001b[38;5;124mkilogram\u001b[39m\u001b[38;5;124m'\u001b[39m)\u001b[38;5;241m>\u001b[39m,\n",
      " \u001b[38;5;124m'\u001b[39m\u001b[38;5;124m[substance]\u001b[39m\u001b[38;5;124m'\u001b[39m: \u001b[38;5;241m<\u001b[39mQuantity(\u001b[38;5;241m1.0\u001b[39m, \u001b[38;5;124m'\u001b[39m\u001b[38;5;124mmole\u001b[39m\u001b[38;5;124m'\u001b[39m)\u001b[38;5;241m>\u001b[39m,\n",
      " \u001b[38;5;124m'\u001b[39m\u001b[38;5;124m[temperature]\u001b[39m\u001b[38;5;124m'\u001b[39m: \u001b[38;5;241m<\u001b[39mQuantity(\u001b[38;5;241m1.0\u001b[39m, \u001b[38;5;124m'\u001b[39m\u001b[38;5;124mkelvin\u001b[39m\u001b[38;5;124m'\u001b[39m)\u001b[38;5;241m>\u001b[39m,\n",
      " \u001b[38;5;124m'\u001b[39m\u001b[38;5;124m[time]\u001b[39m\u001b[38;5;124m'\u001b[39m: \u001b[38;5;241m<\u001b[39mQuantity(\u001b[38;5;241m31556925.9747\u001b[39m, \u001b[38;5;124m'\u001b[39m\u001b[38;5;124msecond\u001b[39m\u001b[38;5;124m'\u001b[39m)\u001b[38;5;241m>\u001b[39m}\n",
      "\n",
      "None\n"
     ]
    }
   ],
   "source": [
    "print(pprint_color(scaling_coefficients))\n",
    "\n",
    "\n",
    "#instead of importing from the params submodule, we'll explicity set the scaling values\n",
    "KL = pd.refLength\n",
    "KT = pd.potentialTemp - pd.surfaceTemp\n",
    "Kt = KL**2/pd.refDiffusivity            #we use a diffusive time scale \n",
    "KM = pd.refViscosity * KL * Kt\n",
    "\n",
    "scaling_coefficients[\"[length]\"]      = KL.to_base_units()\n",
    "scaling_coefficients[\"[temperature]\"] = KT.to_base_units()\n",
    "scaling_coefficients[\"[mass]\"]        = KM.to_base_units()\n",
    "scaling_coefficients[\"[time]\"] =        Kt.to_base_units()"
   ]
  },
  {
   "cell_type": "code",
   "execution_count": 19,
   "metadata": {},
   "outputs": [
    {
     "ename": "DimensionalityError",
     "evalue": "Cannot convert from '2900000.0 meter' ([length]) to 'a quantity of' ([length])",
     "output_type": "error",
     "traceback": [
      "\u001b[0;31m---------------------------------------------------------------------------\u001b[0m",
      "\u001b[0;31mDimensionalityError\u001b[0m                       Traceback (most recent call last)",
      "\u001b[0;32m<ipython-input-19-243be716d09e>\u001b[0m in \u001b[0;36m<module>\u001b[0;34m\u001b[0m\n\u001b[1;32m      1\u001b[0m \u001b[0;31m#print(pd.refLength)\u001b[0m\u001b[0;34m\u001b[0m\u001b[0;34m\u001b[0m\u001b[0m\n\u001b[0;32m----> 2\u001b[0;31m \u001b[0mprint\u001b[0m\u001b[0;34m(\u001b[0m\u001b[0mscaling\u001b[0m\u001b[0;34m.\u001b[0m\u001b[0mnon_dimensionalise\u001b[0m\u001b[0;34m(\u001b[0m\u001b[0mpd\u001b[0m\u001b[0;34m.\u001b[0m\u001b[0mrefLength\u001b[0m\u001b[0;34m)\u001b[0m\u001b[0;34m)\u001b[0m\u001b[0;34m\u001b[0m\u001b[0m\n\u001b[0m",
      "\u001b[0;32m/usr/local/underworld2/lib/underworld/scaling/_scaling.py\u001b[0m in \u001b[0;36mnon_dimensionalise\u001b[0;34m(dimValue)\u001b[0m\n\u001b[1;32m    104\u001b[0m         \u001b[0;32mreturn\u001b[0m\u001b[0;34m\u001b[0m\u001b[0m\n\u001b[1;32m    105\u001b[0m \u001b[0;34m\u001b[0m\u001b[0m\n\u001b[0;32m--> 106\u001b[0;31m     \u001b[0mcheck\u001b[0m\u001b[0;34m(\u001b[0m\u001b[0mlength\u001b[0m\u001b[0;34m,\u001b[0m \u001b[0mtime\u001b[0m\u001b[0;34m,\u001b[0m \u001b[0mmass\u001b[0m\u001b[0;34m,\u001b[0m \u001b[0mtemperature\u001b[0m\u001b[0;34m,\u001b[0m \u001b[0msubstance\u001b[0m\u001b[0;34m)\u001b[0m\u001b[0;34m\u001b[0m\u001b[0m\n\u001b[0m\u001b[1;32m    107\u001b[0m \u001b[0;34m\u001b[0m\u001b[0m\n\u001b[1;32m    108\u001b[0m     \u001b[0;31m# Get dimensionality\u001b[0m\u001b[0;34m\u001b[0m\u001b[0;34m\u001b[0m\u001b[0m\n",
      "\u001b[0;32m~/.local/lib/python3.5/site-packages/pint/registry_helpers.py\u001b[0m in \u001b[0;36mwrapper\u001b[0;34m(*args, **kwargs)\u001b[0m\n\u001b[1;32m    244\u001b[0m                     \u001b[0mval_dim\u001b[0m \u001b[0;34m=\u001b[0m \u001b[0mureg\u001b[0m\u001b[0;34m.\u001b[0m\u001b[0mget_dimensionality\u001b[0m\u001b[0;34m(\u001b[0m\u001b[0mvalue\u001b[0m\u001b[0;34m)\u001b[0m\u001b[0;34m\u001b[0m\u001b[0m\n\u001b[1;32m    245\u001b[0m                     raise DimensionalityError(value, 'a quantity of',\n\u001b[0;32m--> 246\u001b[0;31m                                               val_dim, dim)\n\u001b[0m\u001b[1;32m    247\u001b[0m             \u001b[0;32mreturn\u001b[0m \u001b[0mfunc\u001b[0m\u001b[0;34m(\u001b[0m\u001b[0;34m*\u001b[0m\u001b[0margs\u001b[0m\u001b[0;34m,\u001b[0m \u001b[0;34m**\u001b[0m\u001b[0mkwargs\u001b[0m\u001b[0;34m)\u001b[0m\u001b[0;34m\u001b[0m\u001b[0m\n\u001b[1;32m    248\u001b[0m         \u001b[0;32mreturn\u001b[0m \u001b[0mwrapper\u001b[0m\u001b[0;34m\u001b[0m\u001b[0m\n",
      "\u001b[0;31mDimensionalityError\u001b[0m: Cannot convert from '2900000.0 meter' ([length]) to 'a quantity of' ([length])"
     ]
    }
   ],
   "source": [
    "#print(pd.refLength)\n",
    "print(scaling.non_dimensionalise(pd.refLength))"
   ]
  },
  {
   "cell_type": "markdown",
   "metadata": {},
   "source": [
    "Because the default length scale is 1 meter, all that happenened is that the Pint Quantity was transformed into it's base (SI) units and divided by the scaling factor, leaving the dimensionless value (2900000.0)"
   ]
  },
  {
   "cell_type": "markdown",
   "metadata": {},
   "source": [
    "### Scaling of mantle thermo-mechanical subduction\n",
    "\n",
    "In order to non-dimensionalise the system we choose a system of scaling factors that are commonly used in thermal convection/ subduction studies. \n",
    "\n",
    "This system uses the convective layer depth (the mantle) as the length scale, a thermal diffusion time scale, and a stress (& mass) scale based on a viscous stress.\n",
    "\n",
    "length Scale:\n",
    "$L_s = L_r$\n",
    "\n",
    "time scale: $t_s = \\frac{L_s^2}{\\kappa_r}$\n",
    "\n",
    "stress scale $\\sigma_s = \\frac{\\kappa_r \\eta_r}{L_s}$\n",
    "\n",
    "mass scale: $M_s = \\frac{\\eta_r L_s^3}{\\kappa_r}$\n",
    "\n",
    "Note that we only need the stress __or__ the mass scale to define a complete scaling\n"
   ]
  },
  {
   "cell_type": "code",
   "execution_count": 49,
   "metadata": {
    "collapsed": true
   },
   "outputs": [],
   "source": [
    "#import the default scaling\n",
    "#from unsupported_dan.UWsubduction.default_scaling import sub_scaling\n",
    "\n",
    "\n",
    "#instead of importing from the params submodule, we'll explicity set the scaling values\n",
    "KL = pd.refLength\n",
    "KT = pd.potentialTemp - pd.surfaceTemp\n",
    "Kt = KL**2/pd.refDiffusivity            #we use a diffusive time scale \n",
    "KM = pd.refViscosity * KL * Kt\n",
    "\n",
    "scaling_coefficients[\"[length]\"]      = KL.to_base_units()\n",
    "scaling_coefficients[\"[temperature]\"] = KT.to_base_units()\n",
    "scaling_coefficients[\"[mass]\"]        = KM.to_base_units()\n",
    "scaling_coefficients[\"[time]\"] =        Kt.to_base_units()\n"
   ]
  },
  {
   "cell_type": "code",
   "execution_count": 25,
   "metadata": {},
   "outputs": [
    {
     "data": {
      "text/html": [
       "2900000.0 meter"
      ],
      "text/latex": [
       "$2900000.0 meter$"
      ],
      "text/plain": [
       "<Quantity(2900000.0, 'meter')>"
      ]
     },
     "execution_count": 25,
     "metadata": {},
     "output_type": "execute_result"
    }
   ],
   "source": [
    "sub_scaling.scaling['[length]']"
   ]
  },
  {
   "cell_type": "code",
   "execution_count": 12,
   "metadata": {},
   "outputs": [
    {
     "name": "stdout",
     "output_type": "stream",
     "text": [
      "1.0\n"
     ]
    }
   ],
   "source": [
    "print(sub_scaling.nonDimensionalize(paramDict_dim.refLength))"
   ]
  },
  {
   "cell_type": "markdown",
   "metadata": {},
   "source": [
    "We also provide a function to convert a dictionary of dimensional paramters to a dictionary of dimesnsionless parameters:"
   ]
  },
  {
   "cell_type": "code",
   "execution_count": 20,
   "metadata": {},
   "outputs": [],
   "source": [
    "from unsupported_dan.UWsubduction.default_scaling import build_nondim_dict\n",
    "\n",
    "paramDict_nondim = build_nondim_dict(paramDict_dim, sub_scaling)"
   ]
  },
  {
   "cell_type": "code",
   "execution_count": 21,
   "metadata": {},
   "outputs": [
    {
     "name": "stdout",
     "output_type": "stream",
     "text": [
      "1.0\n"
     ]
    }
   ],
   "source": [
    "print(paramDict_nondim.refLength)"
   ]
  },
  {
   "cell_type": "markdown",
   "metadata": {},
   "source": [
    "### Temperature convention (offset)\n",
    "\n",
    "One difficulty with allowing the scaling module to automate the non-dimensionalisation process is that we sometimes want to define an offset as well as a scaling. For intaance, it is common in thermal (Raylieigh-Bernard type) convection studies to deine the dimensionless temperature as:\n",
    "\n",
    "$T' = \\frac{T - T_0}{T_1 -T_0}$ \n",
    "\n",
    "Where $T_0$ is the surface temperature and T1, the base (or interior) temperature. \n",
    "\n",
    "At this stage, we have tried to adhere to this convention, by providing two sets of temperatures:\n"
   ]
  },
  {
   "cell_type": "code",
   "execution_count": 16,
   "metadata": {},
   "outputs": [
    {
     "name": "stdout",
     "output_type": "stream",
     "text": [
      "1573.0 kelvin\n",
      "1300.0 kelvin\n"
     ]
    }
   ],
   "source": [
    "print(paramDict_dim.potentialTemp)\n",
    "print(paramDict_dim.potentialTemp_)"
   ]
  },
  {
   "cell_type": "code",
   "execution_count": 17,
   "metadata": {},
   "outputs": [
    {
     "name": "stdout",
     "output_type": "stream",
     "text": [
      "1.21\n",
      "1.0\n"
     ]
    }
   ],
   "source": [
    "print(sub_scaling.nonDimensionalize(paramDict_dim.potentialTemp))\n",
    "print(sub_scaling.nonDimensionalize(paramDict_dim.potentialTemp_))"
   ]
  },
  {
   "cell_type": "markdown",
   "metadata": {},
   "source": [
    "Where the `_` notation desribes the offset temperatures (dimensional and dimensionless)\n",
    "\n",
    "We mention this to clarify (hopefully) the appearance of `potentialTemp_` and `surfaceTemp_` in the examples."
   ]
  },
  {
   "cell_type": "markdown",
   "metadata": {},
   "source": [
    "### Mininal example\n",
    "\n",
    " The subduction examples provided in this repository (/UWsubduction/Examples) are based on a set of paramters which we story in the script called `minimal_example.py`\n",
    " \n",
    "In fact, we generally use two dictionaries, one storing physical consntants and paramters (for insnace flow law parameters,), the other storing paramters related more to modelling. Note that many of the modeling paramters have phsycial units, an example is the depth at to which the initial slab extends. "
   ]
  },
  {
   "cell_type": "code",
   "execution_count": 39,
   "metadata": {},
   "outputs": [
    {
     "name": "stdout",
     "output_type": "stream",
     "text": [
      "{\u001b[38;5;124m'\u001b[39m\u001b[38;5;124madiabaticTempGrad\u001b[39m\u001b[38;5;124m'\u001b[39m: \u001b[38;5;241m<\u001b[39mQuantity(\u001b[38;5;241m0.000369851247601\u001b[39m, \u001b[38;5;124m'\u001b[39m\u001b[38;5;124mkelvin * kilogram * meter / joule / second ** 2\u001b[39m\u001b[38;5;124m'\u001b[39m)\u001b[38;5;241m>\u001b[39m,\n",
      " \u001b[38;5;124m'\u001b[39m\u001b[38;5;124mcohesionMantle\u001b[39m\u001b[38;5;124m'\u001b[39m: \u001b[38;5;241m<\u001b[39mQuantity(\u001b[38;5;241m20.0\u001b[39m, \u001b[38;5;124m'\u001b[39m\u001b[38;5;124mmegapascal\u001b[39m\u001b[38;5;124m'\u001b[39m)\u001b[38;5;241m>\u001b[39m,\n",
      " \u001b[38;5;124m'\u001b[39m\u001b[38;5;124mdiffusionEnergy\u001b[39m\u001b[38;5;124m'\u001b[39m: \u001b[38;5;241m<\u001b[39mQuantity(\u001b[38;5;241m300000.0\u001b[39m, \u001b[38;5;124m'\u001b[39m\u001b[38;5;124mjoule / mole\u001b[39m\u001b[38;5;124m'\u001b[39m)\u001b[38;5;241m>\u001b[39m,\n",
      " \u001b[38;5;124m'\u001b[39m\u001b[38;5;124mdiffusionEnergyDepth\u001b[39m\u001b[38;5;124m'\u001b[39m: \u001b[38;5;241m<\u001b[39mQuantity(\u001b[38;5;241m36083.714217\u001b[39m, \u001b[38;5;124m'\u001b[39m\u001b[38;5;124mkelvin\u001b[39m\u001b[38;5;124m'\u001b[39m)\u001b[38;5;241m>\u001b[39m,\n",
      " \u001b[38;5;124m'\u001b[39m\u001b[38;5;124mdiffusionPreExp\u001b[39m\u001b[38;5;124m'\u001b[39m: \u001b[38;5;241m<\u001b[39mQuantity(\u001b[38;5;241m5.34e-10\u001b[39m, \u001b[38;5;124m'\u001b[39m\u001b[38;5;124m1 / pascal / second\u001b[39m\u001b[38;5;124m'\u001b[39m)\u001b[38;5;241m>\u001b[39m,\n",
      " \u001b[38;5;124m'\u001b[39m\u001b[38;5;124mdiffusionVolume\u001b[39m\u001b[38;5;124m'\u001b[39m: \u001b[38;5;241m<\u001b[39mQuantity(\u001b[38;5;241m5e-06\u001b[39m, \u001b[38;5;124m'\u001b[39m\u001b[38;5;124mmeter ** 3 / mole\u001b[39m\u001b[38;5;124m'\u001b[39m)\u001b[38;5;241m>\u001b[39m,\n",
      " \u001b[38;5;124m'\u001b[39m\u001b[38;5;124mdiffusionVolumeDepth\u001b[39m\u001b[38;5;124m'\u001b[39m: \u001b[38;5;241m<\u001b[39mQuantity(\u001b[38;5;241m0.019449121963\u001b[39m, \u001b[38;5;124m'\u001b[39m\u001b[38;5;124mkelvin / meter\u001b[39m\u001b[38;5;124m'\u001b[39m)\u001b[38;5;241m>\u001b[39m,\n",
      " \u001b[38;5;124m'\u001b[39m\u001b[38;5;124mfrictionMantle\u001b[39m\u001b[38;5;124m'\u001b[39m: \u001b[38;5;241m<\u001b[39mQuantity(\u001b[38;5;241m0.2\u001b[39m, \u001b[38;5;124m'\u001b[39m\u001b[38;5;124mdimensionless\u001b[39m\u001b[38;5;124m'\u001b[39m)\u001b[38;5;241m>\u001b[39m,\n",
      " \u001b[38;5;124m'\u001b[39m\u001b[38;5;124mfrictionMantleDepth\u001b[39m\u001b[38;5;124m'\u001b[39m: \u001b[38;5;241m<\u001b[39mQuantity(\u001b[38;5;241m6468.0\u001b[39m, \u001b[38;5;124m'\u001b[39m\u001b[38;5;124mkilogram / meter ** 2 / second ** 2\u001b[39m\u001b[38;5;124m'\u001b[39m)\u001b[38;5;241m>\u001b[39m,\n",
      " \u001b[38;5;124m'\u001b[39m\u001b[38;5;124mgasConstant\u001b[39m\u001b[38;5;124m'\u001b[39m: \u001b[38;5;241m<\u001b[39mQuantity(\u001b[38;5;241m8.314\u001b[39m, \u001b[38;5;124m'\u001b[39m\u001b[38;5;124mjoule / kelvin / mole\u001b[39m\u001b[38;5;124m'\u001b[39m)\u001b[38;5;241m>\u001b[39m,\n",
      " \u001b[38;5;124m'\u001b[39m\u001b[38;5;124mlowerMantleViscFac\u001b[39m\u001b[38;5;124m'\u001b[39m: \u001b[38;5;241m<\u001b[39mQuantity(\u001b[38;5;241m30.0\u001b[39m, \u001b[38;5;124m'\u001b[39m\u001b[38;5;124mdimensionless\u001b[39m\u001b[38;5;124m'\u001b[39m)\u001b[38;5;241m>\u001b[39m,\n",
      " \u001b[38;5;124m'\u001b[39m\u001b[38;5;124mpotentialTemp\u001b[39m\u001b[38;5;124m'\u001b[39m: \u001b[38;5;241m<\u001b[39mQuantity(\u001b[38;5;241m1573.0\u001b[39m, \u001b[38;5;124m'\u001b[39m\u001b[38;5;124mkelvin\u001b[39m\u001b[38;5;124m'\u001b[39m)\u001b[38;5;241m>\u001b[39m,\n",
      " \u001b[38;5;124m'\u001b[39m\u001b[38;5;124mpotentialTemp_\u001b[39m\u001b[38;5;124m'\u001b[39m: \u001b[38;5;241m<\u001b[39mQuantity(\u001b[38;5;241m1300.0\u001b[39m, \u001b[38;5;124m'\u001b[39m\u001b[38;5;124mkelvin\u001b[39m\u001b[38;5;124m'\u001b[39m)\u001b[38;5;241m>\u001b[39m,\n",
      " \u001b[38;5;124m'\u001b[39m\u001b[38;5;124mrefDensity\u001b[39m\u001b[38;5;124m'\u001b[39m: \u001b[38;5;241m<\u001b[39mQuantity(\u001b[38;5;241m3300.0\u001b[39m, \u001b[38;5;124m'\u001b[39m\u001b[38;5;124mkilogram / meter ** 3\u001b[39m\u001b[38;5;124m'\u001b[39m)\u001b[38;5;241m>\u001b[39m,\n",
      " \u001b[38;5;124m'\u001b[39m\u001b[38;5;124mrefDiffusivity\u001b[39m\u001b[38;5;124m'\u001b[39m: \u001b[38;5;241m<\u001b[39mQuantity(\u001b[38;5;241m1e-06\u001b[39m, \u001b[38;5;124m'\u001b[39m\u001b[38;5;124mmeter ** 2 / second\u001b[39m\u001b[38;5;124m'\u001b[39m)\u001b[38;5;241m>\u001b[39m,\n",
      " \u001b[38;5;124m'\u001b[39m\u001b[38;5;124mrefExpansivity\u001b[39m\u001b[38;5;124m'\u001b[39m: \u001b[38;5;241m<\u001b[39mQuantity(\u001b[38;5;241m3e-05\u001b[39m, \u001b[38;5;124m'\u001b[39m\u001b[38;5;124m1 / kelvin\u001b[39m\u001b[38;5;124m'\u001b[39m)\u001b[38;5;241m>\u001b[39m,\n",
      " \u001b[38;5;124m'\u001b[39m\u001b[38;5;124mrefGravity\u001b[39m\u001b[38;5;124m'\u001b[39m: \u001b[38;5;241m<\u001b[39mQuantity(\u001b[38;5;241m9.8\u001b[39m, \u001b[38;5;124m'\u001b[39m\u001b[38;5;124mmeter / second ** 2\u001b[39m\u001b[38;5;124m'\u001b[39m)\u001b[38;5;241m>\u001b[39m,\n",
      " \u001b[38;5;124m'\u001b[39m\u001b[38;5;124mrefLength\u001b[39m\u001b[38;5;124m'\u001b[39m: \u001b[38;5;241m<\u001b[39mQuantity(\u001b[38;5;241m2900\u001b[39m, \u001b[38;5;124m'\u001b[39m\u001b[38;5;124mkilometer\u001b[39m\u001b[38;5;124m'\u001b[39m)\u001b[38;5;241m>\u001b[39m,\n",
      " \u001b[38;5;124m'\u001b[39m\u001b[38;5;124mrefViscosity\u001b[39m\u001b[38;5;124m'\u001b[39m: \u001b[38;5;241m<\u001b[39mQuantity(\u001b[38;5;241m1e+20\u001b[39m, \u001b[38;5;124m'\u001b[39m\u001b[38;5;124mpascal * second\u001b[39m\u001b[38;5;124m'\u001b[39m)\u001b[38;5;241m>\u001b[39m,\n",
      " \u001b[38;5;124m'\u001b[39m\u001b[38;5;124mspecificHeat\u001b[39m\u001b[38;5;124m'\u001b[39m: \u001b[38;5;241m<\u001b[39mQuantity(\u001b[38;5;241m1250.4\u001b[39m, \u001b[38;5;124m'\u001b[39m\u001b[38;5;124mjoule / kelvin / kilogram\u001b[39m\u001b[38;5;124m'\u001b[39m)\u001b[38;5;241m>\u001b[39m,\n",
      " \u001b[38;5;124m'\u001b[39m\u001b[38;5;124msurfaceTemp\u001b[39m\u001b[38;5;124m'\u001b[39m: \u001b[38;5;241m<\u001b[39mQuantity(\u001b[38;5;241m273.0\u001b[39m, \u001b[38;5;124m'\u001b[39m\u001b[38;5;124mkelvin\u001b[39m\u001b[38;5;124m'\u001b[39m)\u001b[38;5;241m>\u001b[39m,\n",
      " \u001b[38;5;124m'\u001b[39m\u001b[38;5;124msurfaceTemp_\u001b[39m\u001b[38;5;124m'\u001b[39m: \u001b[38;5;241m<\u001b[39mQuantity(\u001b[38;5;241m0.0\u001b[39m, \u001b[38;5;124m'\u001b[39m\u001b[38;5;124mkelvin\u001b[39m\u001b[38;5;124m'\u001b[39m)\u001b[38;5;241m>\u001b[39m,\n",
      " \u001b[38;5;124m'\u001b[39m\u001b[38;5;124mviscosityFault\u001b[39m\u001b[38;5;124m'\u001b[39m: \u001b[38;5;241m<\u001b[39mQuantity(\u001b[38;5;241m5e+19\u001b[39m, \u001b[38;5;124m'\u001b[39m\u001b[38;5;124mpascal * second\u001b[39m\u001b[38;5;124m'\u001b[39m)\u001b[38;5;241m>\u001b[39m,\n",
      " \u001b[38;5;124m'\u001b[39m\u001b[38;5;124myieldStressMax\u001b[39m\u001b[38;5;124m'\u001b[39m: \u001b[38;5;241m<\u001b[39mQuantity(\u001b[38;5;241m200\u001b[39m, \u001b[38;5;124m'\u001b[39m\u001b[38;5;124mmegapascal\u001b[39m\u001b[38;5;124m'\u001b[39m)\u001b[38;5;241m>\u001b[39m}\n",
      "\n"
     ]
    }
   ],
   "source": [
    "#physical paramters\n",
    "pprint_color(paramDict_dim)"
   ]
  },
  {
   "cell_type": "code",
   "execution_count": 40,
   "metadata": {},
   "outputs": [
    {
     "name": "stdout",
     "output_type": "stream",
     "text": [
      "{\u001b[38;5;124m'\u001b[39m\u001b[38;5;124maspectRatio\u001b[39m\u001b[38;5;124m'\u001b[39m: \u001b[38;5;241m5.0\u001b[39m,\n",
      " \u001b[38;5;124m'\u001b[39m\u001b[38;5;124mbuoyancyFac\u001b[39m\u001b[38;5;124m'\u001b[39m: \u001b[38;5;241m1.0\u001b[39m,\n",
      " \u001b[38;5;124m'\u001b[39m\u001b[38;5;124mdepth\u001b[39m\u001b[38;5;124m'\u001b[39m: \u001b[38;5;241m<\u001b[39mQuantity(\u001b[38;5;241m1000\u001b[39m, \u001b[38;5;124m'\u001b[39m\u001b[38;5;124mkilometer\u001b[39m\u001b[38;5;124m'\u001b[39m)\u001b[38;5;241m>\u001b[39m,\n",
      " \u001b[38;5;124m'\u001b[39m\u001b[38;5;124mdruckerAlpha\u001b[39m\u001b[38;5;124m'\u001b[39m: \u001b[38;5;241m1.0\u001b[39m,\n",
      " \u001b[38;5;124m'\u001b[39m\u001b[38;5;124melementType\u001b[39m\u001b[38;5;124m'\u001b[39m: \u001b[38;5;124m'\u001b[39m\u001b[38;5;124mQ1/dQ0\u001b[39m\u001b[38;5;124m'\u001b[39m,\n",
      " \u001b[38;5;124m'\u001b[39m\u001b[38;5;124mfaultDestroyDepth\u001b[39m\u001b[38;5;124m'\u001b[39m: \u001b[38;5;241m<\u001b[39mQuantity(\u001b[38;5;241m500\u001b[39m, \u001b[38;5;124m'\u001b[39m\u001b[38;5;124mkilometer\u001b[39m\u001b[38;5;124m'\u001b[39m)\u001b[38;5;241m>\u001b[39m,\n",
      " \u001b[38;5;124m'\u001b[39m\u001b[38;5;124mfaultLocFac\u001b[39m\u001b[38;5;124m'\u001b[39m: \u001b[38;5;241m1.0\u001b[39m,\n",
      " \u001b[38;5;124m'\u001b[39m\u001b[38;5;124mfaultThickness\u001b[39m\u001b[38;5;124m'\u001b[39m: \u001b[38;5;241m<\u001b[39mQuantity(\u001b[38;5;241m10.0\u001b[39m, \u001b[38;5;124m'\u001b[39m\u001b[38;5;124mkilometer\u001b[39m\u001b[38;5;124m'\u001b[39m)\u001b[38;5;241m>\u001b[39m,\n",
      " \u001b[38;5;124m'\u001b[39m\u001b[38;5;124mfaultViscDepthTaperStart\u001b[39m\u001b[38;5;124m'\u001b[39m: \u001b[38;5;241m<\u001b[39mQuantity(\u001b[38;5;241m100\u001b[39m, \u001b[38;5;124m'\u001b[39m\u001b[38;5;124mkilometer\u001b[39m\u001b[38;5;124m'\u001b[39m)\u001b[38;5;241m>\u001b[39m,\n",
      " \u001b[38;5;124m'\u001b[39m\u001b[38;5;124mfaultViscDepthTaperWidth\u001b[39m\u001b[38;5;124m'\u001b[39m: \u001b[38;5;241m<\u001b[39mQuantity(\u001b[38;5;241m20\u001b[39m, \u001b[38;5;124m'\u001b[39m\u001b[38;5;124mkilometer\u001b[39m\u001b[38;5;124m'\u001b[39m)\u001b[38;5;241m>\u001b[39m,\n",
      " \u001b[38;5;124m'\u001b[39m\u001b[38;5;124mfaultViscHorizTaperStart\u001b[39m\u001b[38;5;124m'\u001b[39m: \u001b[38;5;241m<\u001b[39mQuantity(\u001b[38;5;241m300\u001b[39m, \u001b[38;5;124m'\u001b[39m\u001b[38;5;124mkilometer\u001b[39m\u001b[38;5;124m'\u001b[39m)\u001b[38;5;241m>\u001b[39m,\n",
      " \u001b[38;5;124m'\u001b[39m\u001b[38;5;124mfaultViscHorizTaperWidth\u001b[39m\u001b[38;5;124m'\u001b[39m: \u001b[38;5;241m<\u001b[39mQuantity(\u001b[38;5;241m300\u001b[39m, \u001b[38;5;124m'\u001b[39m\u001b[38;5;124mkilometer\u001b[39m\u001b[38;5;124m'\u001b[39m)\u001b[38;5;241m>\u001b[39m,\n",
      " \u001b[38;5;124m'\u001b[39m\u001b[38;5;124mlowerMantleDepth\u001b[39m\u001b[38;5;124m'\u001b[39m: \u001b[38;5;241m<\u001b[39mQuantity(\u001b[38;5;241m660.0\u001b[39m, \u001b[38;5;124m'\u001b[39m\u001b[38;5;124mkilometer\u001b[39m\u001b[38;5;124m'\u001b[39m)\u001b[38;5;241m>\u001b[39m,\n",
      " \u001b[38;5;124m'\u001b[39m\u001b[38;5;124mlowerMantleTransWidth\u001b[39m\u001b[38;5;124m'\u001b[39m: \u001b[38;5;241m<\u001b[39mQuantity(\u001b[38;5;241m10.0\u001b[39m, \u001b[38;5;124m'\u001b[39m\u001b[38;5;124mkilometer\u001b[39m\u001b[38;5;124m'\u001b[39m)\u001b[38;5;241m>\u001b[39m,\n",
      " \u001b[38;5;124m'\u001b[39m\u001b[38;5;124mmeshRefineFactor\u001b[39m\u001b[38;5;124m'\u001b[39m: \u001b[38;5;241m0.7\u001b[39m,\n",
      " \u001b[38;5;124m'\u001b[39m\u001b[38;5;124mnltol\u001b[39m\u001b[38;5;124m'\u001b[39m: \u001b[38;5;241m0.01\u001b[39m,\n",
      " \u001b[38;5;124m'\u001b[39m\u001b[38;5;124mopAgeAtTrench\u001b[39m\u001b[38;5;124m'\u001b[39m: \u001b[38;5;241m<\u001b[39mQuantity(\u001b[38;5;241m35.0\u001b[39m, \u001b[38;5;124m'\u001b[39m\u001b[38;5;124mmegayear\u001b[39m\u001b[38;5;124m'\u001b[39m)\u001b[38;5;241m>\u001b[39m,\n",
      " \u001b[38;5;124m'\u001b[39m\u001b[38;5;124mpenaltyMethod\u001b[39m\u001b[38;5;124m'\u001b[39m: \u001b[38;5;28mTrue\u001b[39m,\n",
      " \u001b[38;5;124m'\u001b[39m\u001b[38;5;124mppc\u001b[39m\u001b[38;5;124m'\u001b[39m: \u001b[38;5;241m25\u001b[39m,\n",
      " \u001b[38;5;124m'\u001b[39m\u001b[38;5;124mradiusOfCurv\u001b[39m\u001b[38;5;124m'\u001b[39m: \u001b[38;5;241m<\u001b[39mQuantity(\u001b[38;5;241m350.0\u001b[39m, \u001b[38;5;124m'\u001b[39m\u001b[38;5;124mkilometer\u001b[39m\u001b[38;5;124m'\u001b[39m)\u001b[38;5;241m>\u001b[39m,\n",
      " \u001b[38;5;124m'\u001b[39m\u001b[38;5;124mrefineHoriz\u001b[39m\u001b[38;5;124m'\u001b[39m: \u001b[38;5;28mTrue\u001b[39m,\n",
      " \u001b[38;5;124m'\u001b[39m\u001b[38;5;124mrefineVert\u001b[39m\u001b[38;5;124m'\u001b[39m: \u001b[38;5;28mTrue\u001b[39m,\n",
      " \u001b[38;5;124m'\u001b[39m\u001b[38;5;124mres\u001b[39m\u001b[38;5;124m'\u001b[39m: \u001b[38;5;241m48\u001b[39m,\n",
      " \u001b[38;5;124m'\u001b[39m\u001b[38;5;124mslabAge\u001b[39m\u001b[38;5;124m'\u001b[39m: \u001b[38;5;241m<\u001b[39mQuantity(\u001b[38;5;241m70.0\u001b[39m, \u001b[38;5;124m'\u001b[39m\u001b[38;5;124mmegayear\u001b[39m\u001b[38;5;124m'\u001b[39m)\u001b[38;5;241m>\u001b[39m,\n",
      " \u001b[38;5;124m'\u001b[39m\u001b[38;5;124mslabInitMaxDepth\u001b[39m\u001b[38;5;124m'\u001b[39m: \u001b[38;5;241m<\u001b[39mQuantity(\u001b[38;5;241m150\u001b[39m, \u001b[38;5;124m'\u001b[39m\u001b[38;5;124mkilometer\u001b[39m\u001b[38;5;124m'\u001b[39m)\u001b[38;5;241m>\u001b[39m,\n",
      " \u001b[38;5;124m'\u001b[39m\u001b[38;5;124msubZoneLoc\u001b[39m\u001b[38;5;124m'\u001b[39m: \u001b[38;5;241m<\u001b[39mQuantity(\u001b[38;5;241m-\u001b[39m\u001b[38;5;241m100\u001b[39m, \u001b[38;5;124m'\u001b[39m\u001b[38;5;124mkilometer\u001b[39m\u001b[38;5;124m'\u001b[39m)\u001b[38;5;241m>\u001b[39m,\n",
      " \u001b[38;5;124m'\u001b[39m\u001b[38;5;124mviscosityMax\u001b[39m\u001b[38;5;124m'\u001b[39m: \u001b[38;5;241m<\u001b[39mQuantity(\u001b[38;5;241m1e+25\u001b[39m, \u001b[38;5;124m'\u001b[39m\u001b[38;5;124mpascal * second\u001b[39m\u001b[38;5;124m'\u001b[39m)\u001b[38;5;241m>\u001b[39m,\n",
      " \u001b[38;5;124m'\u001b[39m\u001b[38;5;124mviscosityMin\u001b[39m\u001b[38;5;124m'\u001b[39m: \u001b[38;5;241m<\u001b[39mQuantity(\u001b[38;5;241m1e+18\u001b[39m, \u001b[38;5;124m'\u001b[39m\u001b[38;5;124mpascal * second\u001b[39m\u001b[38;5;124m'\u001b[39m)\u001b[38;5;241m>\u001b[39m}\n",
      "\n"
     ]
    }
   ],
   "source": [
    "#modelling paramters\n",
    "pprint_color(modelDict_dim)"
   ]
  },
  {
   "cell_type": "code",
   "execution_count": null,
   "metadata": {
    "collapsed": true
   },
   "outputs": [],
   "source": []
  }
 ],
 "metadata": {
  "kernelspec": {
   "display_name": "Python 3",
   "language": "python",
   "name": "python3"
  },
  "language_info": {
   "codemirror_mode": {
    "name": "ipython",
    "version": 3
   },
   "file_extension": ".py",
   "mimetype": "text/x-python",
   "name": "python",
   "nbconvert_exporter": "python",
   "pygments_lexer": "ipython3",
   "version": "3.5.3"
  }
 },
 "nbformat": 4,
 "nbformat_minor": 2
}
