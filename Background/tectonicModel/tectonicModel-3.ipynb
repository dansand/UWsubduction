{
 "cells": [
  {
   "cell_type": "markdown",
   "metadata": {},
   "source": [
    "# Tectonic Model: Setting velocities / communicating with the UW Stokes system"
   ]
  },
  {
   "cell_type": "code",
   "execution_count": 1,
   "metadata": {
    "collapsed": true
   },
   "outputs": [],
   "source": [
    "import numpy as np\n",
    "import underworld as uw\n",
    "from underworld import function as fn\n",
    "import glucifer\n",
    "from easydict import EasyDict as edict\n",
    "import networkx as nx\n",
    "import operator\n",
    "\n",
    "import UWsubduction as usub\n",
    "\n"
   ]
  },
  {
   "cell_type": "markdown",
   "metadata": {
    "collapsed": true
   },
   "source": [
    "## Physical model"
   ]
  },
  {
   "cell_type": "code",
   "execution_count": 27,
   "metadata": {},
   "outputs": [],
   "source": [
    "yres = int(md.res)\n",
    "xres = int(md.res*12) \n",
    "\n",
    "mesh = uw.mesh.FeMesh_Cartesian( elementType = (md.elementType),\n",
    "                                 elementRes  = (xres, yres), \n",
    "                                 minCoord    = (ndp.leftLim, 1. - ndp.depth), \n",
    "                                 maxCoord    = (ndp.rightLim, 1.)) \n",
    "\n",
    "temperatureField    = uw.mesh.MeshVariable( mesh=mesh,         nodeDofCount=1 )\n",
    "\n",
    "velocityField = uw.mesh.MeshVariable( mesh=mesh,         nodeDofCount=2)"
   ]
  },
  {
   "cell_type": "code",
   "execution_count": 28,
   "metadata": {},
   "outputs": [],
   "source": [
    "#(1. - mesh.minCoord[1])*2900"
   ]
  },
  {
   "cell_type": "markdown",
   "metadata": {},
   "source": [
    "## Build plate model"
   ]
  },
  {
   "cell_type": "code",
   "execution_count": 29,
   "metadata": {},
   "outputs": [],
   "source": [
    "#Set up some velocityies\n",
    "cm2ms = (1/100.)*(1./(3600*24*365)) \n",
    "\n",
    "v1= 2.*cm2ms #m/s\n",
    "v1 /= sf.velocity\n",
    "\n",
    "v2= -2.*cm2ms #\n",
    "v2 /= sf.velocity\n",
    "\n",
    "\n",
    "\n",
    "ma2s = 1e6*(3600*24*365)\n",
    "endTime = 20*ma2s/sf.time\n",
    "dt = 0.1*ma2s/sf.time\n",
    "testTime = 5*ma2s/sf.time\n"
   ]
  },
  {
   "cell_type": "code",
   "execution_count": 30,
   "metadata": {},
   "outputs": [],
   "source": [
    "#20 Ma moddel, timestep of 200 Ka \n",
    "tg = TectModel(mesh, 0, endTime, dt)\n",
    "\n",
    "tg.add_plate(1, velocities = v1)\n",
    "tg.add_plate(2,velocities = v2)\n",
    "tg.add_plate(3, velocities = v2/2.)"
   ]
  },
  {
   "cell_type": "code",
   "execution_count": 31,
   "metadata": {},
   "outputs": [],
   "source": [
    "tg.add_left_boundary(1)\n",
    "tg.add_subzone(1, 2, ndp.subZoneLoc, subInitAge=ndp.slabMaxAge, upperInitAge=ndp.opMaxAge)\n",
    "tg.add_subzone(3, 2, 0.4, subInitAge=ndp.slabMaxAge, upperInitAge=ndp.opMaxAge)\n",
    "\n",
    "tg.add_right_boundary(3, 0.)"
   ]
  },
  {
   "cell_type": "markdown",
   "metadata": {},
   "source": [
    "## Querying the velocities"
   ]
  },
  {
   "cell_type": "code",
   "execution_count": 32,
   "metadata": {},
   "outputs": [
    {
     "name": "stdout",
     "output_type": "stream",
     "text": [
      "plate 1 has specified vel=1839.16793506\n",
      "plate 2 has specified vel=-1839.16793506\n",
      "plate 3 has specified vel=-919.583967529\n",
      "upper plate 2 has specified vel=-1839.16793506\n",
      "upper plate 2 has specified vel=-1839.16793506\n"
     ]
    }
   ],
   "source": [
    "time=tg.times[10]\n",
    "for n in tg.nodes():\n",
    "    if tg.plate_has_vel(n, time):\n",
    "        print('plate {} has specified vel={}'.format(n, tg.plate_velocity(n, time) ))\n",
    "    else:\n",
    "        print('plate {} has no specified vel'.format(n))\n",
    "    \n",
    "\n",
    "for e in tg.undirected.edges():\n",
    "    #print(e)\n",
    "\n",
    "    if tg.is_subduction_boundary(e):\n",
    "        n = tg.subduction_edge_order(e)[1]\n",
    "        \n",
    "        if tg.upper_plate_has_vel(e, time):\n",
    "             print('upper plate {} has specified vel={}'.format(n, tg.plate_velocity(n, time) ))        "
   ]
  },
  {
   "cell_type": "markdown",
   "metadata": {},
   "source": [
    "## Test nodes and Vel Fn"
   ]
  },
  {
   "cell_type": "code",
   "execution_count": 11,
   "metadata": {},
   "outputs": [],
   "source": [
    "#set vel to some preexiting value\n",
    "velocityField.data[:] = 500."
   ]
  },
  {
   "cell_type": "code",
   "execution_count": 12,
   "metadata": {},
   "outputs": [],
   "source": [
    "tg.get_edge_data(*(2, 3))"
   ]
  },
  {
   "cell_type": "code",
   "execution_count": 13,
   "metadata": {},
   "outputs": [],
   "source": [
    "dist = 100e3/sf.lengthScale\n",
    "\n",
    "subMaskFn = tg.plate_boundary_mask_fn(dist)\n",
    "#subMaskFn = tg.plate_boundary_mask_fn(0.1, bound=(1,2))"
   ]
  },
  {
   "cell_type": "code",
   "execution_count": 14,
   "metadata": {},
   "outputs": [],
   "source": [
    "#nodes = tg.get_vel_nodes(pNodeIdFn) \n",
    "#nodes = tg.plate_vel_node_fn(testTime, maskFn = MaskFn)"
   ]
  },
  {
   "cell_type": "code",
   "execution_count": 15,
   "metadata": {},
   "outputs": [],
   "source": [
    "#tg.plate_id_fn( maskFn = MaskFn)\n",
    "#tg.plate_vel_node_fn(testTime, maskFn = MaskFn)"
   ]
  },
  {
   "cell_type": "code",
   "execution_count": 16,
   "metadata": {},
   "outputs": [],
   "source": [
    "#type(MaskFn) == uw.function.branching.conditional"
   ]
  },
  {
   "cell_type": "code",
   "execution_count": 18,
   "metadata": {},
   "outputs": [],
   "source": [
    "## test Plate Vel node fn\n",
    "dist = 100e3/sf.lengthScale\n",
    "MaskFn = tg.subduction_mask_fn(dist)\n",
    "#MaskFn = tg.plate_boundary_mask_fn(dist)\n",
    "\n",
    "\n",
    "#getting the nodes is a two step proceedure, \n",
    "#first build an id function (similar to the pateIdFn but masked for any plate where viscosity is not set)\n",
    "#pNodeIdFn = tg.plate_vel_node_fn(testTime, maskFn = subMaskFn)\n",
    "\n",
    "#not that we could connect these two fuctions\n",
    "nodes = tg.plate_vel_node_fn(testTime, maskFn = MaskFn)\n",
    "\n",
    "\n",
    "#thsi returns only the nodes which we haven't masked, where the velocity is set\n",
    "#nodes = tg.get_vel_nodes(pNodeIdFn) \n",
    "\n",
    "float(len(nodes))/(mesh.elementRes[0] + 1)\n",
    "locs = tg.mesh.data[nodes]"
   ]
  },
  {
   "cell_type": "code",
   "execution_count": 19,
   "metadata": {},
   "outputs": [],
   "source": [
    "#Build the required functions to actually set the velocity\n",
    "pIdFn = tg.plate_id_fn()\n",
    "velMapFn = tg.plateVelFn(testTime, pIdFn)\n",
    "\n",
    "#Now set the veolcity on the nodes\n",
    "velocityField.data[nodes, 0] = velMapFn.evaluate(locs)[:,0]"
   ]
  },
  {
   "cell_type": "code",
   "execution_count": 20,
   "metadata": {},
   "outputs": [],
   "source": [
    "#fig = glucifer.Figure(figsize=(400, 200))\n",
    "#fig.append( glucifer.objects.Surface(tg.mesh, subMaskFn ))\n",
    "#fig.show()"
   ]
  },
  {
   "cell_type": "code",
   "execution_count": 21,
   "metadata": {},
   "outputs": [
    {
     "name": "stdout",
     "output_type": "stream",
     "text": [
      "Populating the interactive namespace from numpy and matplotlib\n"
     ]
    },
    {
     "name": "stderr",
     "output_type": "stream",
     "text": [
      "WARNING: pylab import has clobbered these variables: ['dist', 'e']\n",
      "`%matplotlib` prevents importing * from pylab and numpy\n"
     ]
    },
    {
     "data": {
      "text/plain": [
       "<matplotlib.collections.LineCollection at 0x7fbe66ea8390>"
      ]
     },
     "execution_count": 21,
     "metadata": {},
     "output_type": "execute_result"
    },
    {
     "data": {
      "image/png": "[encoded data removed]",
      "text/plain": [
       "<matplotlib.figure.Figure at 0x7fbe66e87f10>"
      ]
     },
     "metadata": {},
     "output_type": "display_data"
    }
   ],
   "source": [
    "#check\n",
    "%pylab inline\n",
    "tWalls = tg.mesh.specialSets['MaxJ_VertexSet']\n",
    "\n",
    "fig, ax = plt.subplots()\n",
    "plt.plot(mesh.data[tWalls.data][:,0], velocityField.data[tWalls.data])\n",
    "\n",
    "ax.hlines(500, tg.minX, tg.maxX, linestyles='--')"
   ]
  },
  {
   "cell_type": "code",
   "execution_count": 22,
   "metadata": {},
   "outputs": [
    {
     "data": {
      "text/html": [
       "<img src='data:image/png;base64,iVBORw0KGgoAAAANSUhEUgAAAZAAAADICAIAAABJdyC1AAAEFElEQVR4nO3bu05cRwCA4ZmNpeA2D5FL50jQ80p5jhR+pNDbhUunc9r0lnwpxk1IAAFeHHyOfvn7RDGL5pyZReJnz2F3rrUGQMFh7w0AHEuwgAzBAjIEC8gQLCBDsIAMwQIyBAvIECwgQ7CADMECMgQLyBAsIEOwgAzBAjIEC8gQLCBDsIAMwQIyBAvIECwgQ7CADMECMgQLyBAsIEOwgAzBAjIEC8gQLCBDsIAMwQIyBAvIECwgQ7CADMECMgQLyBAsIEOwgAzBAjIEC8gQLCBDsIAMwQIyBAvIECwgQ7CADMECMgQLyBAsIEOwgAzBAjIEC8gQLCBDsIAMwQIyBAvIECwgQ7CADMECMgQLyBAsIEOwgAzBAjIEC8gQLCDjyTbLzDm3WQjYxVprg1W2CNac8+fnrzZYiK/qx49/nb9/ef7uxa8fXt8z7e18enFy9sfJ6cXJ2dv5dLPtfVXPPvx5/u7F+fuXP318c8+0v7/74eL704uTs4uT0zW+oT/Sr397ts1CLgmBDMECMgQLyBAsIEOwgAzBAjIEC8gQLCBDsIAMwQIyBAvIECwgQ7CADMECMgQLyBAsIEOwgAzBAjIEC8gQLCBDsIAMwQIyBAvIECwgQ7CADMECMgQLyBAsIEOwgAzBAjIEC8gQLCBDsIAMwQIyBAvIECwgQ7CADMECMgQLyBAsIEOwgAzBAjIEC8gQLCBDsIAMwQIyBAvIECwgQ7CADMECMgQLyBAsIEOwgAzBAjIEC8gQLCBDsIAMwQIyBAvIECwgQ7CADMECMgQLyBAsIEOwgIy51tpimTk3WAXYy0Yl2WYZgP/PJSGQIVhAhmABGYIFZAgWkCFYQIZgARmCBWQIFpAhWECGYAEZggVkCBaQIVhAhmABGYIFZAgWkCFYQIZgARmCBWQIFpAhWECGYAEZggVkCBaQIVhAhmABGYIFZAgWkCFYQIZgARmCBWQIFpAhWECGYAEZggVkPNll1TnnLusCj2Wttf2i+wRrjPHL81dzjjnXYYy7BnOMwxxzjjnWzcEt88dhrBuDKweOw1xHDK6ue20w51HTDnfvfM5xuDYYc64jBv+t+/lpnx/8s4Fbf1yHMeZc1wZ37/z2+ZeDOcZY68rXGOP6w7WufOdy8lhjjfmFB155eHmqB51n3n7gGg94Lvds4M7zzHX92Md4LsecZ9481fEbWPP3N7t0wyUhkCFYQIZgARmCBWQIFpAhWECGYAEZggVkCBaQMXd5f72P5kDdt/XRnF2eLfAo9nrN4ZIQyBAsIEOwgIx9broDfIEdXmHNOf2XENK+lZvuc8611lpLsyBqx19e97CAh9nxPpJgARmCBWQIFpCx9Udz/r3d7u0UwEN5HxaQ4ZIQyBAsIEOwgAzBAjI+Ab9ch535uc/pAAAAAElFTkSuQmCC'>"
      ],
      "text/plain": [
       "<IPython.core.display.HTML object>"
      ]
     },
     "metadata": {},
     "output_type": "display_data"
    }
   ],
   "source": [
    "fig = glucifer.Figure(figsize=(400, 200))\n",
    "fig.append( glucifer.objects.Surface(tg.mesh, MaskFn))\n",
    "\n",
    "fig.show()"
   ]
  },
  {
   "cell_type": "markdown",
   "metadata": {},
   "source": [
    "## Updating graph based on velocity information"
   ]
  },
  {
   "cell_type": "code",
   "execution_count": 21,
   "metadata": {
    "collapsed": true
   },
   "outputs": [],
   "source": [
    "tmUwMap = tm_uw_map([], velocityField, [], \n",
    "                    [], [], [])"
   ]
  },
  {
   "cell_type": "code",
   "execution_count": 22,
   "metadata": {},
   "outputs": [],
   "source": [
    "from tectModelClass import mid_plate_point_vel"
   ]
  },
  {
   "cell_type": "code",
   "execution_count": 23,
   "metadata": {},
   "outputs": [
    {
     "name": "stdout",
     "output_type": "stream",
     "text": [
      "mid-plate-vel is [[ 1839.16793506   500.        ]]\n",
      "mid-plate-vel is [[-1839.16793506   500.        ]]\n",
      "mid-plate-vel is [[-919.58396753  500.        ]]\n"
     ]
    }
   ],
   "source": [
    "for n in tg.nodes():\n",
    "    print('mid-plate-vel is {}'.format(mid_plate_point_vel(tg, n, tmUwMap))  )"
   ]
  },
  {
   "cell_type": "code",
   "execution_count": 24,
   "metadata": {},
   "outputs": [
    {
     "data": {
      "text/plain": [
       "0.82758621"
      ]
     },
     "execution_count": 24,
     "metadata": {},
     "output_type": "execute_result"
    }
   ],
   "source": [
    "bounds = [-0.86206897, -0.03448276]\n",
    "max(0., bounds[1] - bounds[0])"
   ]
  },
  {
   "cell_type": "code",
   "execution_count": 25,
   "metadata": {},
   "outputs": [
    {
     "data": {
      "text/html": [
       "<img src='data:image/png;base64,iVBORw0KGgoAAAANSUhEUgAAAZAAAADICAIAAABJdyC1AAAD8klEQVR4nO3bMXIcRRiA0f4XV+GMhENARoBzcyTOQeAj4RwHDgk5AaQKKLcTBJJKwisj79SH3ysFvaqZ6V5V6aud2ZnZey+AgtPRCwA4l2ABGYIFZAgWkCFYQIZgARmCBWQIFpAhWECGYAEZggVkCBaQIVhAhmABGYIFZAgWkCFYQIZgARmCBWQIFpAhWECGYAEZggVkCBaQIVhAhmABGYIFZAgWkCFYQIZgARmCBWQIFpAhWECGYAEZggVkCBaQIVhAhmABGYIFZAgWkCFYQIZgARmCBWQIFpAhWECGYAEZggVkCBaQIVhAhmABGYIFZAgWkCFYQIZgARmCBWQIFpAhWECGYAEZggVkCBaQIVhAhmABGYIFZAgWkCFYQMazy0wzM5eZCDjE3vsCs1wiWDPzzau3n+jgX7/744erNy+vfnl59ea03n2iWdL+nC9ef/ni9fPvf37+4vfTV0cvh/+hX3/87jITOSUEMgQLyBAsIEOwgAzBAjIEC8gQLCBDsIAMwQIyBAvIECwgQ7CADMECMgQLyBAsIEOwgAzBAjIEC8gQLCBDsIAMwQIyBAvIECwgQ7CADMECMgQLyBAsIEOwgAzBAjIEC8gQLCBDsIAMwQIyBAvIECwgQ7CADMECMgQLyBAsIEOwgAzBAjIEC8gQLCBDsIAMwQIyBAvIECwgQ7CADMECMgQLyBAsIEOwgAzBAjIEC8gQLCBDsIAMwQIyBAvIECwgQ7CADMECMgQLyBAsIEOwgAzBAjJm732JaWYuMAtwlAuV5DLTAPx3TgmBDMECMgQLyBAsIEOwgAzBAjIEC8gQLCBDsIAMwQIyBAvIECwgQ7CADMECMgQLyBAsIEOwgAzBAjIEC8gQLCBDsIAMwQIyBAvIECwgQ7CADMECMgQLyBAsIEOwgAzBAjIEC8gQLCBDsIAMwQIyBAvIECwg49khs87MIfMCT2XvfflJjwnWWuvbV29n1sw+rfXQYNY6zZpZs/bdwT3br9PadwY3dlyn2WcMbs57azBz1manh1c+s063BmtmnzH4Z94Pb/bhwV8LuPfPdVprZt8aPLzy+7e/Hsxaa+8bP2ut2y/3vvGb643XXnvNR+544+X1oR51nLl/x70e8V7+ZQEPHmf27X2f4r2cc5y5e6jzF7Dnp98O6YZTQiBDsIAMwQIyBAvIECwgQ7CADMECMgQLyBAsIGMOub/eozlQ93k9mnPIuwWexFGfOZwSAhmCBWQIFpBxzEV3gI9wwCesmfEtIaR9LhfdZ2bvvffWLIg68J/XNSzgcQ68jiRYQIZgARmCBWRc+tGcvy+3u50CeCz3YQEZTgmBDMECMgQLyBAsIOM9Z4h7nddaUSgAAAAASUVORK5CYII='>"
      ],
      "text/plain": [
       "<IPython.core.display.HTML object>"
      ]
     },
     "metadata": {},
     "output_type": "display_data"
    }
   ],
   "source": [
    "piFn = tg.plate_interior_mask_fn(boundaryFactor=0.6, minPlateLength=0.4, plate =1)\n",
    "\n",
    "\n",
    "fig = glucifer.Figure(figsize=(400, 200))\n",
    "fig.append( glucifer.objects.Surface(tg.mesh, tg.b2f(piFn)))\n",
    "fig.show()"
   ]
  },
  {
   "cell_type": "code",
   "execution_count": 26,
   "metadata": {},
   "outputs": [],
   "source": [
    "test = tg.interior_mask_fn_dict(boundaryFactor=0.6)"
   ]
  },
  {
   "cell_type": "code",
   "execution_count": null,
   "metadata": {
    "collapsed": true
   },
   "outputs": [],
   "source": []
  },
  {
   "cell_type": "code",
   "execution_count": 27,
   "metadata": {},
   "outputs": [
    {
     "data": {
      "text/html": [
       "<img src='data:image/png;base64,iVBORw0KGgoAAAANSUhEUgAAAZAAAADICAIAAABJdyC1AAAD8klEQVR4nO3bMXIcRRiA0f4XV+GMhENARoBzcyTOQeAj4RwHDgk5AaQKKLcTBJJKwisj79SH3ysFvaqZ6V5V6aud2ZnZey+AgtPRCwA4l2ABGYIFZAgWkCFYQIZgARmCBWQIFpAhWECGYAEZggVkCBaQIVhAhmABGYIFZAgWkCFYQIZgARmCBWQIFpAhWECGYAEZggVkCBaQIVhAhmABGYIFZAgWkCFYQIZgARmCBWQIFpAhWECGYAEZggVkCBaQIVhAhmABGYIFZAgWkCFYQIZgARmCBWQIFpAhWECGYAEZggVkCBaQIVhAhmABGYIFZAgWkCFYQIZgARmCBWQIFpAhWECGYAEZggVkCBaQIVhAhmABGYIFZAgWkCFYQMazy0wzM5eZCDjE3vsCs1wiWDPzzau3n+jgX7/744erNy+vfnl59ea03n2iWdL+nC9ef/ni9fPvf37+4vfTV0cvh/+hX3/87jITOSUEMgQLyBAsIEOwgAzBAjIEC8gQLCBDsIAMwQIyBAvIECwgQ7CADMECMgQLyBAsIEOwgAzBAjIEC8gQLCBDsIAMwQIyBAvIECwgQ7CADMECMgQLyBAsIEOwgAzBAjIEC8gQLCBDsIAMwQIyBAvIECwgQ7CADMECMgQLyBAsIEOwgAzBAjIEC8gQLCBDsIAMwQIyBAvIECwgQ7CADMECMgQLyBAsIEOwgAzBAjIEC8gQLCBDsIAMwQIyBAvIECwgQ7CADMECMgQLyBAsIEOwgAzBAjJm732JaWYuMAtwlAuV5DLTAPx3TgmBDMECMgQLyBAsIEOwgAzBAjIEC8gQLCBDsIAMwQIyBAvIECwgQ7CADMECMgQLyBAsIEOwgAzBAjIEC8gQLCBDsIAMwQIyBAvIECwgQ7CADMECMgQLyBAsIEOwgAzBAjIEC8gQLCBDsIAMwQIyBAvIECwg49khs87MIfMCT2XvfflJjwnWWuvbV29n1sw+rfXQYNY6zZpZs/bdwT3br9PadwY3dlyn2WcMbs57azBz1manh1c+s063BmtmnzH4Z94Pb/bhwV8LuPfPdVprZt8aPLzy+7e/Hsxaa+8bP2ut2y/3vvGb643XXnvNR+544+X1oR51nLl/x70e8V7+ZQEPHmf27X2f4r2cc5y5e6jzF7Dnp98O6YZTQiBDsIAMwQIyBAvIECwgQ7CADMECMgQLyBAsIGMOub/eozlQ93k9mnPIuwWexFGfOZwSAhmCBWQIFpBxzEV3gI9wwCesmfEtIaR9LhfdZ2bvvffWLIg68J/XNSzgcQ68jiRYQIZgARmCBWRc+tGcvy+3u50CeCz3YQEZTgmBDMECMgQLyBAsIOM9Z4h7nddaUSgAAAAASUVORK5CYII='>"
      ],
      "text/plain": [
       "<IPython.core.display.HTML object>"
      ]
     },
     "metadata": {},
     "output_type": "display_data"
    }
   ],
   "source": [
    "fig = glucifer.Figure(figsize=(400, 200))\n",
    "fig.append( glucifer.objects.Surface(tg.mesh, test[1] ))\n",
    "fig.show()"
   ]
  },
  {
   "cell_type": "code",
   "execution_count": 28,
   "metadata": {},
   "outputs": [],
   "source": [
    "#test = tg.interior_mask_fn_dict(boundaryFactor=0.6,  out = 'num')"
   ]
  },
  {
   "cell_type": "code",
   "execution_count": 29,
   "metadata": {},
   "outputs": [],
   "source": [
    "#out = plate_integral_vel(tg, tmUwMap, test.values())"
   ]
  },
  {
   "cell_type": "code",
   "execution_count": 30,
   "metadata": {},
   "outputs": [],
   "source": [
    "#dict(zip(test.keys(), out))"
   ]
  },
  {
   "cell_type": "code",
   "execution_count": 31,
   "metadata": {},
   "outputs": [],
   "source": [
    "dist = 100e3/sf.lengthScale\n",
    "MaskFn = tg.subduction_mask_fn(dist)\n"
   ]
  },
  {
   "cell_type": "code",
   "execution_count": 32,
   "metadata": {},
   "outputs": [],
   "source": [
    "srLocMins, srLocMaxs = strain_rate_min_max(tg, tmUwMap, tg.b2f(MaskFn))"
   ]
  },
  {
   "cell_type": "code",
   "execution_count": 33,
   "metadata": {},
   "outputs": [
    {
     "data": {
      "text/plain": [
       "[(0.0, -0.86206896551699996)]"
      ]
     },
     "execution_count": 33,
     "metadata": {},
     "output_type": "execute_result"
    }
   ],
   "source": [
    "srLocMins"
   ]
  },
  {
   "cell_type": "code",
   "execution_count": 35,
   "metadata": {},
   "outputs": [
    {
     "data": {
      "text/plain": [
       "True"
      ]
     },
     "execution_count": 35,
     "metadata": {},
     "output_type": "execute_result"
    }
   ],
   "source": [
    "tg.is_subduction_boundary((1,2))"
   ]
  },
  {
   "cell_type": "code",
   "execution_count": 36,
   "metadata": {
    "collapsed": true
   },
   "outputs": [],
   "source": [
    "tg.is_self_loop((1,1))"
   ]
  },
  {
   "cell_type": "code",
   "execution_count": 37,
   "metadata": {},
   "outputs": [
    {
     "ename": "TypeError",
     "evalue": "set_bound_loc() takes exactly 3 arguments (2 given)",
     "output_type": "error",
     "traceback": [
      "\u001b[1;31m\u001b[0m",
      "\u001b[1;31mTypeError\u001b[0mTraceback (most recent call last)",
      "\u001b[1;32m<ipython-input-37-358d416c2348>\u001b[0m in \u001b[0;36m<module>\u001b[1;34m()\u001b[0m\n\u001b[1;32m----> 1\u001b[1;33m \u001b[0mtg\u001b[0m\u001b[1;33m.\u001b[0m\u001b[0mset_bound_loc\u001b[0m\u001b[1;33m(\u001b[0m\u001b[1;33m(\u001b[0m\u001b[1;36m1\u001b[0m\u001b[1;33m,\u001b[0m\u001b[1;36m1\u001b[0m\u001b[1;33m)\u001b[0m\u001b[1;33m)\u001b[0m\u001b[1;33m\u001b[0m\u001b[0m\n\u001b[0m",
      "\u001b[1;31mTypeError\u001b[0m: set_bound_loc() takes exactly 3 arguments (2 given)"
     ]
    }
   ],
   "source": [
    "tg.set_bound_loc((1,1))"
   ]
  },
  {
   "cell_type": "code",
   "execution_count": 38,
   "metadata": {},
   "outputs": [
    {
     "data": {
      "text/plain": [
       "-0.8620689655172414"
      ]
     },
     "execution_count": 38,
     "metadata": {},
     "output_type": "execute_result"
    }
   ],
   "source": [
    "tg.get_bound_loc((1,1))"
   ]
  },
  {
   "cell_type": "code",
   "execution_count": null,
   "metadata": {
    "collapsed": true
   },
   "outputs": [],
   "source": []
  }
 ],
 "metadata": {
  "kernelspec": {
   "display_name": "Python 3",
   "language": "python",
   "name": "python3"
  },
  "language_info": {
   "codemirror_mode": {
    "name": "ipython",
    "version": 3
   },
   "file_extension": ".py",
   "mimetype": "text/x-python",
   "name": "python",
   "nbconvert_exporter": "python",
   "pygments_lexer": "ipython3",
   "version": "3.5.3"
  }
 },
 "nbformat": 4,
 "nbformat_minor": 2
}
