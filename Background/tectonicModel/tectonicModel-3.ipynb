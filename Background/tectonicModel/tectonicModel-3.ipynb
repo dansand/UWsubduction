{
 "cells": [
  {
   "cell_type": "markdown",
   "metadata": {},
   "source": [
    "# Tectonic Model: Setting velocities / communicating with the UW Stokes system [WIP]\n",
    "\n",
    "The TectonicModel has the capability of storing surface velocoty information for plates and plate boundaries. \n",
    "\n",
    "Here we show how this information can be communicated to teh UW2 simulation, by directly setting the velocity values on the surface nodes (Dirichlte boundary condition).\n",
    "\n",
    "This notebook shows the general functionality, but does not constitute a working model. \n",
    "\n"
   ]
  },
  {
   "cell_type": "code",
   "execution_count": 1,
   "metadata": {},
   "outputs": [
    {
     "name": "stderr",
     "output_type": "stream",
     "text": [
      "/opt/UWsubduction/UWsubduction/utils/__init__.py:9: UserWarning: \n",
      "\n",
      "The easymodels module is not supported.\n",
      "Questions should be addressed to sandd@student.unimelb.edu.au \n",
      " \n",
      "  Questions should be addressed to sandd@student.unimelb.edu.au \\n \"\"\"\n"
     ]
    }
   ],
   "source": [
    "import numpy as np\n",
    "import underworld as uw\n",
    "from underworld import function as fn\n",
    "import glucifer\n",
    "from easydict import EasyDict as edict\n",
    "import networkx as nx\n",
    "import operator\n",
    "import UWsubduction as usub\n",
    "from UWsubduction import params\n",
    "from underworld import scaling as sca\n",
    "import pint\n",
    "import os\n",
    "import pickle\n"
   ]
  },
  {
   "cell_type": "markdown",
   "metadata": {},
   "source": [
    "## Import some physical parameters"
   ]
  },
  {
   "cell_type": "code",
   "execution_count": 2,
   "metadata": {},
   "outputs": [],
   "source": [
    "ur = uw.scaling.units\n",
    "pint.set_application_registry(ur)\n",
    "\n",
    "#Stored dictionaries holding physical parameters and model parameters\n",
    "#See /UWsubduction/Examples/2d_subduction.ipynb\n",
    "\n",
    "with open(os.path.join('./data/', 'pd.pkl'), 'rb') as fp:\n",
    "        pd = pickle.load(fp)\n",
    "with open(os.path.join('./data/', 'md.pkl'), 'rb') as fp:\n",
    "        md = pickle.load(fp)\n",
    "        \n",
    "\n",
    "scaling_coefficients = sca.get_coefficients()\n",
    "\n",
    "#instead of importing from the params submodule, we'll explicity set the scaling values\n",
    "KL = pd.refLength\n",
    "KT = pd.potentialTemp - pd.surfaceTemp\n",
    "Kt = KL**2/pd.refDiffusivity            #we use a diffusive time scale \n",
    "KM = pd.refViscosity * KL * Kt\n",
    "\n",
    "scaling_coefficients[\"[length]\"]      = KL.to_base_units()\n",
    "scaling_coefficients[\"[temperature]\"] = KT.to_base_units()\n",
    "scaling_coefficients[\"[mass]\"]        = KM.to_base_units()\n",
    "scaling_coefficients[\"[time]\"] =        Kt.to_base_units()\n",
    "        \n",
    "        \n",
    "#create dimensionless versions of the parameter dictionaries \n",
    "npd = params.build_nondim_dict(pd  , sca)   \n",
    "nmd = params.build_nondim_dict(md  , sca)"
   ]
  },
  {
   "cell_type": "markdown",
   "metadata": {},
   "source": [
    "## Build underworld mesh and fields"
   ]
  },
  {
   "cell_type": "code",
   "execution_count": 3,
   "metadata": {},
   "outputs": [],
   "source": [
    "yres = int(nmd.res)\n",
    "#you mant want to optimise xres, depending on how the mesh refinement is configured\n",
    "xres = int(nmd.res*nmd.aspectRatio)  \n",
    "\n",
    "\n",
    "halfWidth = 0.5*nmd.depth*nmd.aspectRatio \n",
    "\n",
    "#The origin of the x axis is in the centre of the box,\n",
    "# The value of md.subZoneLoc is relative to the origin \n",
    "#The surface of the box has a value of 1.0 in the y axis, \n",
    "minCoord_    = (-1.*halfWidth, 1. - nmd.depth) \n",
    "maxCoord_    = (halfWidth, 1.)\n",
    "\n",
    "\n",
    "periodic = [False, False]\n",
    "\n",
    "\n",
    "mesh = uw.mesh.FeMesh_Cartesian( elementType = (nmd.elementType),\n",
    "                                 elementRes  = (xres, yres), \n",
    "                                 minCoord    = minCoord_, \n",
    "                                 maxCoord    = maxCoord_, \n",
    "                                 periodic=periodic) \n",
    "\n",
    "\n",
    "temperatureField    = uw.mesh.MeshVariable( mesh=mesh,         nodeDofCount=1 )\n",
    "velocityField = uw.mesh.MeshVariable( mesh=mesh,         nodeDofCount=2)\n",
    "\n",
    "\n",
    "temperatureField.data[:] = 0.\n",
    "velocityField = uw.mesh.MeshVariable( mesh=mesh,         nodeDofCount=2)\n"
   ]
  },
  {
   "cell_type": "code",
   "execution_count": 4,
   "metadata": {},
   "outputs": [],
   "source": [
    "#(1. - mesh.minCoord[1])*2900"
   ]
  },
  {
   "cell_type": "markdown",
   "metadata": {},
   "source": [
    "## Build plate model, with prescribed plate velocities"
   ]
  },
  {
   "cell_type": "code",
   "execution_count": 5,
   "metadata": {},
   "outputs": [
    {
     "data": {
      "text/plain": [
       "7.504619732390011e-05"
      ]
     },
     "execution_count": 5,
     "metadata": {},
     "output_type": "execute_result"
    }
   ],
   "source": [
    "#Set up some plate velocites, times\n",
    "\n",
    "vP1= sca.non_dimensionalise(2*ur.centimeter / ur.year)\n",
    "vP2= sca.non_dimensionalise(-2*ur.centimeter / ur.year)\n",
    "\n",
    "endTime = sca.non_dimensionalise(20*ur.megayear)\n",
    "dt = sca.non_dimensionalise(0.1*ur.megayear)\n",
    "\n",
    "endTime\n"
   ]
  },
  {
   "cell_type": "code",
   "execution_count": 6,
   "metadata": {},
   "outputs": [],
   "source": [
    "\n",
    "tm = usub.TectonicModel(mesh, 0, endTime, dt)\n",
    "\n",
    "tm.add_plate(1, velocities = vP1)\n",
    "tm.add_plate(2)\n",
    "tm.add_plate(3, velocities = vP2)"
   ]
  },
  {
   "cell_type": "code",
   "execution_count": 7,
   "metadata": {},
   "outputs": [],
   "source": [
    "tm.add_left_boundary(1)\n",
    "\n",
    "tm.add_subzone(1, 2, nmd.subZoneLoc, subInitAge=nmd.slabAge, upperInitAge=nmd.upperPlateAgeAtTrench)\n",
    "tm.add_subzone(3, 2., 0.4, subInitAge=nmd.slabAge, upperInitAge=nmd.upperPlateAgeAtTrench)\n",
    "\n",
    "tm.add_right_boundary(3)\n"
   ]
  },
  {
   "cell_type": "markdown",
   "metadata": {},
   "source": [
    "## Querying the velocities"
   ]
  },
  {
   "cell_type": "code",
   "execution_count": 8,
   "metadata": {},
   "outputs": [
    {
     "name": "stdout",
     "output_type": "stream",
     "text": [
      "plate 1 has specified vel=1837.9483491674725\n",
      "plate 2 has no specified vel\n",
      "plate 3 has specified vel=-1837.9483491674725\n"
     ]
    }
   ],
   "source": [
    "time=tm.times[10]\n",
    "for n in tm.nodes():\n",
    "    if tm.plate_has_vel(n, time):\n",
    "        print('plate {} has specified vel={}'.format(n, tm.plate_velocity(n, time) ))\n",
    "    else:\n",
    "        print('plate {} has no specified vel'.format(n))\n",
    "    \n",
    "\n",
    "for e in tm.undirected.edges():\n",
    "    #print(e)\n",
    "\n",
    "    if tm.is_subduction_boundary(e):\n",
    "        n = tm.subduction_edge_order(e)[1]\n",
    "        \n",
    "        if tm.upper_plate_has_vel(e, time):\n",
    "             print('upper plate {} has specified vel={}'.format(n, tm.plate_velocity(n, time) ))        "
   ]
  },
  {
   "cell_type": "markdown",
   "metadata": {},
   "source": [
    "## Determine surface nodes and set x velocity component"
   ]
  },
  {
   "cell_type": "code",
   "execution_count": 9,
   "metadata": {},
   "outputs": [],
   "source": [
    "#set velocity to some pre-exiting value\n",
    "\n",
    "velocityField.data[:] = 500."
   ]
  },
  {
   "cell_type": "code",
   "execution_count": 60,
   "metadata": {},
   "outputs": [
    {
     "ename": "AttributeError",
     "evalue": "'function' object has no attribute 'non_dimensionalise'",
     "output_type": "error",
     "traceback": [
      "\u001b[0;31m---------------------------------------------------------------------------\u001b[0m",
      "\u001b[0;31mAttributeError\u001b[0m                            Traceback (most recent call last)",
      "\u001b[0;32m<ipython-input-60-7d1f35c72e77>\u001b[0m in \u001b[0;36m<module>\u001b[0;34m\u001b[0m\n\u001b[0;32m----> 1\u001b[0;31m \u001b[0mdist\u001b[0m \u001b[0;34m=\u001b[0m \u001b[0msca\u001b[0m\u001b[0;34m.\u001b[0m\u001b[0mnon_dimensionalise\u001b[0m\u001b[0;34m(\u001b[0m\u001b[0;36m100e3\u001b[0m\u001b[0;34m*\u001b[0m\u001b[0mur\u001b[0m\u001b[0;34m.\u001b[0m\u001b[0mmeter\u001b[0m\u001b[0;34m)\u001b[0m\u001b[0;34m\u001b[0m\u001b[0m\n\u001b[0m\u001b[1;32m      2\u001b[0m \u001b[0mtestTime\u001b[0m \u001b[0;34m=\u001b[0m \u001b[0msca\u001b[0m\u001b[0;34m.\u001b[0m\u001b[0mnon_dimensionalise\u001b[0m\u001b[0;34m(\u001b[0m\u001b[0;36m4\u001b[0m\u001b[0;34m*\u001b[0m\u001b[0mur\u001b[0m\u001b[0;34m.\u001b[0m\u001b[0mmegayear\u001b[0m\u001b[0;34m)\u001b[0m\u001b[0;34m\u001b[0m\u001b[0m\n\u001b[1;32m      3\u001b[0m \u001b[0;34m\u001b[0m\u001b[0m\n\u001b[1;32m      4\u001b[0m \u001b[0;31m#we're going set velocities on the top surface of our model\u001b[0m\u001b[0;34m\u001b[0m\u001b[0;34m\u001b[0m\u001b[0m\n\u001b[1;32m      5\u001b[0m \u001b[0;31m#but not all the way up to the plate boundaries\u001b[0m\u001b[0;34m\u001b[0m\u001b[0;34m\u001b[0m\u001b[0m\n",
      "\u001b[0;31mAttributeError\u001b[0m: 'function' object has no attribute 'non_dimensionalise'"
     ]
    }
   ],
   "source": [
    "dist = sca.non_dimensionalise(100e3*ur.meter)\n",
    "testTime = sca.non_dimensionalise(4*ur.megayear)\n",
    "\n",
    "#we're going set velocities on the top surface of our model\n",
    "#but not all the way up to the plate boundaries\n",
    "#i.e we'll push the plates in their interiors\n",
    "#the mask function is how we'll discriminate these regions\n",
    "\n",
    "MaskFn = tm.t2f(tm.plate_boundary_mask_fn(dist))\n",
    "\n",
    "fig = glucifer.Figure(figsize=(400, 200))\n",
    "fig.append( glucifer.objects.Surface(tm.mesh, MaskFn))\n",
    "fig.show()"
   ]
  },
  {
   "cell_type": "code",
   "execution_count": 11,
   "metadata": {},
   "outputs": [],
   "source": [
    "#the nodes we'll set velocities on are those which have a value of 1 in teh MaskFn\n",
    "#and correspond to plates where we have set velocities\n",
    "nodes = tm.plate_vel_node_fn(testTime, maskFn = MaskFn)\n",
    "\n",
    "\n",
    "\n",
    "#return an underworld fn.branching.map \n",
    "#which links plateIds (integers) to the specified plate velocities\n",
    "pIdFn = tm.plate_id_fn()\n",
    "velMapFn = tm.plateVelFn(testTime, pIdFn)\n",
    "\n",
    "#Now set the velocity on the nodes\n",
    "locs = tm.mesh.data[nodes]\n",
    "velocityField.data[nodes, 0] = velMapFn.evaluate(locs)[:,0]"
   ]
  },
  {
   "cell_type": "code",
   "execution_count": 13,
   "metadata": {},
   "outputs": [],
   "source": []
  },
  {
   "cell_type": "markdown",
   "metadata": {},
   "source": [
    "## Updating graph based on velocity information\n",
    "\n",
    "\n",
    "The previous section showed how the tectonic model could be used to set velocities in the UW2 numercal model. \n",
    "\n",
    "In principal, this can be used to drive a 2d model according to an evolving kinematic model (i.e. where plate velocities are prescibed through time)\n",
    "\n",
    "Perhaps the most challenging aspect of this, is keeping the TectonicModel object updated, so the plate boundary locations remain valid. \n",
    "\n",
    "Here we show two general utilities that may be useful in trying to keep track of plate boundary location:\n",
    "\n",
    "First we show how to calculate the plate velocity at a plate's mid point. \n",
    "\n",
    "* this may be useful for evolving the location of a subduction boundary, based on the velocity of the upper plate\n",
    "\n",
    "Second we show how to calculate maxima/minima in the horizontal compoonent of the x-velocity gradient (Vx,x) \n",
    "\n",
    "* this may be useful for tracking the evolving location of ridges or subduction zones. Ridges should correspond to peaks in (Vx,x), which subduction is associated with minima. \n",
    "\n",
    "\n",
    "\n",
    "Ultimately, the TeconicModel object uses setters to modify the plate boundary locations:\n",
    "\n",
    "```\n",
    "tm.set_bound_loc(platePair, newloc)\n",
    "```\n",
    "Where plate pair is a tuple containing teh platIds for a given boundary\n",
    "\n"
   ]
  },
  {
   "cell_type": "markdown",
   "metadata": {
    "collapsed": true
   },
   "source": [
    "## Determine plate mid-point velocities"
   ]
  },
  {
   "cell_type": "code",
   "execution_count": 14,
   "metadata": {},
   "outputs": [
    {
     "name": "stdout",
     "output_type": "stream",
     "text": [
      "mid-plate-vel is [[ 1837.94834917   500.        ]]\n",
      "mid-plate-vel is [[ 500.  500.]]\n",
      "mid-plate-vel is [[-1837.94834917   500.        ]]\n"
     ]
    }
   ],
   "source": [
    "\n",
    "\n",
    "tmUwMap = usub.tm_uw_map([], velocityField, [], \n",
    "                    [], [], [])\n",
    "\n",
    "for n in tm.nodes():\n",
    "    print('mid-plate-vel is {}'.format(usub.mid_plate_point_vel(tm, n, tmUwMap))  )"
   ]
  },
  {
   "cell_type": "code",
   "execution_count": 16,
   "metadata": {},
   "outputs": [
    {
     "data": {
      "text/html": [
       "<img src='data:image/png;base64,iVBORw0KGgoAAAANSUhEUgAAAZAAAADICAIAAABJdyC1AAAEnElEQVR4nO3bvW4cVRzG4XMsN3wIzSUYCQkKiim4EJdpkKaHwpewPQUu4ArSpNxLcB2l2Eg0KEisIqVmhCCkOxQkwR9Z2yHeOXrD88jFsb2z/zO2/NPsaF1bawUgwUHvDQDclmABMQQLiCFYQAzBAmIIFhBDsIAYggXEECwghmABMQQLiCFYQAzBAmIIFhBDsIAYggXEECwghmABMQQLiCFYQAzBAmIIFhBDsIAYggXEECwghmABMQQLiCFYQAzBAmIIFhBDsIAYggXEECwghmABMQQLiCFYQAzBAmIIFhBDsIAYggXEECwghmABMQQLiCFYQAzBAmIIFhBDsIAYggXEECwghmABMQQLiCFYQAzBAmIIFhBDsIAYggXEECwghmABMQQLiCFYQAzBAmIIFhBDsIAYggXEECwgxmGXqdvtdrvddhkNvLthGMZxXH5uba0tP3WaJsGCUPM8D8Nwdna2/OhuV1i/fvn1h599tdcp3/z+4Ns/Hux1xHvjh4/v/fjJvd67IMPzXx4NP93vMto9LCCGYAExBAuIIVhADMECYggWEEOwgBiCBcQQLCCGYAExBAuIIVhADMECYggWEEOwgBiCBcQQLCCGYAExBAuIIVhADMECYggWEEOwgBiCBcQQLCCGYAExBAuIIVhADMECYggWEEOwgBiCBcQQLCCGYAExBAuIIVhADMECYggWEEOwgBiCBcQQLCCGYAExBAuIIVhADMECYggWEEOwgBiCBcQQLCCGYAExBAuIIVhADMECYggWEEOwgBiCBcQQLCCGYAExBAuIIVhADMECYggWEOOw1+AXz37e94gnfz49++vFvqe8H5588PT5R49674IMC/zx7tInWOM4ls3D8tvDvU55XMrj8vleR7xHnn1a7vfeAzHGcewyt7bWugwGeFvuYQExBAuIIVhADMECYggWEEOwgBiCBcQQLCCGYAExBAuIIVhADMECYggWEEOwgBiCBcQQLCCGYAExBAuIIVhADMECYggWEEOwgBiCBcQQLCCGYAExBAuIIVhADMECYggWEEOwgBiCBcQQLCCGYAExBAuIIVhADMECYggWEOOwy9Raa5e5wF1prS0/tE+wSilffL+ptR2UUmuptRyUdnlRWy2XFqWWdn7x5gNLqbXdYlHObaDVUg7qzu/uXvw7t5Z2sHNRDmq7YXHLh73e587F5Z/SjkWp9ZoNX3nYDYsrv6/SSiultNJef5TS2rmvlJeLcvHT1l4e2y4eu/Opzj3y6oHl9s/T6oUtvcWB15zLTVsqr873js+lXHMur56nXvM8N51L/W7boRpeEgJBBAuIIVhADMECYggWEEOwgBiCBcQQLCCGYAExapf31/vXHEj3//rXnC5nC9yJXtccXhICMQQLiCFYQIw+N90B/oMOV1ir1Wqaps1ms/xo4N3N87xarbqMXvoK6/T0tJQyTdM0Tev1esnRwJ04Pj7ebDbb7Xb50UtfYc3zPI7jMAzzPC88GrgT6/X66Oioy2g33YEYggXEWPqd7v/cvRqG4eTkZOHRQDpvawBieEkIxBAsIIZgATEEC4ghWECMvwFESq1Y9drDRQAAAABJRU5ErkJggg=='>"
      ],
      "text/plain": [
       "<IPython.core.display.HTML object>"
      ]
     },
     "metadata": {},
     "output_type": "display_data"
    }
   ],
   "source": [
    "plate_interiorFn = tm.plate_interior_mask_fn(relativeWidth=0.6, minPlateLength=0.4, plate =1)\n",
    "\n",
    "\n",
    "fig = glucifer.Figure(figsize=(400, 200))\n",
    "fig.append( glucifer.objects.Surface(tm.mesh, tm.b2f(plate_interiorFn)))\n",
    "fig.show()"
   ]
  },
  {
   "cell_type": "markdown",
   "metadata": {},
   "source": [
    "## Using strain rate to determine plate boundaries location"
   ]
  },
  {
   "cell_type": "code",
   "execution_count": 45,
   "metadata": {},
   "outputs": [],
   "source": [
    "dist = sca.non_dimensionalise(100e3*ur.meter)\n",
    "MaskFn = tm.subduction_mask_fn(dist)\n"
   ]
  },
  {
   "cell_type": "code",
   "execution_count": 46,
   "metadata": {},
   "outputs": [],
   "source": [
    "srLocMins, srLocMaxs = usub.strain_rate_min_max(tm, tmUwMap, tm.b2f(MaskFn))"
   ]
  },
  {
   "cell_type": "code",
   "execution_count": 58,
   "metadata": {},
   "outputs": [
    {
     "name": "stdout",
     "output_type": "stream",
     "text": [
      "[(-248323.21360548015, 0.0)]\n"
     ]
    }
   ],
   "source": [
    "#each of these contains the strain rate value (Vx,x), and the xposition\n",
    "\n",
    "print(srLocMins) \n"
   ]
  },
  {
   "cell_type": "markdown",
   "metadata": {},
   "source": [
    "## Plot the plate velocity set on the nodes"
   ]
  },
  {
   "cell_type": "code",
   "execution_count": 59,
   "metadata": {},
   "outputs": [
    {
     "name": "stdout",
     "output_type": "stream",
     "text": [
      "Populating the interactive namespace from numpy and matplotlib\n"
     ]
    },
    {
     "data": {
      "text/plain": [
       "<matplotlib.collections.LineCollection at 0x7fd6b13b3cf8>"
      ]
     },
     "execution_count": 59,
     "metadata": {},
     "output_type": "execute_result"
    },
    {
     "data": {
      "image/png": "[encoded data removed]",
      "text/plain": [
       "<Figure size 432x288 with 1 Axes>"
      ]
     },
     "metadata": {
      "needs_background": "light"
     },
     "output_type": "display_data"
    }
   ],
   "source": [
    "#check\n",
    "%pylab inline\n",
    "tWalls = tm.mesh.specialSets['MaxJ_VertexSet']\n",
    "\n",
    "fig, ax = plt.subplots()\n",
    "plt.plot(mesh.data[tWalls.data][:,0], velocityField.data[tWalls.data])\n",
    "\n",
    "ax.hlines(500, tm.minX, tm.maxX, linestyles='--')\n",
    "\n",
    "\n",
    "#xlocation of the strain rate min/max\n",
    "ax.vlines(srLocMins[0][1], vP2, vP1, linestyles='--')\n"
   ]
  },
  {
   "cell_type": "code",
   "execution_count": null,
   "metadata": {},
   "outputs": [],
   "source": []
  }
 ],
 "metadata": {
  "kernelspec": {
   "display_name": "Python 3",
   "language": "python",
   "name": "python3"
  },
  "language_info": {
   "codemirror_mode": {
    "name": "ipython",
    "version": 3
   },
   "file_extension": ".py",
   "mimetype": "text/x-python",
   "name": "python",
   "nbconvert_exporter": "python",
   "pygments_lexer": "ipython3",
   "version": "3.5.3"
  }
 },
 "nbformat": 4,
 "nbformat_minor": 2
}
