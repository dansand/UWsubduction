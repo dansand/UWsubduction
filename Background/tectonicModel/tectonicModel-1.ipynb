{
 "cells": [
  {
   "cell_type": "markdown",
   "metadata": {},
   "source": [
    "## Intro 1: Setting up  tectonic models and basic functionality\n",
    "\n",
    "The TectonicModel (`tm`) class is intended as \"black box\" object in which the user can implement a conifiguation as well as an evolution process for a set of plates and plate boundaries. Once created, the `tm` then provides a series of utilities to:\n",
    "\n",
    "* set initial temperature distribiution (plate/slab thermal model)\n",
    "* implement and manage embedded faults\n",
    "* map plate and plate boundary velocities to Underworld2 Stokes Systems\n",
    "* map Underworld to Velocities and ( + gradients) back to the `tm` in order to update plate boundary information"
   ]
  },
  {
   "cell_type": "code",
   "execution_count": 6,
   "metadata": {
    "collapsed": true
   },
   "outputs": [],
   "source": [
    "#use this block to point to a local version of UWsubduction\n",
    "import sys\n",
    "\n",
    "try:\n",
    "    sys.path.append('../..')\n",
    "except:\n",
    "    pass"
   ]
  },
  {
   "cell_type": "code",
   "execution_count": 7,
   "metadata": {},
   "outputs": [],
   "source": [
    "import numpy as np\n",
    "import underworld as uw\n",
    "from underworld import function as fn\n",
    "import glucifer\n",
    "from easydict import EasyDict as edict\n",
    "import networkx as nx\n",
    "import operator\n",
    "import UWsubduction as usub"
   ]
  },
  {
   "cell_type": "markdown",
   "metadata": {},
   "source": [
    "## A toy model"
   ]
  },
  {
   "cell_type": "code",
   "execution_count": 8,
   "metadata": {
    "collapsed": true
   },
   "outputs": [],
   "source": [
    "\n",
    "\n",
    "mesh = uw.mesh.FeMesh_Cartesian( elementType = (\"Q1\"), \n",
    "                                 elementRes  = (96, 48), \n",
    "                                 minCoord    = (-1.0, 0.0), \n",
    "                                 maxCoord    = (1.0, 1.0) )\n",
    "\n",
    "\n",
    "temperatureField = uw.mesh.MeshVariable( mesh=mesh, nodeDofCount=1 )\n",
    "velocityField = uw.mesh.MeshVariable( mesh=mesh, nodeDofCount=2 )\n",
    "coordinate = fn.input()\n"
   ]
  },
  {
   "cell_type": "code",
   "execution_count": 9,
   "metadata": {},
   "outputs": [],
   "source": [
    "#toy model, 3 plates\n",
    "\n",
    "\n",
    "tm = usub.TectonicModel(mesh, 0, 20, 1)\n",
    "\n",
    "tm.add_plate(1, velocities = 1)\n",
    "tm.add_plate(2,velocities = -1)\n",
    "tm.add_plate(3, velocities = 0)\n",
    "        \n",
    "tm.add_left_boundary(1)\n",
    "tm.add_subzone(1, 2, 0.25, subInitAge=50.0, upperInitAge=10.0)\n",
    "tm.add_ridge(2, 3, 0.5)\n",
    "tm.add_right_boundary(3, 30.)"
   ]
  },
  {
   "cell_type": "code",
   "execution_count": 10,
   "metadata": {},
   "outputs": [
    {
     "data": {
      "text/plain": [
       "True"
      ]
     },
     "execution_count": 10,
     "metadata": {},
     "output_type": "execute_result"
    }
   ],
   "source": [
    "tm.is_subduction_boundary((1,2))"
   ]
  },
  {
   "cell_type": "markdown",
   "metadata": {},
   "source": [
    "## The plate ID and age functions"
   ]
  },
  {
   "cell_type": "code",
   "execution_count": 12,
   "metadata": {},
   "outputs": [
    {
     "data": {
      "text/html": [
       "<img src='data:image/png;base64,iVBORw0KGgoAAAANSUhEUgAAAZAAAADICAIAAABJdyC1AAAD8ElEQVR4nO3dO25bRxiA0fkJb8RdvA0vIBtz4Z0Zyg7cJU0Kd+4mRaJEFCSbCihff9I5UDEU7mMogB/uA5eavfcCKDgdPQGASwkWkCFYQIZgARmCBWQIFpAhWECGYAEZggVkCBaQIVhAhmABGYIFZAgWkCFYQIZgARmCBWQIFpAhWECGYAEZggVkCBaQIVhAhmABGYIFZAgWkCFYQIZgARmCBWQIFpAhWECGYAEZb46ewDXNzNFTgJ/O3vvoKVzNywnWzPzy8eboWfAjvH/75dd3f75/++V5d/P16+nTzenTb/P7H8+7o+c0Hz4fPYVrckoIZAgWkCFYQIZgARmCBWQIFpAhWECGYAEZggVkCBaQIVhAhmABGYIFZAgWkCFYQIZgARmCBWQIFpAhWECGYAEZggVkCBaQIVhAhmABGYIFZAgWkCFYQIZgARmCBWQIFpAhWECGYAEZggVkCBaQIVhAhmABGYIFZAgWkCFYQIZgARmCBWQIFpAhWECGYAEZggVkCBaQIVhAhmABGYIFZAgWkCFYQIZgARmCBWQIFpAhWECGYAEZggVkCBaQIVhAhmABGYIFZAgWkCFYQIZgARmCBWQIFpAhWECGYAEZggVkCBaQIVhAhmABGYIFZAgWkCFYQIZgARmCBWQIFpAhWECGYAEZggVkCBaQIVhAhmABGYIFZAgWkCFYQIZgARmCBWQIFpAhWECGYAEZggVkCBaQIVhAhmABGYIFZAgWkCFYQIZgARmCBWQIFpAhWECGYAEZggVkCBaQIVhAhmABGYIFZAgWkCFYQIZgARmCBWQIFpAhWECGYAEZggVkCBaQIVhAhmABGYIFZAgWkCFYQIZgARmCBWQIFpAhWECGYAEZggVkCBaQMXvvo+dwHTNz9BTgZ/RiPuPrJQULePGcEgIZggVkCBaQIVhAxptD9uqOHtQdcr/umGCttd59vJlZM/u01mODWes0a2bN2vcHDyy/TmvfG9xZcZ1mXzC4u9+zwcxFi50en/nMOp0N1sy+YPDffr+/2PcH/0zgwT/Xaa2ZfTZ4fOYPL387mLXW3nd+1lrnL/e+85vbhddee83/XPHOy9tNPWk78/CKez3hvXxjAo9uZ/b5utd4L5dsZ+5v6vIJ7Pnw+ZBuOCUEMgQLyBAsIEOwgAzBAjIEC8gQLCBDsIAMwQIyjvk+LI/mQN3rejTHFwdC11HHHE4JgQzBAjIEC8jwTyiAjGOOsNwlhK6ZeUUX3dUKumZm7733PuSDfECwnIRC17GfXxfdgSf7+zjrx+9XsIAne0WnhEDXsdegD3s0Byj699jqmMeQXQIHKpwSAhmCBWQIFpAhWEDGXziHgZ1C5P4bAAAAAElFTkSuQmCC'>"
      ],
      "text/plain": [
       "<IPython.core.display.HTML object>"
      ]
     },
     "metadata": {},
     "output_type": "display_data"
    }
   ],
   "source": [
    "\n",
    "pIdFn = tm.plate_id_fn()\n",
    "pAgeDict = tm.plate_age_fn() \n",
    "\n",
    "fnAge_map = fn.branching.map(fn_key = pIdFn , \n",
    "                          mapping = pAgeDict )\n",
    "\n",
    "fig = glucifer.Figure(figsize=(400, 200))\n",
    "fig.append( glucifer.objects.Surface(tm.mesh, pIdFn ))\n",
    "fig.show()"
   ]
  },
  {
   "cell_type": "code",
   "execution_count": 13,
   "metadata": {},
   "outputs": [
    {
     "data": {
      "text/html": [
       "<img src='data:image/png;base64,iVBORw0KGgoAAAANSUhEUgAAAZAAAADICAIAAABJdyC1AAAE/UlEQVR4nO3dO3IbRxSG0b4NaAuucuRYoVIvzVtwYO/MypR6IzPXAfjAU4IkSsOfPqdYqkGjMWiyar6aAUCqunsAJJhbLwDgXoIFxBAsIIZgATEEC4ghWEAMwQJiCBYQQ7CAGIIFxBAsIIZgATEEC4ghWEAMwQJiCBYQQ7CAGIIFxBAsIIZgATEEC4ghWEAMwQJiCBYQQ7CAGIIFxBAsIIZgATEEC4ghWEAMwQJiCBYQY7/1Al5SVW29BHh1unvrJbyYtxOsqnr/98dZvaue1bs5ZvWuxq56zrGr3s0+jBzufR6vnjV2s2c93nyeP47ufZo/nvc/j+Yfj3/r886n572ynnG0n4dvs7rn6NE91vXk3/XWyHo2XuvpnD577Hp1vC73/7CH8/1fWcnJHq7v/9Z6qnus66dfPvzz6++ffvmwrGPpWtexdC1da9eyjrVr6YfxtWtZaz3c7LGsdTp/PNx7Y/zpp72fvd/1fva+xn4+jtw1fjQyx3727sp4P42/u9jPYfvdvDK+G72rdY4eyzKWw09yGcsy1vXh5rK8++2PrQ/Nl+SSEIghWEAMwQJiCBYQQ7CAGIIFxBAsIIZgATEEC4ghWEAMwQJiCBYQQ7CAGIIFxBAsIIZgATEEC4ghWEAMwQJiCBYQQ7CAGIIFxBAsIIZgATEEC4ghWEAMwQJiCBYQQ7CAGIIFxBAsIIZgATEEC4ghWEAMwQJiCBYQQ7CAGIIFxBAsIIZgATEEC4ghWEAMwQJiCBYQQ7CAGIIFxBAsIIZgATEEC4ghWEAMwQJiCBYQQ7CAGIIFxBAsIIZgATEEC4ghWEAMwQJiCBYQQ7CAGIIFxBAsIIZgATEEC4ghWEAMwQJiCBYQQ7CAGIIFxBAsIIZgATEEC4ghWEAMwQJiCBYQQ7CAGIIFxBAsIIZgATEEC4ghWEAMwQJiCBYQQ7CAGIIFxBAsIIZgATEEC4ghWEAMwQJiCBYQQ7CAGIIFxBAsIIZgATEEC4ghWEAMwQJiCBYQQ7CAGIIFxBAsIIZgATEEC4ghWEAMwQJiCBYQQ7CAGIIFxBAsIIZgATEEC4ghWEAMwQJiCBYQQ7CAGIIFxBAsIIZgATEEC4ghWEAMwQJiCBYQQ7CAGIIFxBAsIIZgATEEC4ghWECM6u6t1/AyqmrrJcBr9GaO8fGWggW8eS4JgRiCBcQQLCCGYAEx9ps8q3f0IN0m79dtE6wxxvu/PlaNqp5j3NqoMWaNqlGjzzeuzB9z9NnG0QPHrL5j4/h5Tzaq7po2b6+8asyTjVHVd2w8P++Xp31542EBV39cc4yqPtm4vfLr8x83aozRffQ1xji92X008jh59OhR3/jAo5uPu/qq/dT1B/b4iu/lMwu4uZ/q08e+xPdyz37qfFf3L6Drz3836YZLQiCGYAExBAuIIVhADMECYggWEEOwgBiCBcQQLCDGNn8Py6/mQLr/16/m+MOBkGurcw6XhEAMwQJiCBYQw39CAcTY4AyrqrxLCK/T2bH5maP18q57Rr7Tzw5WVXV3d2sWvDaXubl1tF7edc/I9/MaFvDV7nkp6Ue83LTZ57CAV+VwQnR8NvTFk6PDQz4/+XjO93OGBTw4FOesWbdyc1miq5NdEgIv7yk395wQ3XPe9CNep/7Zl4RPufVxCnj9zo7W40499ehs5PIi8QUPdp/DAmK4JARiCBYQQ7CAGIIFxPgPDP8jxsM6HiIAAAAASUVORK5CYII='>"
      ],
      "text/plain": [
       "<IPython.core.display.HTML object>"
      ]
     },
     "metadata": {},
     "output_type": "display_data"
    }
   ],
   "source": [
    "fig = glucifer.Figure(figsize=(400, 200))\n",
    "fig.append( glucifer.objects.Surface(tm.mesh, fnAge_map ))\n",
    "fig.show()"
   ]
  },
  {
   "cell_type": "markdown",
   "metadata": {},
   "source": [
    "## Mask fuctions"
   ]
  },
  {
   "cell_type": "code",
   "execution_count": 14,
   "metadata": {},
   "outputs": [
    {
     "data": {
      "text/html": [
       "<img src='data:image/png;base64,iVBORw0KGgoAAAANSUhEUgAAAZAAAADICAIAAABJdyC1AAAEDklEQVR4nO3dTW5TVxiA4XMsKlEQe2hndAXMs4Mspqtg0KVkBWQNHXYGe6iAARKHSQN2lIBdWVze8DzK4Ni6vv4cya9yr38y11oDoGC39QAAxxIsIEOwgAzBAjIEC8gQLCBDsIAMwQIyBAvIECwgQ7CADMECMgQLyBAsIEOwgAzBAjIEC8gQLCBDsIAMwQIyBAvIECwgQ7CADMECMgQLyBAsIEOwgAzBAjIEC8gQLCBDsIAMwQIyHm09wDnNObceAX44a62tRzibhxOsOef687f9a/7dPb369eLqycU/v/y+0VAEPPv49vL99eW76+cfXn99y1ePX1w9uXj1+MX3GexUzz+8vnx3ffn++tnHt5+vnC/fbDfR+TkkBDIEC8gQLCBDsIAMwQIyBAvIECwgQ7CADMECMgQLyBAsIEOwgAzBAjIEC8gQLCBDsIAMwQIyBAvIECwgQ7CADMECMgQLyBAsIEOwgAzBAjIEC8gQLCBDsIAMwQIyBAvIECwgQ7CADMECMgQLyBAsIEOwgAzBAjIEC8gQLCBDsIAMwQIyBAvIECwgQ7CADMECMgQLyBAsIEOwgAzBAjIEC8gQLCBDsIAMwQIyBAvIECwgQ7CADMECMgQLyBAsIEOwgAzBAjIEC8gQLCBDsIAMwQIyBAvIECwgQ7CADMECMgQLyBAsIEOwgAzBAjIEC8gQLCBDsIAMwQIyBAvIECwgQ7CADMECMgQLyBAsIEOwgAzBAjIEC8gQLCBDsIAMwQIyBAvIECwgQ7CADMECMgQLyBAsIEOwgAzBAjIEC8gQLCBDsIAMwQIyBAvIECwgQ7CADMECMgQLyBAsIEOwgAzBAjIEC8gQLCBDsIAMwQIyBAvIECwgQ7CADMECMgQLyBAsIEOwgAzBAjIEC8gQLCBDsIAMwQIyBAvIECwgQ7CADMECMgQLyJhrra1nOI8559YjwI/owTzHx0MKFvDgOSQEMgQLyBAsIEOwgIxHm9yrV/SgbpPX67YJ1hjjj7/+nnPMuXZj3LeYY+zmmHPMsW4v7th+7Ma6tdi74djNdcRi/34PFnMetdnu/snnHLuDxZhzHbH4cr/f3uzbi/8GuPPXtRtjznWwuH/yu7e/Wcwxxlp7P2OMw4tr7V1zs/FYY435P2+4d/FmVyftZ959wzVOeCxfGeDe/cx1eNtzPJZj9jNv7+r4AdZ8+WaTbjgkBDIEC8gQLCBDsIAMwQIyBAvIECwgQ7CADMECMrb5PiwfzYG6n+ujOb44ELq2+pvDISGQIVhAhmABGf4JBZCxwV9Yc06vEkLaz3LSfc651lpraRZEbfjkdQ4LOM2G55EEC8gQLCBDsICM7/3RnM+n272dAjiV92EBGQ4JgQzBAjIEC8gQLCDjE2aChJ0i7eh+AAAAAElFTkSuQmCC'>"
      ],
      "text/plain": [
       "<IPython.core.display.HTML object>"
      ]
     },
     "metadata": {},
     "output_type": "display_data"
    }
   ],
   "source": [
    "boundMaskFn = tm.plate_boundary_mask_fn(0.1)\n",
    "RboundMaskFn = tm.ridge_mask_fn(0.05)\n",
    "SboundMaskFn = tm.subduction_mask_fn(0.1)\n",
    "\n",
    "#We can 'add' these mask functions like so\n",
    "boundMaskFn = tm.combine_mask_fn(RboundMaskFn, SboundMaskFn )\n",
    "\n",
    "fig = glucifer.Figure(figsize=(400, 200))\n",
    "fig.append( glucifer.objects.Surface(tm.mesh, RboundMaskFn ))\n",
    "fig.show()"
   ]
  },
  {
   "cell_type": "code",
   "execution_count": 15,
   "metadata": {},
   "outputs": [
    {
     "data": {
      "text/html": [
       "<img src='data:image/png;base64,iVBORw0KGgoAAAANSUhEUgAAAZAAAADICAIAAABJdyC1AAAED0lEQVR4nO3dTW5TVxiA4XMsGADqIpjRWdcQVpCldB0dsJTsIHNmDJm1e0ClSEg9nTTFjhKwK4ubNzyPMji2rq8/R/Kr3OufzLXWACjYbT0AwLEEC8gQLCBDsIAMwQIyBAvIECwgQ7CADMECMgQLyBAsIEOwgAzBAjIEC8gQLCBDsIAMwQIyBAvIECwgQ7CADMECMgQLyBAsIEOwgAzBAjIEC8gQLCBDsIAMwQIyBAvIECwgQ7CAjCdbD3BOc86tR4AHZ6219Qhn83iCNed89ebd/jU//f3n5V/Xlx+vX33+faupePg+7F5cPbu4en7x/unLr2/5+tPby4/Xrz+9/T6Dner905dXzy+unl182L34cuWvv2w40tk5JAQyBAvIECwgQ7CADMECMgQLyBAsIEOwgAzBAjIEC8gQLCBDsIAMwQIyBAvIECwgQ7CADMECMgQLyBAsIEOwgAzBAjIEC8gQLCBDsIAMwQIyBAvIECwgQ7CADMECMgQLyBAsIEOwgAzBAjIEC8gQLCBDsIAMwQIyBAvIECwgQ7CADMECMgQLyBAsIEOwgAzBAjIEC8gQLCBDsIAMwQIyBAvIECwgQ7CADMECMgQLyBAsIEOwgAzBAjIEC8gQLCBDsIAMwQIyBAvIECwgQ7CADMECMgQLyBAsIEOwgAzBAjIEC8gQLCBDsIAMwQIyBAvIECwgQ7CADMECMgQLyBAsIEOwgAzBAjIEC8gQLCBDsIAMwQIyBAvIECwgQ7CADMECMgQLyBAsIEOwgAzBAjIEC8gQLCBDsIAMwQIyBAvIECwgQ7CADMECMgQLyBAsIEOwgAzBAjIEC8gQLCBDsIAMwQIyBAvIECwgQ7CADMECMgQLyBAsIEOwgAzBAjIEC8gQLCBDsIAMwQIyBAvIECwgQ7CADMECMgQLyBAsIEOwgAzBAjIEC8iYa62tZziPOefWI8BD9Gie4+MxBQt49BwSAhmCBWQIFpAhWEDGk03u1St6ULfJ63XbBGuM8fObd3OOOddujPsWc4zdHHOOOdbtxR3bj91YtxZ7Nxy7uY5Y7N/vwWLOozbb3T/5nGN3sBhzriMWX+7325t9e/HvAHf+unZjzLkOFvdPfvf2N4s5xlhr72eMcXhxrb1rbjYea6wx/+cN9y7e7Oqk/cy7b7jGCY/lKwPcu5+5Dm97jsdyzH7m7V0dP8Cav/2xSTccEgIZggVkCBaQIVhAhmABGYIFZAgWkCFYQIZgARnbfB+Wj+ZA3Y/10RxfHAhdW/3N4ZAQyBAsIEOwgAz/hALI2OAvrDmnVwkh7Uc56T7nXGuttTQLojZ88jqHBZxmw/NIggVkCBaQIVhAxvf+aM5/p9u9nQI4lfdhARkOCYEMwQIyBAvIECwg4x/p7IOd8KhIoAAAAABJRU5ErkJggg=='>"
      ],
      "text/plain": [
       "<IPython.core.display.HTML object>"
      ]
     },
     "metadata": {},
     "output_type": "display_data"
    }
   ],
   "source": [
    "#It is also useful to be able invert mask fanctions\n",
    "\n",
    "fig = glucifer.Figure(figsize=(400, 200))\n",
    "fig.append( glucifer.objects.Surface(tm.mesh, tm.t2f(RboundMaskFn) ))\n",
    "fig.show()"
   ]
  },
  {
   "cell_type": "code",
   "execution_count": 16,
   "metadata": {},
   "outputs": [
    {
     "data": {
      "text/html": [
       "<img src='data:image/png;base64,iVBORw0KGgoAAAANSUhEUgAAAZAAAADICAIAAABJdyC1AAAET0lEQVR4nO3dvY5UVQDA8XMmKwkKJlYaqdQGOwt9AXgA9VF8DgseBX0Be6IFJY3GRqKViRAlajwWSNgluzBrJlz/6++XLc5M7seZzd5/7p2vnWutAVCw23oCAPsSLCBDsIAMwQIyBAvIECwgQ7CADMECMgQLyBAsIEOwgAzBAjIEC8gQLCBDsIAMwQIyBAvIECwgQ7CADMECMgQLyBAsIEOwgAzBAjIEC8gQLCBDsIAMwQIyBAvIECwgQ7CADMECMo62nsAhzTm3ngL856y1tp7CwVycYM05r9+6e/yey0d/fXjt4UfXHrz9+u9bzYr9/fbH7psfrnx9/+r9Xy4dZIPXr/z88ZvffvLWd1ePnvcH8ODPS1/8+O6XP7137+Ebz9/gzUd3Pv31q5uP7hxkegd375V3br964/blGw92rz2987MPNpzSwbkkBDIEC8gQLCBDsIAMwQIyBAvIECwgQ7CADMECMgQLyBAsIEOwgAzBAjIEC8gQLCBDsIAMwQIyBAvIECwgQ7CADMECMgQLyBAsIEOwgAzBAjIEC8gQLCBDsIAMwQIyBAvIECwgQ7CADMECMgQLyBAsIEOwgAzBAjIEC8gQLCBDsIAMwQIyBAvIECwgQ7CADMECMgQLyBAsIEOwgAzBAjIEC8gQLCBDsIAMwQIyBAvIECwgQ7CADMECMgQLyBAsIEOwgAzBAjIEC8gQLCBDsIAMwQIyBAvIECwgQ7CADMECMgQLyBAsIEOwgAzBAjIEC8gQLCBDsIAMwQIyBAvIECwgQ7CADMECMgQLyBAsIEOwgAzBAjIEC8gQLCBDsIAMwQIyBAvIECwgQ7CADMECMgQLyBAsIEOwgAzBAjIEC8gQLCBDsIAMwQIyBAvIECwgQ7CADMECMgQLyBAsIEOwgAzBAjIEC8gQLCBDsIAMwQIyBAvIECwgQ7CADMECMgQLyBAsIEOwgAzBAjIEC8gQLCBDsIAMwQIyBAvIECwgQ7CADMECMgQLyJhrra3ncBhzzq2nAP9FF+YYHxcpWMCF55IQyBAsIEOwgAzBAjKONtmrV/SgbpPX67YJ1hjj/Vt35xxzrt0YZw3mGLs55hxzrGcHpyw/dmM9Mzi24tjNtcfg+H5PDObca7Hd2TOfc+xODMaca4/B0/2+eLEXD/6ZwKm/rt0Yc64Tg7NnfvryTwZzjLHWsZ8xxsmbax2758nCY4015r9c8djNJ5s613bm6SuucY7H8pwJnLmduU6ue4jHss925rOb2n8Ca37+/SbdcEkIZAgWkCFYQIZgARmCBWQIFpAhWECGYAEZggVkbPN9WD6aA3X/r4/m+OJA6NrqnMMlIZAhWECGYAEZ/gkFkLHBGdac06uE0LXhIfyygzXnXGuttTQLirY9hD2HBZzDtk8iCRZwbo/Ps17+fgULODeXhEDAts8+b3Be9/gBezsFRG14CHsfFpDhkhDIECwgQ7CADMECMv4GOcyenVDKz84AAAAASUVORK5CYII='>"
      ],
      "text/plain": [
       "<IPython.core.display.HTML object>"
      ]
     },
     "metadata": {},
     "output_type": "display_data"
    }
   ],
   "source": [
    "#We can also have  masked Plate Function \n",
    "\n",
    "maskedPlateIdFn = tm.plate_id_fn(maskFn=boundMaskFn)\n",
    "fig = glucifer.Figure(figsize=(400, 200))\n",
    "fig.append( glucifer.objects.Surface(tm.mesh, maskedPlateIdFn , valueRange = [0, 3] ))\n",
    "fig.show()"
   ]
  },
  {
   "cell_type": "markdown",
   "metadata": {
    "collapsed": true
   },
   "source": [
    "## General queries"
   ]
  },
  {
   "cell_type": "code",
   "execution_count": 17,
   "metadata": {},
   "outputs": [
    {
     "name": "stdout",
     "output_type": "stream",
     "text": [
      "(True, False)\n",
      "(True, False)\n",
      "(False, True)\n",
      "(False, True)\n",
      "(True, False)\n",
      "(True, False)\n",
      "(True, False)\n",
      "(True, False)\n"
     ]
    }
   ],
   "source": [
    "\n",
    "#We can traverse the undirect graph and use these functions to query the underlying directed data structue\n",
    "for e in tm.undirected.edges():\n",
    "    print(tm.is_ridge(e), tm.is_subduction_boundary(e))\n",
    "    e = (e[1], e[0])\n",
    "    print(tm.is_ridge(e), tm.is_subduction_boundary(e))"
   ]
  },
  {
   "cell_type": "code",
   "execution_count": null,
   "metadata": {
    "collapsed": true
   },
   "outputs": [],
   "source": []
  },
  {
   "cell_type": "code",
   "execution_count": null,
   "metadata": {
    "collapsed": true
   },
   "outputs": [],
   "source": []
  }
 ],
 "metadata": {
  "kernelspec": {
   "display_name": "Python 3",
   "language": "python",
   "name": "python3"
  },
  "language_info": {
   "codemirror_mode": {
    "name": "ipython",
    "version": 3
   },
   "file_extension": ".py",
   "mimetype": "text/x-python",
   "name": "python",
   "nbconvert_exporter": "python",
   "pygments_lexer": "ipython3",
   "version": "3.5.3"
  }
 },
 "nbformat": 4,
 "nbformat_minor": 2
}
