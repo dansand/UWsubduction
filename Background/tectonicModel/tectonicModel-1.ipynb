{
 "cells": [
  {
   "cell_type": "markdown",
   "metadata": {},
   "source": [
    "# Tectonic Model: basic functionality\n",
    "\n",
    "The TectonicModel (`tm`) class is intended as versatile object in which the user can implement an initial plate conifiguation, as well as plate evolution.. \n",
    "\n",
    "\n",
    "\n",
    "Once created, the `tm` then provides a series of utilities to:\n",
    "\n",
    "* set initial temperature distribution (plate/slab thermal model)\n",
    "* implement and manage embedded faults\n",
    "* map plate and plate boundary velocities to Underworld2 Stokes Systems\n",
    "* map Underworld to Velocities and ( + gradients) back to the `tm` in order to update plate boundary information"
   ]
  },
  {
   "cell_type": "code",
   "execution_count": 2,
   "metadata": {},
   "outputs": [],
   "source": [
    "import numpy as np\n",
    "import underworld as uw\n",
    "from underworld import function as fn\n",
    "import glucifer\n",
    "from easydict import EasyDict as edict\n",
    "import networkx as nx\n",
    "import operator\n",
    "import UWsubduction as usub"
   ]
  },
  {
   "cell_type": "markdown",
   "metadata": {},
   "source": [
    "## A toy model"
   ]
  },
  {
   "cell_type": "code",
   "execution_count": 3,
   "metadata": {},
   "outputs": [],
   "source": [
    "\n",
    "\n",
    "mesh = uw.mesh.FeMesh_Cartesian( elementType = (\"Q1\"), \n",
    "                                 elementRes  = (96, 48), \n",
    "                                 minCoord    = (-1.0, 0.0), \n",
    "                                 maxCoord    = (1.0, 1.0) )\n",
    "\n",
    "\n",
    "temperatureField = uw.mesh.MeshVariable( mesh=mesh, nodeDofCount=1 )\n",
    "velocityField = uw.mesh.MeshVariable( mesh=mesh, nodeDofCount=2 )\n",
    "coordinate = fn.input()\n"
   ]
  },
  {
   "cell_type": "code",
   "execution_count": 4,
   "metadata": {},
   "outputs": [],
   "source": [
    "#toy model, 3 plates\n",
    "\n",
    "\n",
    "tm = usub.TectonicModel(mesh, 0, 20, 1)\n",
    "\n",
    "tm.add_plate(1, velocities = 1)\n",
    "tm.add_plate(2,velocities = -1)\n",
    "tm.add_plate(3, velocities = 0)\n",
    "        \n",
    "tm.add_left_boundary(1)\n",
    "tm.add_subzone(1, 2, 0.25, subInitAge=50.0, upperInitAge=10.0)\n",
    "tm.add_ridge(2, 3, 0.5)\n",
    "tm.add_right_boundary(3, 30.)"
   ]
  },
  {
   "cell_type": "code",
   "execution_count": 5,
   "metadata": {},
   "outputs": [
    {
     "data": {
      "text/plain": [
       "True"
      ]
     },
     "execution_count": 5,
     "metadata": {},
     "output_type": "execute_result"
    }
   ],
   "source": [
    "tm.is_subduction_boundary((1,2))"
   ]
  },
  {
   "cell_type": "markdown",
   "metadata": {},
   "source": [
    "## The plate ID and age functions"
   ]
  },
  {
   "cell_type": "code",
   "execution_count": 6,
   "metadata": {},
   "outputs": [
    {
     "data": {
      "text/html": [
       "<img src='data:image/png;base64,iVBORw0KGgoAAAANSUhEUgAAAZAAAADICAIAAABJdyC1AAAEpElEQVR4nO3dz2okRQDH8aohiCBILt7nIq54ySPM2dMcfIB5lNw9bD9KHmFyVqEFEQ8eRkFZTMCIEJcolgf3T7Jx8ofMdvkjnw85VJLpruoM+dI9TDO1tVYAEsx6LwDgrgQLiCFYQAzBAmIIFhBDsIAYggXEECwghmABMQQLiCFYQAzBAmIIFhBDsIAYggXEECwghmABMQQLiCFYQAzBAmIIFhBDsIAYggXEECwghmABMQQLiCFYQAzBAmIIFhBDsIAYggXEECwghmABMQQLiCFYQAzBAmIIFhBDsIAYe70XMKnFYtF7CbBj6/W69xKm87iCdXx8/OTp2HsVPMjHH5x/9snppx/++t47f+941z/9PPviq9nX39SLix3v+e1Y//j88NlHvVcxKZeEQAzBAmIIFhBDsIAYggXEECwghmABMQQLiCFYQAzBAmIIFhBDsIAYggXEECwghmABMQQLiCFYQAzBAmIIFhBDsIAYggXEECwghmABMQQLiCFYQAzBAmIIFhBDsIAYggXEECwghmABMQQLiCFYQAzBAmIIFhBDsIAYggXEECwghmABMQQLiCFYQAzBAmIIFhBDsIAYggXEECwghmABMQQLiCFYQAzBAmIIFhBDsIAYggXEECwghmABMQQLiCFYQAzBAmIIFhBDsIAYggXEECwghmABMQQLiCFYQAzBAmIIFhBDsIAYggXEECwghmABMQQLiCFYQAzBAmIIFhBDsIAYggXEECwghmABMQQLiCFYQAzBAmIIFhBDsIAYggXEECwghmABMQQLiCFYQAzBAmIIFhBDsIAYggXEECwghmABMQQLiCFYQAzBAmIIFhBDsIAYggXEECwghmABMQQLiCFYQAzBAmIIFhBDsIAYggXEECwghmABMQQLiCFYQAzBAmIIFhBDsIAYggXEECwgxl7vBUzt/Psvey+BBzk5ef7tH7+9/+z3d/fajnd9ejr77qT+cF7//GvHe347xl8uei9harW1XT/r/2OLxaL3EmCXDg4OhmHovYrpPK5gAdG8hgXEECwghmABMQQLiCFYQAzBAmIIFhBDsIAYggXE6HMvYa21y7zArnS5Sabbzc9Pno61tlkptZZay6y0Nwe11fLGoNTSLg/+e8NSam13GJRLC2i1lFnd+tvtg9fz1tJmWwdlVtstgzs+7NU6tw7e/CttGZRab1jwtYfdMrj2fJVWWimllfbqq5TWLv2kvBiUq9+29mLbdnXbrbu69MjrG5a776fVK0u6x4Y3HMttSyovj3fHx1JuOJaX+6k37Oe2Y6mfbzpUwyUhEESwgBiCBcQQLCCGYAExBAuIIVhADMECYggWEKPPh1C4NQfSPa5bc3xaD+Tqdc7hkhCIIVhADMECYvjkZyBGhzOss7Ozw8PD6ecFHu7f/9/VajWO4/SzdzjDWi6X4zhuNpuJ5wUebhiG/f395XK5XC7X6/XEs/e5JFwsFtMfKrATm81mvV6P4zgMw8RTe9EduJ/NZjOO43w+n35qwQLu4ejoaD6fD8Mw/elV6fhOdyDUarU6ODhYrVbTT+1tDUAMl4RADMECYggWEEOwgBiCBcT4By3PvA2WDC//AAAAAElFTkSuQmCC'>"
      ],
      "text/plain": [
       "<IPython.core.display.HTML object>"
      ]
     },
     "metadata": {},
     "output_type": "display_data"
    }
   ],
   "source": [
    "\n",
    "pIdFn = tm.plate_id_fn()\n",
    "pAgeDict = tm.plate_age_fn() \n",
    "\n",
    "fnAge_map = fn.branching.map(fn_key = pIdFn , \n",
    "                          mapping = pAgeDict )\n",
    "\n",
    "fig = glucifer.Figure(figsize=(400, 200))\n",
    "fig.append( glucifer.objects.Surface(tm.mesh, pIdFn ))\n",
    "fig.show()"
   ]
  },
  {
   "cell_type": "code",
   "execution_count": 7,
   "metadata": {},
   "outputs": [
    {
     "data": {
      "text/html": [
       "<img src='data:image/png;base64,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'>"
      ],
      "text/plain": [
       "<IPython.core.display.HTML object>"
      ]
     },
     "metadata": {},
     "output_type": "display_data"
    }
   ],
   "source": [
    "fig = glucifer.Figure(figsize=(400, 200))\n",
    "fig.append( glucifer.objects.Surface(tm.mesh, fnAge_map ))\n",
    "fig.show()"
   ]
  },
  {
   "cell_type": "markdown",
   "metadata": {},
   "source": [
    "## Mask fuctions"
   ]
  },
  {
   "cell_type": "code",
   "execution_count": 8,
   "metadata": {},
   "outputs": [
    {
     "data": {
      "text/html": [
       "<img src='data:image/png;base64,iVBORw0KGgoAAAANSUhEUgAAAZAAAADICAIAAABJdyC1AAAEyUlEQVR4nO3dv28bZRzH8ecx4UcqBv8JkRhgYPBfgDKxsGRi9p+Qhd07A/47mLywMCWsLB5Yo1qdEKoUS0hNWmgfBtLWSerEiOiuH93rpQ5P0jvf91rrrbOVi2trrQAkGPU9AMCuBAuIIVhADMECYggWEEOwgBiCBcQQLCCGYAExBAuIIVhADMECYggWEEOwgBiCBcQQLCCGYAExBAuIIVhADMECYggWEEOwgBiCBcQQLCCGYAExBAuIIVhADMECYggWEEOwgBiCBcQQLCCGYAExBAuIIVhADMECYggWEEOwgBh7fQ/QqcPDw75HgAd2cnLS9wjdGVawTk9P23cHm9/57cPPfnz09U/7Xz0b7fc0FF179Orim4tfvn3285d/nd2x2Xv13HjnzCdPLme/f97jVN3zkhCIIVhADMECYggWEEOwgBiCBcQQLCCGYAExBAuIIVhADMECYggWEEOwgBiCBcQQLCCGYAExBAuIIVhADMECYggWEEOwgBiCBcQQLCCGYAExBAuIIVhADMECYggWEEOwgBiCBcQQLCCGYAExBAuIIVhADMECYggWEEOwgBiCBcQQLCCGYAExBAuIIVhADMECYggWEEOwgBiCBcQQLCCGYAExBAuIIVhADMECYggWEEOwgBiCBcQQLCCGYAExBAuIIVhADMECYggWEEOwgBiCBcQQLCCGYAExBAuIIVhADMECYggWEEOwgBiCBcQQLCCGYAExBAuIIVhADMECYggWEEOwgBiCBcQQLCCGYAExBAuIIVhADMECYggWEEOwgBiCBcQQLCCGYAExBAuIIVhADMECYggWEEOwgBiCBcQQLCCGYAExBAuIIVhADMECYgw+WK3vAWB3g3+6Dj5YQA7BAmIIFhBDsIAYggXEECwghmABMQQLiCFYQAzBAmIIFhBDsIAYggXEECwgxuCDVfseAHY3+Kfr4IMF5Bh8sAb/G9FIMvin6+CDBeTY63uArp08udz88vEH56v9sz8/+vT56OO+RqJjL189X704+/Xy/Onfl3ds9njvfPXJ+/LcuJr54vzpy7czL/940eNIvaitDegq8/DwsO8R4CFNJpP5fN73FN0ZVrCAaN7DAmIIFhBDsIAYggXEECwghmABMQQLiCFYQAzBAmL0cy9hrYP/vT4QrpebZHq7+fmLH5a1tlEptZZay6i0m4vaarmxKLW0zcW7dyyl1rbDomwM0Gopo7r1b7cv3h63ljbauiij2u5Z7LjZmzm3Lm7+K21ZlFrvGPjWZvcsbv1/lVZaKaWV9uZPKa1tfKdcLcr1L1u72rdd33frQ21seXvHsvvjtHptpP+w4x3nct9I5fX5PvC5lDvO5fXj1Dse575zqd+veqiGl4RAEMECYggWEEOwgBiCBcQQLCCGYAExBAuIIVhAjH4+hMKtOZBuWLfm+LQeyNXXNYeXhEAMwQJiCBYQwyc/AzF6uMKazWbT6XS5XHZ/aOD/W6/Xs9msl0N3fYU1n89LKdPpdDqdLhaLLg8NPIijo6Plcrlarbo/dNdXWOv1ejKZjMfj9Xrd8aGBB7FYLA4ODno5tDfdgRiCBcTo+ifd/333ajweHx8fd3xoIJ0fawBieEkIxBAsIIZgATEEC4ghWECMfwA8qcqE89uMewAAAABJRU5ErkJggg=='>"
      ],
      "text/plain": [
       "<IPython.core.display.HTML object>"
      ]
     },
     "metadata": {},
     "output_type": "display_data"
    }
   ],
   "source": [
    "boundMaskFn = tm.plate_boundary_mask_fn(0.1)\n",
    "RboundMaskFn = tm.ridge_mask_fn(0.05)\n",
    "SboundMaskFn = tm.subduction_mask_fn(0.1)\n",
    "\n",
    "#We can 'add' these mask functions like so\n",
    "boundMaskFn = tm.combine_mask_fn(RboundMaskFn, SboundMaskFn )\n",
    "\n",
    "fig = glucifer.Figure(figsize=(400, 200))\n",
    "fig.append( glucifer.objects.Surface(tm.mesh, RboundMaskFn ))\n",
    "fig.show()"
   ]
  },
  {
   "cell_type": "code",
   "execution_count": 9,
   "metadata": {},
   "outputs": [
    {
     "data": {
      "text/html": [
       "<img src='data:image/png;base64,iVBORw0KGgoAAAANSUhEUgAAAZAAAADICAIAAABJdyC1AAAEoElEQVR4nO3dv26bVRzH4XOsQilIyJcQJIaKyVeAPDExZGL2JeQSvDPU98DG5IGJKWHu4AEiIWXI0i5dvJD+QeIw0Bbnj50grPf0qzyPOpyk7+vze9voI9vKK9fWWgFIMOo9AMBdCRYQQ7CAGIIFxBAsIIZgATEEC4ghWEAMwQJiCBYQQ7CAGIIFxBAsIIZgATEEC4ghWEAMwQJiCBYQQ7CAGIIFxBAsIIZgATEEC4ghWEAMwQJiCBYQQ7CAGIIFxBAsIIZgATEEC4ghWEAMwQJiCBYQQ7CAGIIFxBAsIIZgATEe9B5gUNPptPcIsGfHx8e9RxjO/QrWycnJ4yerze989ebsu4ufv335y2ftVa+pGNgf9ZOfHn3946ffnH785Y7DPqifjRtnvjh7+sWvP3ScanheEgIxBAuIIVhADMECYggWEEOwgBiCBcQQLCCGYAExBAuIIVhADMECYggWEEOwgBiCBcQQLCCGYAExBAuIIVhADMECYggWEEOwgBiCBcQQLCCGYAExBAuIIVhADMECYggWEEOwgBiCBcQQLCCGYAExBAuIIVhADMECYggWEEOwgBiCBcQQLCCGYAExBAuIIVhADMECYggWEEOwgBiCBcQQLCCGYAExBAuIIVhADMECYggWEEOwgBiCBcQQLCCGYAExBAuIIVhADMECYggWEEOwgBiCBcQQLCCGYAExBAuIIVhADMECYggWEEOwgBiCBcQQLCCGYAExBAuIIVhADMECYggWEEOwgBiCBcQQLCCGYAExBAuIIVhADMECYggWEEOwgBiCBcQQLCCGYAExBAuIIVhADMECYggWEEOwgBiCBcQQLCCGYAExBAuIIVhADMECYggWEEOwgBiCBcQQLCCGYAExBAuIIVhADMECYggWEEOwgBiCBcQQLCCGYAExBAuIIVhADMECYggWEEOwgBgPeg8wtIuzp5tfvvjz2enr55+/vnjU3vQaiYG9rH+dPnz+4uFvFx+tdxz2Qf1s3Djzq2e/dxypi9pa6z3DcKbTae8RYJ8mk8liseg9xXDuV7CAaN7DAmIIFhBDsIAYggXEECwghmABMQQLiCFYQAzBAmL0uZew1tplX2Bfutwk0+3m58dPVrW2USm1llrLqLSri9pqubIotbTNxc0nllJru8OibAzQaimjuvVvty/+3beWNtq6KKPablnc8bD3c25dXP1X2rIote4Y+Nphtyyu/X+VVloppZX2/k8prW18p7xdlMtftvb23Hb53K0PtXHk9RPL3R+n1Usj/YcTd1zLbSOVd9e752spO67l3ePUHY9z27XU7887VMNLQiCIYAExBAuIIVhADMECYggWEEOwgBiCBcQQLCBGnw+hcGsOpLtft+b4tB7I1es5h5eEQAzBAmIIFhDDJz8DMTo8w5rP57PZbLVaDb818P+t1+v5fN5l66GfYS0Wi1LKbDabzWbL5XLIrYG9ODw8XK1W5+fnw2899DOs9Xo9mUzG4/F6vR54a2AvlsvlwcFBl6296Q7EECwgxtC/6f7Pu1fj8fjo6GjgrYF0fq0BiOElIRBDsIAYggXEECwghmABMf4GimbGqssmqPMAAAAASUVORK5CYII='>"
      ],
      "text/plain": [
       "<IPython.core.display.HTML object>"
      ]
     },
     "metadata": {},
     "output_type": "display_data"
    }
   ],
   "source": [
    "#It is also useful to be able invert mask fanctions\n",
    "\n",
    "fig = glucifer.Figure(figsize=(400, 200))\n",
    "fig.append( glucifer.objects.Surface(tm.mesh, tm.t2f(RboundMaskFn) ))\n",
    "fig.show()"
   ]
  },
  {
   "cell_type": "code",
   "execution_count": 10,
   "metadata": {},
   "outputs": [
    {
     "data": {
      "text/html": [
       "<img src='data:image/png;base64,iVBORw0KGgoAAAANSUhEUgAAAZAAAADICAIAAABJdyC1AAAFS0lEQVR4nO3dP28bZQDH8bs0bZr+wxIDqgSSkUCqmMzGhDwxIFaY7yXkJWRn6L2ESmywZEAMTC0TQyU8QCREB1f0D1BKDbROE9oeQ9uQtjhJk+hOP+XzUYYnzt09zyXyV77IJ5dN0xQACea6XgDAbgkWEEOwgBiCBcQQLCCGYAExBAuIIVhADMECYggWEEOwgBiCBcQQLCCGYAExBAuIIVhADMECYggWEEOwgBiCBcQQLCCGYAExBAuIIVhADMECYggWEEOwgBiCBcQQLCCGYAExBAuIIVhADMECYggWEEOwgBiCBcQQLCCGYAEx5rteQKuGw2HXS4ADdvHixa6X0J7DFaxLly6dOz/a+sjrZ9bfe+Pvd8/eXZhvuloVj60/KL+7eerbn09f+2thzwd559Ttj8/+9OFr45NHHsza5t7D+a9+7X9x8+3Vu69ud6iNK59Mv/5o7ZuTzf09r+eg3CuPf7n4/ucnPlg99tbmg9Mrl9/8/rMOV9U+l4RADMECYggWEEOwgBiCBcQQLCCGYAExBAuIIVhADMECYggWEEOwgBiCBcQQLCCGYAExBAuIIVhADMECYggWEEOwgBiCBcQQLCCGYAExBAuIIVhADMECYggWEEOwgBiCBcQQLCCGYAExBAuIIVhADMECYggWEEOwgBiCBcQQLCCGYAExBAuIIVhADMECYggWEEOwgBiCBcQQLCCGYAExBAuIIVhADMECYggWEEOwgBiCBcQQLCCGYAExBAuIIVhADMECYggWEEOwgBiCBcQQLCCGYAExBAuIIVhADMECYggWEEOwgBiCBcQQLCCGYAExBAuIIVhADMECYggWEEOwgBiCBcQQLCCGYAExBAuIIVhADMECYggWEEOwgBiCBcQQLCCGYAExBAuIIVhADMECYggWEEOwgBiCBcQQLCCGYAExBAuIIVhADMECYggWEEOwgBiCBcQQLCCGYAExBAuIIVhADMECYggWEEOwgBiCBcQQLCCGYAExBAuIIVhADMECYggWEEOwgBiCBcQQLCDGfNcLaNv0yuWt3945sXH1j+nRa/ePHWm6WhKPbTwsr94+fue3E9PpsT0f5Nbin6u/Xz997ZfFuYeztll7dGT1zsat2/ema69sd6h/rq+u3zizPl1sNva8noOyVj5aXbhxa+GH6dHJ5oP3r//Y4ZI6UTbNIXqiDofDrpcAB2kwGNR13fUq2nO4ggVE8z8sIIZgATEEC4ghWEAMwQJiCBYQQ7CAGIIFxBAsIEY39xKWZdnJvMBB6eQmmc5ufj53flSWzVxRlGVRlsVc0Tw/KJuyeG5QlEWzdfD/OxZFWTa7GBRbFtCURTFXzvzp7MF/85ZFMzdzUMyVzQ6DXW62uc6Zg+d/SzMGRVlus+AXNtth8MLfq2iKpiiKpmg2v4qiabY8UjwZFM9+2zRP9m2e3XfmobZs+eKOxe6P05TPLOkldtzmXHZaUvH0fA/4XIptzuXpccptjrPTuZSfjjuohktCIIhgATEEC4ghWEAMwQJiCBYQQ7CAGIIFxBAsIEY3H0Lh1hxId7huzfFpPZCrq9ccLgmBGIIFxBAsIIZPfgZidPAKa3l5uaqq0WjU/tTAPk0mkw6fwm0Hq67rXq9X1/Xy8nLLUwP7d+HChX6/X9f10tJS+7O3/baGyWQyHA57vd5kMml5amD/lpaWxuPxysrKYDBof3b/dAdezng8Ho1G/X6//akFC3gJKysrjy8J67puf/a2LwmrqqqqqtfrdXIBDOxfVVWDwaCqqvan9rYGIIZLQiCGYAExBAuIIVhADMECYvwL8p/zNyRXLiMAAAAASUVORK5CYII='>"
      ],
      "text/plain": [
       "<IPython.core.display.HTML object>"
      ]
     },
     "metadata": {},
     "output_type": "display_data"
    }
   ],
   "source": [
    "#We can also have  masked Plate Function \n",
    "\n",
    "maskedPlateIdFn = tm.plate_id_fn(maskFn=boundMaskFn)\n",
    "fig = glucifer.Figure(figsize=(400, 200))\n",
    "fig.append( glucifer.objects.Surface(tm.mesh, maskedPlateIdFn , valueRange = [0, 3] ))\n",
    "fig.show()"
   ]
  },
  {
   "cell_type": "markdown",
   "metadata": {
    "collapsed": true
   },
   "source": [
    "## General queries"
   ]
  },
  {
   "cell_type": "code",
   "execution_count": 11,
   "metadata": {},
   "outputs": [
    {
     "name": "stdout",
     "output_type": "stream",
     "text": [
      "True False\n",
      "True False\n",
      "False True\n",
      "False True\n",
      "True False\n",
      "True False\n",
      "True False\n",
      "True False\n"
     ]
    }
   ],
   "source": [
    "\n",
    "#We can traverse the undirect graph and use these functions to query the underlying directed data structue\n",
    "for e in tm.undirected.edges():\n",
    "    print(tm.is_ridge(e), tm.is_subduction_boundary(e))\n",
    "    e = (e[1], e[0])\n",
    "    print(tm.is_ridge(e), tm.is_subduction_boundary(e))"
   ]
  },
  {
   "cell_type": "code",
   "execution_count": null,
   "metadata": {},
   "outputs": [],
   "source": []
  },
  {
   "cell_type": "code",
   "execution_count": null,
   "metadata": {
    "collapsed": true
   },
   "outputs": [],
   "source": []
  }
 ],
 "metadata": {
  "kernelspec": {
   "display_name": "Python 3",
   "language": "python",
   "name": "python3"
  },
  "language_info": {
   "codemirror_mode": {
    "name": "ipython",
    "version": 3
   },
   "file_extension": ".py",
   "mimetype": "text/x-python",
   "name": "python",
   "nbconvert_exporter": "python",
   "pygments_lexer": "ipython3",
   "version": "3.5.3"
  }
 },
 "nbformat": 4,
 "nbformat_minor": 2
}
