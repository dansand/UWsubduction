{
 "cells": [
  {
   "cell_type": "markdown",
   "metadata": {},
   "source": [
    "# Tectonic Model: saving, reloading, checkpointing\n",
    "\n",
    "Basic checkpointing is acheived by converting TectonicModel objects to dictionary, then pickling. \n",
    "\n",
    "UWSubduction includes a small class called checkpoint that helps organise the checkponting of underworld2 objects and Python dictionaries.\n",
    "\n",
    "The dictionary only stores the underlying Networkx graph, containing information about plates/boundaries and velocities. This means we always need to rebuild the TectonicModel object every time the Uw model is run. The saved data gets laoded by using the `pop_from_dict_of_lists` method."
   ]
  },
  {
   "cell_type": "code",
   "execution_count": 27,
   "metadata": {},
   "outputs": [],
   "source": [
    "import numpy as np\n",
    "import os\n",
    "import pickle\n",
    "import underworld as uw\n",
    "from underworld import function as fn\n",
    "import glucifer\n",
    "from easydict import EasyDict as edict\n",
    "import networkx as nx\n",
    "import operator\n",
    "import UWsubduction as usub"
   ]
  },
  {
   "cell_type": "code",
   "execution_count": 48,
   "metadata": {},
   "outputs": [
    {
     "name": "stdout",
     "output_type": "stream",
     "text": [
      "could no load saved state info.\n"
     ]
    }
   ],
   "source": [
    "from UWsubduction.utils import checkpoint\n",
    "\n",
    "#create a checkpoint object\n",
    "cp = checkpoint(savepath = './checkpoint')\n",
    "\n",
    "startFresh = False #if this false we'll load the TectonicModel from a checkpoint (a pickled dictionary)"
   ]
  },
  {
   "cell_type": "code",
   "execution_count": 49,
   "metadata": {},
   "outputs": [],
   "source": [
    "#checkpoint?"
   ]
  },
  {
   "cell_type": "code",
   "execution_count": 50,
   "metadata": {},
   "outputs": [
    {
     "data": {
      "text/plain": [
       "dict_keys([1, 2])"
      ]
     },
     "execution_count": 50,
     "metadata": {},
     "output_type": "execute_result"
    }
   ],
   "source": [
    "#if restart, attempt to read in saved dicts. \n",
    "with open(os.path.join('./data/', 'tmDict.pkl'), 'rb') as fp:\n",
    "        tmDict = pickle.load(fp)\n",
    "            \n",
    "tmDict.keys() "
   ]
  },
  {
   "cell_type": "markdown",
   "metadata": {},
   "source": [
    "## A toy model"
   ]
  },
  {
   "cell_type": "code",
   "execution_count": 38,
   "metadata": {},
   "outputs": [],
   "source": [
    "\n",
    "\n",
    "mesh = uw.mesh.FeMesh_Cartesian( elementType = (\"Q1\"), \n",
    "                                 elementRes  = (96, 48), \n",
    "                                 minCoord    = (-1.0, 0.0), \n",
    "                                 maxCoord    = (1.0, 1.0) )\n",
    "\n",
    "\n",
    "temperatureField = uw.mesh.MeshVariable( mesh=mesh, nodeDofCount=1 )\n",
    "velocityField = uw.mesh.MeshVariable( mesh=mesh, nodeDofCount=2 )\n",
    "coordinate = fn.input()\n"
   ]
  },
  {
   "cell_type": "code",
   "execution_count": 39,
   "metadata": {},
   "outputs": [
    {
     "name": "stdout",
     "output_type": "stream",
     "text": [
      "starting fresh\n"
     ]
    }
   ],
   "source": [
    "#toy model, 3 plates\n",
    "\n",
    "\n",
    "tm = usub.TectonicModel(mesh, 0, 20, 1)\n",
    "\n",
    "if not cp.restart or startFresh is True:\n",
    "    print('starting fresh')\n",
    "    \n",
    "    tm.add_plate(1, velocities = 1)\n",
    "    tm.add_plate(2,velocities = -1)\n",
    "    tm.add_plate(3, velocities = 0)\n",
    "\n",
    "    tm.add_left_boundary(1)\n",
    "    tm.add_subzone(1, 2, 0.25, subInitAge=50.0, upperInitAge=10.0)\n",
    "    tm.add_ridge(2, 3, 0.5)\n",
    "    tm.add_right_boundary(3, 30.)\n",
    "    \n",
    "else:\n",
    "    print('loading from checkpoint / dict')\n",
    "    tm.pop_from_dict_of_lists(tmDict)"
   ]
  },
  {
   "cell_type": "code",
   "execution_count": 40,
   "metadata": {},
   "outputs": [],
   "source": [
    "#tm.is_subduction_boundary((1,2))"
   ]
  },
  {
   "cell_type": "markdown",
   "metadata": {},
   "source": [
    "## Checkpointing"
   ]
  },
  {
   "cell_type": "code",
   "execution_count": 41,
   "metadata": {},
   "outputs": [],
   "source": [
    "tmDict = nx.to_dict_of_dicts(tm)\n",
    "cp.addDict(tmDict, 'tmDict')"
   ]
  },
  {
   "cell_type": "markdown",
   "metadata": {},
   "source": [
    "## Check updatedness of tmDict when we change tm"
   ]
  },
  {
   "cell_type": "code",
   "execution_count": 42,
   "metadata": {},
   "outputs": [
    {
     "name": "stdout",
     "output_type": "stream",
     "text": [
      "0.5\n",
      "0.5\n"
     ]
    }
   ],
   "source": [
    "print(tm[2][3]['loc'])\n",
    "print(tmDict[2][3]['loc'])"
   ]
  },
  {
   "cell_type": "code",
   "execution_count": 43,
   "metadata": {},
   "outputs": [
    {
     "name": "stdout",
     "output_type": "stream",
     "text": [
      "0.6\n",
      "0.6\n"
     ]
    }
   ],
   "source": [
    "tm.set_bound_loc((2,3), 0.6)\n",
    "print(tm[2][3]['loc'])\n",
    "print(tmDict[2][3]['loc'])"
   ]
  },
  {
   "cell_type": "code",
   "execution_count": 44,
   "metadata": {},
   "outputs": [
    {
     "name": "stdout",
     "output_type": "stream",
     "text": [
      "[ nan  nan  nan  nan  nan  nan  nan  nan  nan  nan  nan  nan  nan  nan  nan\n",
      "  nan  nan  nan  nan  nan]\n"
     ]
    }
   ],
   "source": [
    "print(tmDict[2][3]['velocities'])"
   ]
  },
  {
   "cell_type": "code",
   "execution_count": 45,
   "metadata": {},
   "outputs": [],
   "source": [
    "tm[2][3]['velocities'] = np.ones(len(tm[2][3]['velocities'] ))"
   ]
  },
  {
   "cell_type": "code",
   "execution_count": 46,
   "metadata": {},
   "outputs": [
    {
     "name": "stdout",
     "output_type": "stream",
     "text": [
      "[ 1.  1.  1.  1.  1.  1.  1.  1.  1.  1.  1.  1.  1.  1.  1.  1.  1.  1.\n",
      "  1.  1.]\n"
     ]
    }
   ],
   "source": [
    "print(tmDict[2][3]['velocities'])"
   ]
  },
  {
   "cell_type": "markdown",
   "metadata": {},
   "source": [
    "# Checkpointing the dict"
   ]
  },
  {
   "cell_type": "code",
   "execution_count": 47,
   "metadata": {},
   "outputs": [],
   "source": [
    "step = 0\n",
    "time = 0.0\n",
    "\n",
    "cp.saveDicts(step, time)"
   ]
  },
  {
   "cell_type": "code",
   "execution_count": null,
   "metadata": {
    "collapsed": true
   },
   "outputs": [],
   "source": []
  },
  {
   "cell_type": "code",
   "execution_count": null,
   "metadata": {
    "collapsed": true
   },
   "outputs": [],
   "source": []
  }
 ],
 "metadata": {
  "kernelspec": {
   "display_name": "Python 3",
   "language": "python",
   "name": "python3"
  },
  "language_info": {
   "codemirror_mode": {
    "name": "ipython",
    "version": 3
   },
   "file_extension": ".py",
   "mimetype": "text/x-python",
   "name": "python",
   "nbconvert_exporter": "python",
   "pygments_lexer": "ipython3",
   "version": "3.5.3"
  }
 },
 "nbformat": 4,
 "nbformat_minor": 2
}
